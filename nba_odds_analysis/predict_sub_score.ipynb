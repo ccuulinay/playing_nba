{
 "cells": [
  {
   "cell_type": "code",
   "execution_count": 1,
   "metadata": {
    "collapsed": true
   },
   "outputs": [],
   "source": [
    "import pandas as pd\n",
    "from pymongo import MongoClient\n",
    "import numpy as np\n",
    "from sklearn.ensemble import RandomForestClassifier\n",
    "from sklearn import tree\n",
    "from sklearn.tree import DecisionTreeClassifier\n",
    "from sklearn.model_selection import train_test_split\n",
    "from sklearn.preprocessing import StandardScaler\n",
    "from sklearn.pipeline import Pipeline\n",
    "from decimal import Decimal\n",
    "import odds_data_getter as odg\n"
   ]
  },
  {
   "cell_type": "code",
   "execution_count": 2,
   "metadata": {
    "collapsed": true
   },
   "outputs": [],
   "source": [
    "teams_df = pd.read_json('/Users/ccuulinay/github_proj/scrapy_proj/nba_odds_spider/lab/collection_backup/all_teams.json')"
   ]
  },
  {
   "cell_type": "code",
   "execution_count": 3,
   "metadata": {
    "collapsed": true
   },
   "outputs": [],
   "source": [
    "teams_df.drop(['TEAM_CITY', 'TEAM_NAME'],axis=1, inplace=True)"
   ]
  },
  {
   "cell_type": "code",
   "execution_count": 4,
   "metadata": {
    "collapsed": false
   },
   "outputs": [],
   "source": [
    "advanced_stat_df = pd.read_json('./advanced_data_slice_201702.json')"
   ]
  },
  {
   "cell_type": "code",
   "execution_count": 5,
   "metadata": {
    "collapsed": true
   },
   "outputs": [],
   "source": [
    "def read_n_preprocess_ah_df():\n",
    "    ah_df = odg.read_mongo_data_to_dataframe()\n",
    "    ah_df = ah_df[ah_df.away_team != 'Team USA']\n",
    "    ah_df = ah_df[ah_df.away_team != 'West']\n",
    "    ah_df = ah_df[ah_df.home_team != 'Team World']\n",
    "    ah_df = ah_df[ah_df.away_team != 'EAST']\n",
    "    \n",
    "    ah_df = ah_df.merge(teams_df, how='left', left_on='away_team', right_on='FULL_TEAM_NAME')\n",
    "    ah_df.drop(['FULL_TEAM_NAME'],axis=1, inplace=True)\n",
    "    ah_df.rename(columns={'TEAM_ID': 'away_team_id'}, inplace=True)\n",
    "    ah_df = ah_df.merge(teams_df, how='left', left_on='home_team', right_on='FULL_TEAM_NAME')\n",
    "    ah_df.drop(['FULL_TEAM_NAME'],axis=1, inplace=True)\n",
    "    ah_df.rename(columns={'TEAM_ID': 'home_team_id'}, inplace=True)\n",
    "    \n",
    "    ah_df['winner'] = np.where(ah_df['score_home'] - ah_df['score_away'] > 0, 'home', 'away')\n",
    "    ah_df['ot'] = ah_df['overtime'].apply(lambda x: 1 if x == True else 0)\n",
    "    ah_df['home_win'] = ah_df['winner'].apply(lambda x: 1 if x == 'home' else 0)\n",
    "\n",
    "    ah_df['date_time_DT'] = pd.to_datetime(ah_df['date_time'])\n",
    "    ah_df['year'] = ah_df['date_time_DT'].dt.year.astype(int)\n",
    "    ah_df['month'] = ah_df['date_time_DT'].dt.month.astype(int)\n",
    "    ah_df['day'] = ah_df['date_time_DT'].dt.day.astype(int)\n",
    "    ah_df['weekDay'] = ah_df['date_time_DT'].dt.dayofweek.astype(int)\n",
    "\n",
    "    for i in range(1, 5):\n",
    "        ah_df[\"new_odd_home_\" + str(i)] = ah_df[\"odd_home_\" + str(i)].apply(lambda x: odg.to_decimal(x))\n",
    "        ah_df[\"new_odd_away_\" + str(i)] = ah_df[\"odd_away_\" + str(i)].apply(lambda x: odg.to_decimal(x))\n",
    "        ah_df[\"new_odd_home_\" + str(i)] = ah_df[\"new_odd_home_\" + str(i)].astype(float)\n",
    "        ah_df[\"new_odd_away_\" + str(i)] = ah_df[\"new_odd_away_\" + str(i)].astype(float)\n",
    "\n",
    "    ah_df.drop(\n",
    "        ['odd_home_1', 'odd_home_2', 'odd_home_3', 'odd_home_4', 'odd_away_1', 'odd_away_2', 'odd_away_3',\n",
    "         'odd_away_4'],\n",
    "        axis=1, inplace=True)\n",
    "    \n",
    "    one_hot = pd.get_dummies(ah_df[['away_team', 'home_team']], prefix=['away_team_', 'home_team_'])\n",
    "    ah_df = ah_df.join(one_hot)\n",
    "    ah_df.drop(['away_team', 'home_team'], axis=1, inplace=True)\n",
    "    ah_df.drop(['date_time', 'date_time_DT', 'winner', 'overtime'], axis=1, inplace=True)\n",
    "\n",
    "    ah_df['total_score'] = ah_df['score_home'] + ah_df['score_away']\n",
    "    ah_df['sub_score'] = ah_df['score_home'] - ah_df['score_away']\n",
    "    \n",
    "    # ah_df['bet_winner'] = np.where(float(row['sub_score']) + float(row['ah_'+str(num)]) >= 0, 'home', 'away')\n",
    "\n",
    "    ah_df.rename(columns=lambda x: x.replace(' ', '_'), inplace=True)\n",
    "    return ah_df"
   ]
  },
  {
   "cell_type": "code",
   "execution_count": 6,
   "metadata": {
    "collapsed": false
   },
   "outputs": [],
   "source": [
    "ah_df = read_n_preprocess_ah_df()"
   ]
  },
  {
   "cell_type": "code",
   "execution_count": 7,
   "metadata": {
    "collapsed": false
   },
   "outputs": [],
   "source": [
    "COLUMNS = ['away_team__Atlanta_Hawks',\n",
    "           'away_team__Boston_Celtics',\n",
    "           'away_team__Brooklyn_Nets',\n",
    "           'away_team__Charlotte_Hornets',\n",
    "           'away_team__Chicago_Bulls',\n",
    "           'away_team__Cleveland_Cavaliers',\n",
    "           'away_team__Dallas_Mavericks',\n",
    "           'away_team__Denver_Nuggets',\n",
    "           'away_team__Detroit_Pistons',\n",
    "           'away_team__Golden_State_Warriors',\n",
    "           'away_team__Houston_Rockets',\n",
    "           'away_team__Indiana_Pacers',\n",
    "           'away_team__Los_Angeles_Clippers',\n",
    "           'away_team__Los_Angeles_Lakers',\n",
    "           'away_team__Memphis_Grizzlies',\n",
    "           'away_team__Miami_Heat',\n",
    "           'away_team__Milwaukee_Bucks',\n",
    "           'away_team__Minnesota_Timberwolves',\n",
    "           'away_team__New_Orleans_Pelicans',\n",
    "           'away_team__New_York_Knicks',\n",
    "           'away_team__Oklahoma_City_Thunder',\n",
    "           'away_team__Orlando_Magic',\n",
    "           'away_team__Philadelphia_76ers',\n",
    "           'away_team__Phoenix_Suns',\n",
    "           'away_team__Portland_Trail_Blazers',\n",
    "           'away_team__Sacramento_Kings',\n",
    "           'away_team__San_Antonio_Spurs',\n",
    "           'away_team__Toronto_Raptors',\n",
    "           'away_team__Utah_Jazz',\n",
    "           'away_team__Washington_Wizards',\n",
    "           'home_team__Atlanta_Hawks',\n",
    "           'home_team__Boston_Celtics',\n",
    "           'home_team__Brooklyn_Nets',\n",
    "           'home_team__Charlotte_Hornets',\n",
    "           'home_team__Chicago_Bulls',\n",
    "           'home_team__Cleveland_Cavaliers',\n",
    "           'home_team__Dallas_Mavericks',\n",
    "           'home_team__Denver_Nuggets',\n",
    "           'home_team__Detroit_Pistons',\n",
    "           'home_team__Golden_State_Warriors',\n",
    "           'home_team__Houston_Rockets',\n",
    "           'home_team__Indiana_Pacers',\n",
    "           'home_team__Los_Angeles_Clippers',\n",
    "           'home_team__Los_Angeles_Lakers',\n",
    "           'home_team__Memphis_Grizzlies',\n",
    "           'home_team__Miami_Heat',\n",
    "           'home_team__Milwaukee_Bucks',\n",
    "           'home_team__Minnesota_Timberwolves',\n",
    "           'home_team__New_Orleans_Pelicans',\n",
    "           'home_team__New_York_Knicks',\n",
    "           'home_team__Oklahoma_City_Thunder',\n",
    "           'home_team__Orlando_Magic',\n",
    "           'home_team__Philadelphia_76ers',\n",
    "           'home_team__Phoenix_Suns',\n",
    "           'home_team__Portland_Trail_Blazers',\n",
    "           'home_team__Sacramento_Kings',\n",
    "           'home_team__San_Antonio_Spurs',\n",
    "           'home_team__Toronto_Raptors',\n",
    "           'home_team__Utah_Jazz',\n",
    "           'home_team__Washington_Wizards',\n",
    "           'away_team_id',\n",
    "           'home_team_id',\n",
    "           'ah_1',\n",
    "#            'odd_cnt_1',\n",
    "           'new_odd_home_1',\n",
    "           'new_odd_away_1',\n",
    "#            'ah_2',\n",
    "#            'odd_cnt_2',\n",
    "#            'new_odd_home_2',\n",
    "#            'new_odd_away_2',\n",
    "#            'ah_3',\n",
    "#            'odd_cnt_3',\n",
    "#            'new_odd_home_3',\n",
    "#            'new_odd_away_3',\n",
    "#            'ah_4',\n",
    "#            'odd_cnt_4',\n",
    "#            'new_odd_home_4',\n",
    "#            'new_odd_away_4',\n",
    "           'year',\n",
    "           'month',\n",
    "           'day',\n",
    "           'weekDay',\n",
    "#            'ot',\n",
    "           'home_win',\n",
    "           'score_away',\n",
    "           'score_home',\n",
    "           'total_score',\n",
    "           'sub_score']\n",
    "\n",
    "FEATURES = COLUMNS[:-5]"
   ]
  },
  {
   "cell_type": "code",
   "execution_count": 8,
   "metadata": {
    "collapsed": false
   },
   "outputs": [],
   "source": [
    "ah_df = ah_df[COLUMNS]\n",
    "home_win = ah_df['home_win']\n",
    "sub_score = ah_df['sub_score']\n",
    "ah_df.sort_values(by=['year', 'month','day'], ascending=[1, 1, 1], inplace=True)"
   ]
  },
  {
   "cell_type": "code",
   "execution_count": 9,
   "metadata": {
    "collapsed": false
   },
   "outputs": [
    {
     "data": {
      "text/html": [
       "<div>\n",
       "<table border=\"1\" class=\"dataframe\">\n",
       "  <thead>\n",
       "    <tr style=\"text-align: right;\">\n",
       "      <th></th>\n",
       "      <th>away_team__Atlanta_Hawks</th>\n",
       "      <th>away_team__Boston_Celtics</th>\n",
       "      <th>away_team__Brooklyn_Nets</th>\n",
       "      <th>away_team__Charlotte_Hornets</th>\n",
       "      <th>away_team__Chicago_Bulls</th>\n",
       "      <th>away_team__Cleveland_Cavaliers</th>\n",
       "      <th>away_team__Dallas_Mavericks</th>\n",
       "      <th>away_team__Denver_Nuggets</th>\n",
       "      <th>away_team__Detroit_Pistons</th>\n",
       "      <th>away_team__Golden_State_Warriors</th>\n",
       "      <th>...</th>\n",
       "      <th>new_odd_away_1</th>\n",
       "      <th>year</th>\n",
       "      <th>month</th>\n",
       "      <th>day</th>\n",
       "      <th>weekDay</th>\n",
       "      <th>home_win</th>\n",
       "      <th>score_away</th>\n",
       "      <th>score_home</th>\n",
       "      <th>total_score</th>\n",
       "      <th>sub_score</th>\n",
       "    </tr>\n",
       "  </thead>\n",
       "  <tbody>\n",
       "    <tr>\n",
       "      <th>1185</th>\n",
       "      <td>0</td>\n",
       "      <td>0</td>\n",
       "      <td>0</td>\n",
       "      <td>0</td>\n",
       "      <td>0</td>\n",
       "      <td>0</td>\n",
       "      <td>0</td>\n",
       "      <td>0</td>\n",
       "      <td>0</td>\n",
       "      <td>0</td>\n",
       "      <td>...</td>\n",
       "      <td>1.89</td>\n",
       "      <td>2014</td>\n",
       "      <td>10</td>\n",
       "      <td>5</td>\n",
       "      <td>6</td>\n",
       "      <td>0</td>\n",
       "      <td>98</td>\n",
       "      <td>86</td>\n",
       "      <td>184</td>\n",
       "      <td>-12</td>\n",
       "    </tr>\n",
       "    <tr>\n",
       "      <th>1186</th>\n",
       "      <td>0</td>\n",
       "      <td>0</td>\n",
       "      <td>0</td>\n",
       "      <td>0</td>\n",
       "      <td>0</td>\n",
       "      <td>0</td>\n",
       "      <td>0</td>\n",
       "      <td>0</td>\n",
       "      <td>0</td>\n",
       "      <td>0</td>\n",
       "      <td>...</td>\n",
       "      <td>1.92</td>\n",
       "      <td>2014</td>\n",
       "      <td>10</td>\n",
       "      <td>6</td>\n",
       "      <td>0</td>\n",
       "      <td>1</td>\n",
       "      <td>94</td>\n",
       "      <td>99</td>\n",
       "      <td>193</td>\n",
       "      <td>5</td>\n",
       "    </tr>\n",
       "    <tr>\n",
       "      <th>1187</th>\n",
       "      <td>0</td>\n",
       "      <td>0</td>\n",
       "      <td>0</td>\n",
       "      <td>0</td>\n",
       "      <td>0</td>\n",
       "      <td>0</td>\n",
       "      <td>0</td>\n",
       "      <td>0</td>\n",
       "      <td>0</td>\n",
       "      <td>0</td>\n",
       "      <td>...</td>\n",
       "      <td>1.91</td>\n",
       "      <td>2014</td>\n",
       "      <td>10</td>\n",
       "      <td>7</td>\n",
       "      <td>1</td>\n",
       "      <td>1</td>\n",
       "      <td>78</td>\n",
       "      <td>98</td>\n",
       "      <td>176</td>\n",
       "      <td>20</td>\n",
       "    </tr>\n",
       "    <tr>\n",
       "      <th>1188</th>\n",
       "      <td>0</td>\n",
       "      <td>0</td>\n",
       "      <td>0</td>\n",
       "      <td>0</td>\n",
       "      <td>0</td>\n",
       "      <td>0</td>\n",
       "      <td>0</td>\n",
       "      <td>0</td>\n",
       "      <td>0</td>\n",
       "      <td>0</td>\n",
       "      <td>...</td>\n",
       "      <td>1.89</td>\n",
       "      <td>2014</td>\n",
       "      <td>10</td>\n",
       "      <td>7</td>\n",
       "      <td>1</td>\n",
       "      <td>1</td>\n",
       "      <td>87</td>\n",
       "      <td>93</td>\n",
       "      <td>180</td>\n",
       "      <td>6</td>\n",
       "    </tr>\n",
       "    <tr>\n",
       "      <th>1190</th>\n",
       "      <td>0</td>\n",
       "      <td>0</td>\n",
       "      <td>0</td>\n",
       "      <td>0</td>\n",
       "      <td>0</td>\n",
       "      <td>0</td>\n",
       "      <td>0</td>\n",
       "      <td>1</td>\n",
       "      <td>0</td>\n",
       "      <td>0</td>\n",
       "      <td>...</td>\n",
       "      <td>1.90</td>\n",
       "      <td>2014</td>\n",
       "      <td>10</td>\n",
       "      <td>7</td>\n",
       "      <td>1</td>\n",
       "      <td>1</td>\n",
       "      <td>95</td>\n",
       "      <td>98</td>\n",
       "      <td>193</td>\n",
       "      <td>3</td>\n",
       "    </tr>\n",
       "  </tbody>\n",
       "</table>\n",
       "<p>5 rows × 74 columns</p>\n",
       "</div>"
      ],
      "text/plain": [
       "      away_team__Atlanta_Hawks  away_team__Boston_Celtics  \\\n",
       "1185                         0                          0   \n",
       "1186                         0                          0   \n",
       "1187                         0                          0   \n",
       "1188                         0                          0   \n",
       "1190                         0                          0   \n",
       "\n",
       "      away_team__Brooklyn_Nets  away_team__Charlotte_Hornets  \\\n",
       "1185                         0                             0   \n",
       "1186                         0                             0   \n",
       "1187                         0                             0   \n",
       "1188                         0                             0   \n",
       "1190                         0                             0   \n",
       "\n",
       "      away_team__Chicago_Bulls  away_team__Cleveland_Cavaliers  \\\n",
       "1185                         0                               0   \n",
       "1186                         0                               0   \n",
       "1187                         0                               0   \n",
       "1188                         0                               0   \n",
       "1190                         0                               0   \n",
       "\n",
       "      away_team__Dallas_Mavericks  away_team__Denver_Nuggets  \\\n",
       "1185                            0                          0   \n",
       "1186                            0                          0   \n",
       "1187                            0                          0   \n",
       "1188                            0                          0   \n",
       "1190                            0                          1   \n",
       "\n",
       "      away_team__Detroit_Pistons  away_team__Golden_State_Warriors    ...      \\\n",
       "1185                           0                                 0    ...       \n",
       "1186                           0                                 0    ...       \n",
       "1187                           0                                 0    ...       \n",
       "1188                           0                                 0    ...       \n",
       "1190                           0                                 0    ...       \n",
       "\n",
       "      new_odd_away_1  year  month  day  weekDay  home_win  score_away  \\\n",
       "1185            1.89  2014     10    5        6         0          98   \n",
       "1186            1.92  2014     10    6        0         1          94   \n",
       "1187            1.91  2014     10    7        1         1          78   \n",
       "1188            1.89  2014     10    7        1         1          87   \n",
       "1190            1.90  2014     10    7        1         1          95   \n",
       "\n",
       "      score_home  total_score  sub_score  \n",
       "1185          86          184        -12  \n",
       "1186          99          193          5  \n",
       "1187          98          176         20  \n",
       "1188          93          180          6  \n",
       "1190          98          193          3  \n",
       "\n",
       "[5 rows x 74 columns]"
      ]
     },
     "execution_count": 9,
     "metadata": {},
     "output_type": "execute_result"
    }
   ],
   "source": [
    "ah_df.head()"
   ]
  },
  {
   "cell_type": "code",
   "execution_count": 11,
   "metadata": {
    "collapsed": false
   },
   "outputs": [],
   "source": [
    "result_df = pd.merge(advanced_stat_df, ah_df, left_index=True, right_index=True, how='inner')"
   ]
  },
  {
   "cell_type": "code",
   "execution_count": 17,
   "metadata": {
    "collapsed": true
   },
   "outputs": [],
   "source": [
    "COLUMNS = result_df.columns.tolist()\n",
    "FEATURES = COLUMNS[:-5]"
   ]
  },
  {
   "cell_type": "code",
   "execution_count": 13,
   "metadata": {
    "collapsed": false
   },
   "outputs": [
    {
     "data": {
      "text/plain": [
       "(3591, 152)"
      ]
     },
     "execution_count": 13,
     "metadata": {},
     "output_type": "execute_result"
    }
   ],
   "source": [
    "result_data = result_df.as_matrix()\n",
    "result_data.shape"
   ]
  },
  {
   "cell_type": "code",
   "execution_count": 14,
   "metadata": {
    "collapsed": false
   },
   "outputs": [],
   "source": [
    "train_data = result_data[:,:-5]\n",
    "train_label = result_data[:,-5:].astype(int)"
   ]
  },
  {
   "cell_type": "code",
   "execution_count": 42,
   "metadata": {
    "collapsed": true
   },
   "outputs": [],
   "source": [
    "from sklearn.ensemble import RandomForestRegressor\n",
    "x_train, x_test, y_train, y_test = train_test_split(train_data,train_label[:,4], test_size=0.3)\n",
    "# clf = RandomForestClassifier(n_estimators=200, criterion='entropy', max_depth=4)\n",
    "\n",
    "clf = Pipeline([\n",
    "        ('ss', StandardScaler()),\n",
    "        ('DTC', RandomForestRegressor(n_estimators=200, criterion='mse', max_depth=4))])\n",
    "rf_clf = clf.fit(x_train, y_train)\n",
    "y_hat = rf_clf.predict(x_test)"
   ]
  },
  {
   "cell_type": "code",
   "execution_count": 43,
   "metadata": {
    "collapsed": false
   },
   "outputs": [
    {
     "data": {
      "text/plain": [
       "67.479935695607438"
      ]
     },
     "execution_count": 43,
     "metadata": {},
     "output_type": "execute_result"
    }
   ],
   "source": [
    "payout_df = pd.DataFrame(x_test, columns=FEATURES)\n",
    "payout_df['predict_subscore'] = y_hat\n",
    "payout_df['home_win'] = home_win\n",
    "payout_df['sub_score'] = sub_score\n",
    "# payout_df.head()\n",
    "payout_df['payout_1'] = payout_df.apply(lambda x : odg.calculate_payout(x), axis=1)\n",
    "# payout_df['payout_2'] = payout_df.apply(lambda x : calculate_payout(x, num=2), axis=1)\n",
    "# payout_df['payout_3'] = payout_df.apply(lambda x : calculate_payout(x, num=3), axis=1)\n",
    "# payout_df['payout_4'] = payout_df.apply(lambda x : calculate_payout(x, num=4), axis=1)\n",
    "payout_df.payout_1.sum() # ,payout_df.payout_2.sum(),payout_df.payout_3.sum(),payout_df.payout_4.sum()"
   ]
  },
  {
   "cell_type": "code",
   "execution_count": 40,
   "metadata": {
    "collapsed": false
   },
   "outputs": [
    {
     "name": "stdout",
     "output_type": "stream",
     "text": [
      "[0]\teval-rmse:12.7101\ttrain-rmse:11.0091\n",
      "[1]\teval-rmse:13.1057\ttrain-rmse:10.3104\n",
      "[2]\teval-rmse:13.3924\ttrain-rmse:9.69237\n",
      "[3]\teval-rmse:13.6263\ttrain-rmse:9.18781\n",
      "[4]\teval-rmse:13.8232\ttrain-rmse:8.83794\n",
      "[5]\teval-rmse:13.9848\ttrain-rmse:8.51979\n"
     ]
    }
   ],
   "source": [
    "# Try XGBoost on subscore\n",
    "import xgboost as xgb\n",
    "x_train, x_test, y_train, y_test = train_test_split(train_data,train_label[:,4], test_size=0.3)\n",
    "\n",
    "data_train = xgb.DMatrix(x_train, label=y_train)\n",
    "data_test = xgb.DMatrix(x_test, label=y_test)\n",
    "watch_list = [(data_test, 'eval'), (data_train, 'train')]\n",
    "param = {'max_depth': 6, 'eta': 1, 'silent': 1, 'objective': 'reg:linear'}\n",
    "bst = xgb.train(param, data_train, num_boost_round=6, evals=watch_list)\n",
    "y_hat = bst.predict(data_test)"
   ]
  },
  {
   "cell_type": "code",
   "execution_count": 41,
   "metadata": {
    "collapsed": false
   },
   "outputs": [
    {
     "data": {
      "text/plain": [
       "-47.999460566455255"
      ]
     },
     "execution_count": 41,
     "metadata": {},
     "output_type": "execute_result"
    }
   ],
   "source": [
    "payout_df = pd.DataFrame(x_test, columns=FEATURES)\n",
    "payout_df['predict_subscore'] = y_hat\n",
    "payout_df['home_win'] = home_win\n",
    "payout_df['sub_score'] = sub_score\n",
    "payout_df.head()\n",
    "payout_df['payout_1'] = payout_df.apply(lambda x : odg.calculate_payout(x), axis=1)\n",
    "#payout_df['payout_2'] = payout_df.apply(lambda x : calculate_payout(x, num=2), axis=1)\n",
    "#payout_df['payout_3'] = payout_df.apply(lambda x : calculate_payout(x, num=3), axis=1)\n",
    "#payout_df['payout_4'] = payout_df.apply(lambda x : calculate_payout(x, num=4), axis=1)\n",
    "payout_df.payout_1.sum()#, payout_df.payout_2.sum(),payout_df.payout_3.sum(),payout_df.payout_4.sum()"
   ]
  },
  {
   "cell_type": "code",
   "execution_count": 47,
   "metadata": {
    "collapsed": false
   },
   "outputs": [],
   "source": [
    "# Build a linear regressor for subscore\n",
    "from sklearn.linear_model import LinearRegression\n",
    "from sklearn.linear_model import Lasso, Ridge\n",
    "from sklearn.model_selection import GridSearchCV\n",
    "\n",
    "x_train, x_test, y_train, y_test = train_test_split(train_data,train_label[:,4], test_size=0.3)\n",
    "# clf = RandomForestClassifier(n_estimators=200, criterion='entropy', max_depth=4)\n",
    "\n",
    "linreg = LinearRegression()\n",
    "lr_model = linreg.fit(x_train, y_train)\n",
    "y_hat = linreg.predict(x_test)"
   ]
  },
  {
   "cell_type": "code",
   "execution_count": 48,
   "metadata": {
    "collapsed": false
   },
   "outputs": [
    {
     "data": {
      "text/plain": [
       "27.660216624571657"
      ]
     },
     "execution_count": 48,
     "metadata": {},
     "output_type": "execute_result"
    }
   ],
   "source": [
    "payout_df = pd.DataFrame(x_test, columns=FEATURES)\n",
    "payout_df['predict_subscore'] = y_hat\n",
    "payout_df['home_win'] = home_win\n",
    "payout_df['sub_score'] = sub_score\n",
    "payout_df.head()\n",
    "payout_df['payout_1'] = payout_df.apply(lambda x : odg.calculate_payout(x), axis=1)\n",
    "# payout_df['payout_2'] = payout_df.apply(lambda x : calculate_payout(x, num=2), axis=1)\n",
    "# payout_df['payout_3'] = payout_df.apply(lambda x : calculate_payout(x, num=3), axis=1)\n",
    "# payout_df['payout_4'] = payout_df.apply(lambda x : calculate_payout(x, num=4), axis=1)\n",
    "payout_df.payout_1.sum()# , payout_df.payout_2.sum(),payout_df.payout_3.sum(),payout_df.payout_4.sum()"
   ]
  },
  {
   "cell_type": "code",
   "execution_count": null,
   "metadata": {
    "collapsed": true
   },
   "outputs": [],
   "source": []
  }
 ],
 "metadata": {
  "kernelspec": {
   "display_name": "Python 2",
   "language": "python",
   "name": "python2"
  },
  "language_info": {
   "codemirror_mode": {
    "name": "ipython",
    "version": 2
   },
   "file_extension": ".py",
   "mimetype": "text/x-python",
   "name": "python",
   "nbconvert_exporter": "python",
   "pygments_lexer": "ipython2",
   "version": "2.7.9"
  }
 },
 "nbformat": 4,
 "nbformat_minor": 0
}
