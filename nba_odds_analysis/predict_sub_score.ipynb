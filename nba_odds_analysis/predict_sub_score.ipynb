{
 "cells": [
  {
   "cell_type": "code",
   "execution_count": 1,
   "metadata": {
    "collapsed": true
   },
   "outputs": [],
   "source": [
    "import pandas as pd\n",
    "from pymongo import MongoClient\n",
    "import numpy as np\n",
    "from sklearn.ensemble import RandomForestClassifier\n",
    "from sklearn import tree\n",
    "from sklearn.tree import DecisionTreeClassifier\n",
    "from sklearn.model_selection import train_test_split\n",
    "from sklearn.preprocessing import StandardScaler\n",
    "from sklearn.pipeline import Pipeline\n",
    "from decimal import Decimal\n",
    "import odds_data_getter as odg\n"
   ]
  },
  {
   "cell_type": "code",
   "execution_count": 2,
   "metadata": {
    "collapsed": true
   },
   "outputs": [],
   "source": [
    "teams_df = pd.read_json('/Users/ccuulinay/github_proj/scrapy_proj/nba_odds_spider/lab/collection_backup/all_teams.json')"
   ]
  },
  {
   "cell_type": "code",
   "execution_count": 3,
   "metadata": {
    "collapsed": true
   },
   "outputs": [],
   "source": [
    "teams_df.drop(['TEAM_CITY', 'TEAM_NAME'],axis=1, inplace=True)"
   ]
  },
  {
   "cell_type": "code",
   "execution_count": 4,
   "metadata": {
    "collapsed": false
   },
   "outputs": [],
   "source": [
    "advanced_stat_df = pd.read_json('./advanced_data_slice_201702.json')"
   ]
  },
  {
   "cell_type": "code",
   "execution_count": 5,
   "metadata": {
    "collapsed": true
   },
   "outputs": [],
   "source": [
    "def read_n_preprocess_ah_df():\n",
    "    ah_df = odg.read_mongo_data_to_dataframe()\n",
    "    ah_df = ah_df[ah_df.away_team != 'Team USA']\n",
    "    ah_df = ah_df[ah_df.away_team != 'West']\n",
    "    ah_df = ah_df[ah_df.home_team != 'Team World']\n",
    "    ah_df = ah_df[ah_df.away_team != 'EAST']\n",
    "    \n",
    "    ah_df = ah_df.merge(teams_df, how='left', left_on='away_team', right_on='FULL_TEAM_NAME')\n",
    "    ah_df.drop(['FULL_TEAM_NAME'],axis=1, inplace=True)\n",
    "    ah_df.rename(columns={'TEAM_ID': 'away_team_id'}, inplace=True)\n",
    "    ah_df = ah_df.merge(teams_df, how='left', left_on='home_team', right_on='FULL_TEAM_NAME')\n",
    "    ah_df.drop(['FULL_TEAM_NAME'],axis=1, inplace=True)\n",
    "    ah_df.rename(columns={'TEAM_ID': 'home_team_id'}, inplace=True)\n",
    "    \n",
    "    ah_df['winner'] = np.where(ah_df['score_home'] - ah_df['score_away'] > 0, 'home', 'away')\n",
    "    ah_df['ot'] = ah_df['overtime'].apply(lambda x: 1 if x == True else 0)\n",
    "    ah_df['home_win'] = ah_df['winner'].apply(lambda x: 1 if x == 'home' else 0)\n",
    "\n",
    "    ah_df['date_time_DT'] = pd.to_datetime(ah_df['date_time'])\n",
    "    ah_df['year'] = ah_df['date_time_DT'].dt.year.astype(int)\n",
    "    ah_df['month'] = ah_df['date_time_DT'].dt.month.astype(int)\n",
    "    ah_df['day'] = ah_df['date_time_DT'].dt.day.astype(int)\n",
    "    ah_df['weekDay'] = ah_df['date_time_DT'].dt.dayofweek.astype(int)\n",
    "\n",
    "    for i in range(1, 5):\n",
    "        ah_df[\"new_odd_home_\" + str(i)] = ah_df[\"odd_home_\" + str(i)].apply(lambda x: odg.to_decimal(x))\n",
    "        ah_df[\"new_odd_away_\" + str(i)] = ah_df[\"odd_away_\" + str(i)].apply(lambda x: odg.to_decimal(x))\n",
    "        ah_df[\"new_odd_home_\" + str(i)] = ah_df[\"new_odd_home_\" + str(i)].astype(float)\n",
    "        ah_df[\"new_odd_away_\" + str(i)] = ah_df[\"new_odd_away_\" + str(i)].astype(float)\n",
    "\n",
    "    ah_df.drop(\n",
    "        ['odd_home_1', 'odd_home_2', 'odd_home_3', 'odd_home_4', 'odd_away_1', 'odd_away_2', 'odd_away_3',\n",
    "         'odd_away_4'],\n",
    "        axis=1, inplace=True)\n",
    "    \n",
    "    one_hot = pd.get_dummies(ah_df[['away_team', 'home_team']], prefix=['away_team_', 'home_team_'])\n",
    "    ah_df = ah_df.join(one_hot)\n",
    "    ah_df.drop(['away_team', 'home_team'], axis=1, inplace=True)\n",
    "    ah_df.drop(['date_time', 'date_time_DT', 'winner', 'overtime'], axis=1, inplace=True)\n",
    "\n",
    "    ah_df['total_score'] = ah_df['score_home'] + ah_df['score_away']\n",
    "    ah_df['sub_score'] = ah_df['score_home'] - ah_df['score_away']\n",
    "    \n",
    "    # ah_df['bet_winner'] = np.where(float(row['sub_score']) + float(row['ah_'+str(num)]) >= 0, 'home', 'away')\n",
    "\n",
    "    ah_df.rename(columns=lambda x: x.replace(' ', '_'), inplace=True)\n",
    "    return ah_df"
   ]
  },
  {
   "cell_type": "code",
   "execution_count": 6,
   "metadata": {
    "collapsed": false
   },
   "outputs": [],
   "source": [
    "ah_df = read_n_preprocess_ah_df()"
   ]
  },
  {
   "cell_type": "code",
   "execution_count": 7,
   "metadata": {
    "collapsed": false
   },
   "outputs": [],
   "source": [
    "COLUMNS = ['away_team__Atlanta_Hawks',\n",
    "           'away_team__Boston_Celtics',\n",
    "           'away_team__Brooklyn_Nets',\n",
    "           'away_team__Charlotte_Hornets',\n",
    "           'away_team__Chicago_Bulls',\n",
    "           'away_team__Cleveland_Cavaliers',\n",
    "           'away_team__Dallas_Mavericks',\n",
    "           'away_team__Denver_Nuggets',\n",
    "           'away_team__Detroit_Pistons',\n",
    "           'away_team__Golden_State_Warriors',\n",
    "           'away_team__Houston_Rockets',\n",
    "           'away_team__Indiana_Pacers',\n",
    "           'away_team__Los_Angeles_Clippers',\n",
    "           'away_team__Los_Angeles_Lakers',\n",
    "           'away_team__Memphis_Grizzlies',\n",
    "           'away_team__Miami_Heat',\n",
    "           'away_team__Milwaukee_Bucks',\n",
    "           'away_team__Minnesota_Timberwolves',\n",
    "           'away_team__New_Orleans_Pelicans',\n",
    "           'away_team__New_York_Knicks',\n",
    "           'away_team__Oklahoma_City_Thunder',\n",
    "           'away_team__Orlando_Magic',\n",
    "           'away_team__Philadelphia_76ers',\n",
    "           'away_team__Phoenix_Suns',\n",
    "           'away_team__Portland_Trail_Blazers',\n",
    "           'away_team__Sacramento_Kings',\n",
    "           'away_team__San_Antonio_Spurs',\n",
    "           'away_team__Toronto_Raptors',\n",
    "           'away_team__Utah_Jazz',\n",
    "           'away_team__Washington_Wizards',\n",
    "           'home_team__Atlanta_Hawks',\n",
    "           'home_team__Boston_Celtics',\n",
    "           'home_team__Brooklyn_Nets',\n",
    "           'home_team__Charlotte_Hornets',\n",
    "           'home_team__Chicago_Bulls',\n",
    "           'home_team__Cleveland_Cavaliers',\n",
    "           'home_team__Dallas_Mavericks',\n",
    "           'home_team__Denver_Nuggets',\n",
    "           'home_team__Detroit_Pistons',\n",
    "           'home_team__Golden_State_Warriors',\n",
    "           'home_team__Houston_Rockets',\n",
    "           'home_team__Indiana_Pacers',\n",
    "           'home_team__Los_Angeles_Clippers',\n",
    "           'home_team__Los_Angeles_Lakers',\n",
    "           'home_team__Memphis_Grizzlies',\n",
    "           'home_team__Miami_Heat',\n",
    "           'home_team__Milwaukee_Bucks',\n",
    "           'home_team__Minnesota_Timberwolves',\n",
    "           'home_team__New_Orleans_Pelicans',\n",
    "           'home_team__New_York_Knicks',\n",
    "           'home_team__Oklahoma_City_Thunder',\n",
    "           'home_team__Orlando_Magic',\n",
    "           'home_team__Philadelphia_76ers',\n",
    "           'home_team__Phoenix_Suns',\n",
    "           'home_team__Portland_Trail_Blazers',\n",
    "           'home_team__Sacramento_Kings',\n",
    "           'home_team__San_Antonio_Spurs',\n",
    "           'home_team__Toronto_Raptors',\n",
    "           'home_team__Utah_Jazz',\n",
    "           'home_team__Washington_Wizards',\n",
    "           'away_team_id',\n",
    "           'home_team_id',\n",
    "           'ah_1',\n",
    "#            'odd_cnt_1',\n",
    "           'new_odd_home_1',\n",
    "           'new_odd_away_1',\n",
    "#            'ah_2',\n",
    "#            'odd_cnt_2',\n",
    "#            'new_odd_home_2',\n",
    "#            'new_odd_away_2',\n",
    "#            'ah_3',\n",
    "#            'odd_cnt_3',\n",
    "#            'new_odd_home_3',\n",
    "#            'new_odd_away_3',\n",
    "#            'ah_4',\n",
    "#            'odd_cnt_4',\n",
    "#            'new_odd_home_4',\n",
    "#            'new_odd_away_4',\n",
    "           'year',\n",
    "           'month',\n",
    "           'day',\n",
    "           'weekDay',\n",
    "#            'ot',\n",
    "           'home_win',\n",
    "           'score_away',\n",
    "           'score_home',\n",
    "           'total_score',\n",
    "           'sub_score']\n",
    "\n",
    "FEATURES = COLUMNS[:-5]"
   ]
  },
  {
   "cell_type": "code",
   "execution_count": 8,
   "metadata": {
    "collapsed": false
   },
   "outputs": [],
   "source": [
    "ah_df = ah_df[COLUMNS]\n",
    "home_win = ah_df['home_win']\n",
    "sub_score = ah_df['sub_score']\n",
    "ah_df.sort_values(by=['year', 'month','day'], ascending=[1, 1, 1], inplace=True)"
   ]
  },
  {
   "cell_type": "code",
   "execution_count": 9,
   "metadata": {
    "collapsed": false
   },
   "outputs": [
    {
     "data": {
      "text/html": [
       "<div>\n",
       "<table border=\"1\" class=\"dataframe\">\n",
       "  <thead>\n",
       "    <tr style=\"text-align: right;\">\n",
       "      <th></th>\n",
       "      <th>away_team__Atlanta_Hawks</th>\n",
       "      <th>away_team__Boston_Celtics</th>\n",
       "      <th>away_team__Brooklyn_Nets</th>\n",
       "      <th>away_team__Charlotte_Hornets</th>\n",
       "      <th>away_team__Chicago_Bulls</th>\n",
       "      <th>away_team__Cleveland_Cavaliers</th>\n",
       "      <th>away_team__Dallas_Mavericks</th>\n",
       "      <th>away_team__Denver_Nuggets</th>\n",
       "      <th>away_team__Detroit_Pistons</th>\n",
       "      <th>away_team__Golden_State_Warriors</th>\n",
       "      <th>...</th>\n",
       "      <th>new_odd_away_1</th>\n",
       "      <th>year</th>\n",
       "      <th>month</th>\n",
       "      <th>day</th>\n",
       "      <th>weekDay</th>\n",
       "      <th>home_win</th>\n",
       "      <th>score_away</th>\n",
       "      <th>score_home</th>\n",
       "      <th>total_score</th>\n",
       "      <th>sub_score</th>\n",
       "    </tr>\n",
       "  </thead>\n",
       "  <tbody>\n",
       "    <tr>\n",
       "      <th>1185</th>\n",
       "      <td>0</td>\n",
       "      <td>0</td>\n",
       "      <td>0</td>\n",
       "      <td>0</td>\n",
       "      <td>0</td>\n",
       "      <td>0</td>\n",
       "      <td>0</td>\n",
       "      <td>0</td>\n",
       "      <td>0</td>\n",
       "      <td>0</td>\n",
       "      <td>...</td>\n",
       "      <td>1.89</td>\n",
       "      <td>2014</td>\n",
       "      <td>10</td>\n",
       "      <td>5</td>\n",
       "      <td>6</td>\n",
       "      <td>0</td>\n",
       "      <td>98</td>\n",
       "      <td>86</td>\n",
       "      <td>184</td>\n",
       "      <td>-12</td>\n",
       "    </tr>\n",
       "    <tr>\n",
       "      <th>1186</th>\n",
       "      <td>0</td>\n",
       "      <td>0</td>\n",
       "      <td>0</td>\n",
       "      <td>0</td>\n",
       "      <td>0</td>\n",
       "      <td>0</td>\n",
       "      <td>0</td>\n",
       "      <td>0</td>\n",
       "      <td>0</td>\n",
       "      <td>0</td>\n",
       "      <td>...</td>\n",
       "      <td>1.92</td>\n",
       "      <td>2014</td>\n",
       "      <td>10</td>\n",
       "      <td>6</td>\n",
       "      <td>0</td>\n",
       "      <td>1</td>\n",
       "      <td>94</td>\n",
       "      <td>99</td>\n",
       "      <td>193</td>\n",
       "      <td>5</td>\n",
       "    </tr>\n",
       "    <tr>\n",
       "      <th>1187</th>\n",
       "      <td>0</td>\n",
       "      <td>0</td>\n",
       "      <td>0</td>\n",
       "      <td>0</td>\n",
       "      <td>0</td>\n",
       "      <td>0</td>\n",
       "      <td>0</td>\n",
       "      <td>0</td>\n",
       "      <td>0</td>\n",
       "      <td>0</td>\n",
       "      <td>...</td>\n",
       "      <td>1.91</td>\n",
       "      <td>2014</td>\n",
       "      <td>10</td>\n",
       "      <td>7</td>\n",
       "      <td>1</td>\n",
       "      <td>1</td>\n",
       "      <td>78</td>\n",
       "      <td>98</td>\n",
       "      <td>176</td>\n",
       "      <td>20</td>\n",
       "    </tr>\n",
       "    <tr>\n",
       "      <th>1188</th>\n",
       "      <td>0</td>\n",
       "      <td>0</td>\n",
       "      <td>0</td>\n",
       "      <td>0</td>\n",
       "      <td>0</td>\n",
       "      <td>0</td>\n",
       "      <td>0</td>\n",
       "      <td>0</td>\n",
       "      <td>0</td>\n",
       "      <td>0</td>\n",
       "      <td>...</td>\n",
       "      <td>1.89</td>\n",
       "      <td>2014</td>\n",
       "      <td>10</td>\n",
       "      <td>7</td>\n",
       "      <td>1</td>\n",
       "      <td>1</td>\n",
       "      <td>87</td>\n",
       "      <td>93</td>\n",
       "      <td>180</td>\n",
       "      <td>6</td>\n",
       "    </tr>\n",
       "    <tr>\n",
       "      <th>1190</th>\n",
       "      <td>0</td>\n",
       "      <td>0</td>\n",
       "      <td>0</td>\n",
       "      <td>0</td>\n",
       "      <td>0</td>\n",
       "      <td>0</td>\n",
       "      <td>0</td>\n",
       "      <td>1</td>\n",
       "      <td>0</td>\n",
       "      <td>0</td>\n",
       "      <td>...</td>\n",
       "      <td>1.90</td>\n",
       "      <td>2014</td>\n",
       "      <td>10</td>\n",
       "      <td>7</td>\n",
       "      <td>1</td>\n",
       "      <td>1</td>\n",
       "      <td>95</td>\n",
       "      <td>98</td>\n",
       "      <td>193</td>\n",
       "      <td>3</td>\n",
       "    </tr>\n",
       "  </tbody>\n",
       "</table>\n",
       "<p>5 rows × 74 columns</p>\n",
       "</div>"
      ],
      "text/plain": [
       "      away_team__Atlanta_Hawks  away_team__Boston_Celtics  \\\n",
       "1185                         0                          0   \n",
       "1186                         0                          0   \n",
       "1187                         0                          0   \n",
       "1188                         0                          0   \n",
       "1190                         0                          0   \n",
       "\n",
       "      away_team__Brooklyn_Nets  away_team__Charlotte_Hornets  \\\n",
       "1185                         0                             0   \n",
       "1186                         0                             0   \n",
       "1187                         0                             0   \n",
       "1188                         0                             0   \n",
       "1190                         0                             0   \n",
       "\n",
       "      away_team__Chicago_Bulls  away_team__Cleveland_Cavaliers  \\\n",
       "1185                         0                               0   \n",
       "1186                         0                               0   \n",
       "1187                         0                               0   \n",
       "1188                         0                               0   \n",
       "1190                         0                               0   \n",
       "\n",
       "      away_team__Dallas_Mavericks  away_team__Denver_Nuggets  \\\n",
       "1185                            0                          0   \n",
       "1186                            0                          0   \n",
       "1187                            0                          0   \n",
       "1188                            0                          0   \n",
       "1190                            0                          1   \n",
       "\n",
       "      away_team__Detroit_Pistons  away_team__Golden_State_Warriors    ...      \\\n",
       "1185                           0                                 0    ...       \n",
       "1186                           0                                 0    ...       \n",
       "1187                           0                                 0    ...       \n",
       "1188                           0                                 0    ...       \n",
       "1190                           0                                 0    ...       \n",
       "\n",
       "      new_odd_away_1  year  month  day  weekDay  home_win  score_away  \\\n",
       "1185            1.89  2014     10    5        6         0          98   \n",
       "1186            1.92  2014     10    6        0         1          94   \n",
       "1187            1.91  2014     10    7        1         1          78   \n",
       "1188            1.89  2014     10    7        1         1          87   \n",
       "1190            1.90  2014     10    7        1         1          95   \n",
       "\n",
       "      score_home  total_score  sub_score  \n",
       "1185          86          184        -12  \n",
       "1186          99          193          5  \n",
       "1187          98          176         20  \n",
       "1188          93          180          6  \n",
       "1190          98          193          3  \n",
       "\n",
       "[5 rows x 74 columns]"
      ]
     },
     "execution_count": 9,
     "metadata": {},
     "output_type": "execute_result"
    }
   ],
   "source": [
    "ah_df.head()"
   ]
  },
  {
   "cell_type": "code",
   "execution_count": 10,
   "metadata": {
    "collapsed": false
   },
   "outputs": [],
   "source": [
    "result_df = pd.merge(advanced_stat_df, ah_df, left_index=True, right_index=True, how='inner')"
   ]
  },
  {
   "cell_type": "code",
   "execution_count": 16,
   "metadata": {
    "collapsed": true
   },
   "outputs": [],
   "source": [
    "NEW_COLUMNS = result_df.columns.tolist()\n",
    "NEW_FEATURES = NEW_COLUMNS[:-5]"
   ]
  },
  {
   "cell_type": "code",
   "execution_count": 17,
   "metadata": {
    "collapsed": false
   },
   "outputs": [
    {
     "data": {
      "text/plain": [
       "(3591, 152)"
      ]
     },
     "execution_count": 17,
     "metadata": {},
     "output_type": "execute_result"
    }
   ],
   "source": [
    "result_data = result_df.as_matrix()\n",
    "result_data.shape"
   ]
  },
  {
   "cell_type": "code",
   "execution_count": 18,
   "metadata": {
    "collapsed": false
   },
   "outputs": [],
   "source": [
    "train_data = result_data[:,:-5]\n",
    "train_label = result_data[:,-5:].astype(int)"
   ]
  },
  {
   "cell_type": "code",
   "execution_count": 19,
   "metadata": {
    "collapsed": false
   },
   "outputs": [],
   "source": [
    "from sklearn.ensemble import RandomForestRegressor\n",
    "x_train, x_test, y_train, y_test = train_test_split(train_data,train_label[:,4], test_size=0.3)\n",
    "clf = RandomForestRegressor(n_estimators=200, criterion='mse', max_depth=4)\n",
    "\n",
    "# clf = Pipeline([\n",
    "#         ('ss', StandardScaler()),\n",
    "#         ('DTC', RandomForestRegressor(n_estimators=230, criterion='mse', max_depth=4))])\n",
    "rf_clf = clf.fit(x_train, y_train)\n",
    "y_hat = rf_clf.predict(x_test)"
   ]
  },
  {
   "cell_type": "code",
   "execution_count": 20,
   "metadata": {
    "collapsed": false
   },
   "outputs": [
    {
     "data": {
      "text/plain": [
       "78.580158840314184"
      ]
     },
     "execution_count": 20,
     "metadata": {},
     "output_type": "execute_result"
    }
   ],
   "source": [
    "payout_df = pd.DataFrame(x_test, columns=NEW_FEATURES)\n",
    "payout_df['predict_subscore'] = y_hat\n",
    "payout_df['home_win'] = home_win\n",
    "payout_df['sub_score'] = sub_score\n",
    "# payout_df.head()\n",
    "payout_df['payout_1'] = payout_df.apply(lambda x : odg.calculate_payout(x), axis=1)\n",
    "# payout_df['payout_2'] = payout_df.apply(lambda x : calculate_payout(x, num=2), axis=1)\n",
    "# payout_df['payout_3'] = payout_df.apply(lambda x : calculate_payout(x, num=3), axis=1)\n",
    "# payout_df['payout_4'] = payout_df.apply(lambda x : calculate_payout(x, num=4), axis=1)\n",
    "payout_df.payout_1.sum() # ,payout_df.payout_2.sum(),payout_df.payout_3.sum(),payout_df.payout_4.sum()"
   ]
  },
  {
   "cell_type": "code",
   "execution_count": 21,
   "metadata": {
    "collapsed": false
   },
   "outputs": [
    {
     "name": "stdout",
     "output_type": "stream",
     "text": [
      "[0]\teval-rmse:12.4379\ttrain-rmse:11.6169\n",
      "[1]\teval-rmse:12.7128\ttrain-rmse:11.3283\n",
      "[2]\teval-rmse:12.7667\ttrain-rmse:11.0821\n",
      "[3]\teval-rmse:12.9821\ttrain-rmse:10.823\n",
      "[4]\teval-rmse:13.3156\ttrain-rmse:10.5354\n",
      "[5]\teval-rmse:13.4879\ttrain-rmse:10.3295\n"
     ]
    },
    {
     "name": "stderr",
     "output_type": "stream",
     "text": [
      "/Users/ccuulinay/.pyenv/versions/2.7.9/lib/python2.7/site-packages/sklearn/cross_validation.py:44: DeprecationWarning: This module was deprecated in version 0.18 in favor of the model_selection module into which all the refactored classes and functions are moved. Also note that the interface of the new CV iterators are different from that of this module. This module will be removed in 0.20.\n",
      "  \"This module will be removed in 0.20.\", DeprecationWarning)\n"
     ]
    }
   ],
   "source": [
    "# Try XGBoost on subscore\n",
    "import xgboost as xgb\n",
    "x_train, x_test, y_train, y_test = train_test_split(train_data,train_label[:,4], test_size=0.3)\n",
    "\n",
    "data_train = xgb.DMatrix(x_train, label=y_train)\n",
    "data_test = xgb.DMatrix(x_test, label=y_test)\n",
    "watch_list = [(data_test, 'eval'), (data_train, 'train')]\n",
    "param = {'max_depth': 4, 'eta': 1, 'silent': 1, 'objective': 'reg:linear'}\n",
    "bst = xgb.train(param, data_train, num_boost_round=6, evals=watch_list)\n",
    "y_hat = bst.predict(data_test)"
   ]
  },
  {
   "cell_type": "code",
   "execution_count": 22,
   "metadata": {
    "collapsed": false
   },
   "outputs": [
    {
     "data": {
      "text/plain": [
       "-46.446910668939559"
      ]
     },
     "execution_count": 22,
     "metadata": {},
     "output_type": "execute_result"
    }
   ],
   "source": [
    "payout_df = pd.DataFrame(x_test, columns=NEW_FEATURES)\n",
    "payout_df['predict_subscore'] = y_hat\n",
    "payout_df['home_win'] = home_win\n",
    "payout_df['sub_score'] = sub_score\n",
    "payout_df.head()\n",
    "payout_df['payout_1'] = payout_df.apply(lambda x : odg.calculate_payout(x), axis=1)\n",
    "#payout_df['payout_2'] = payout_df.apply(lambda x : calculate_payout(x, num=2), axis=1)\n",
    "#payout_df['payout_3'] = payout_df.apply(lambda x : calculate_payout(x, num=3), axis=1)\n",
    "#payout_df['payout_4'] = payout_df.apply(lambda x : calculate_payout(x, num=4), axis=1)\n",
    "payout_df.payout_1.sum()#, payout_df.payout_2.sum(),payout_df.payout_3.sum(),payout_df.payout_4.sum()"
   ]
  },
  {
   "cell_type": "code",
   "execution_count": 27,
   "metadata": {
    "collapsed": false
   },
   "outputs": [],
   "source": [
    "# Build a linear regressor for subscore\n",
    "from sklearn.linear_model import LinearRegression\n",
    "from sklearn.linear_model import Lasso, Ridge\n",
    "from sklearn.model_selection import GridSearchCV\n",
    "\n",
    "x_train, x_test, y_train, y_test = train_test_split(train_data,train_label[:,4], test_size=0.3)\n",
    "\n",
    "linreg = LinearRegression()\n",
    "Lasreg = Lasso()\n",
    "Ridreg = Ridge()\n",
    "# lr_model = linreg.fit(x_train, y_train)\n",
    "lr_model = Lasreg.fit(x_train, y_train)\n",
    "# lr_model = Ridreg.fit(x_train, y_train)\n",
    "# y_hat = linreg.predict(x_test)\n",
    "y_hat = Lasreg.predict(x_test)\n",
    "# y_hat = Ridreg.predict(x_test)"
   ]
  },
  {
   "cell_type": "code",
   "execution_count": 28,
   "metadata": {
    "collapsed": false
   },
   "outputs": [
    {
     "data": {
      "text/plain": [
       "226.6739995066111"
      ]
     },
     "execution_count": 28,
     "metadata": {},
     "output_type": "execute_result"
    }
   ],
   "source": [
    "payout_df = pd.DataFrame(x_test, columns=NEW_FEATURES)\n",
    "payout_df['predict_subscore'] = y_hat\n",
    "payout_df['home_win'] = home_win\n",
    "payout_df['sub_score'] = sub_score\n",
    "payout_df.head()\n",
    "payout_df['payout_1'] = payout_df.apply(lambda x : odg.calculate_payout(x), axis=1)\n",
    "# payout_df['payout_2'] = payout_df.apply(lambda x : calculate_payout(x, num=2), axis=1)\n",
    "# payout_df['payout_3'] = payout_df.apply(lambda x : calculate_payout(x, num=3), axis=1)\n",
    "# payout_df['payout_4'] = payout_df.apply(lambda x : calculate_payout(x, num=4), axis=1)\n",
    "payout_df.payout_1.sum()# , payout_df.payout_2.sum(),payout_df.payout_3.sum(),payout_df.payout_4.sum()"
   ]
  },
  {
   "cell_type": "code",
   "execution_count": 29,
   "metadata": {
    "collapsed": false
   },
   "outputs": [],
   "source": [
    "team_list = ['Atlanta_Hawks',\n",
    "'Boston_Celtics',\n",
    "'Brooklyn_Nets',\n",
    "'Charlotte_Hornets',\n",
    "'Chicago_Bulls',\n",
    "'Cleveland_Cavaliers',\n",
    "'Dallas_Mavericks',\n",
    "'Denver_Nuggets',\n",
    "'Detroit_Pistons',\n",
    "'Golden_State_Warriors',\n",
    "'Houston_Rockets',\n",
    "'Indiana_Pacers',\n",
    "'Los_Angeles_Clippers',\n",
    "'Los_Angeles_Lakers',\n",
    "'Memphis_Grizzlies',\n",
    "'Miami_Heat',\n",
    "'Milwaukee_Bucks',\n",
    "'Minnesota_Timberwolves',\n",
    "'New_Orleans_Pelicans',\n",
    "'New_York_Knicks',\n",
    "'Oklahoma_City_Thunder',\n",
    "'Orlando_Magic',\n",
    "'Philadelphia_76ers',\n",
    "'Phoenix_Suns',\n",
    "'Portland_Trail_Blazers',\n",
    "'Sacramento_Kings',\n",
    "'San_Antonio_Spurs',\n",
    "'Toronto_Raptors',\n",
    "'Utah_Jazz',\n",
    "'Washington_Wizards']"
   ]
  },
  {
   "cell_type": "code",
   "execution_count": 30,
   "metadata": {
    "collapsed": false
   },
   "outputs": [],
   "source": [
    "away_payout = []\n",
    "home_payout = []\n",
    "for i in team_list:\n",
    "    away_payout.append([i,payout_df[payout_df['away_team__'+i] == 1].payout_1.sum()])\n",
    "    home_payout.append([i,payout_df[payout_df['home_team__'+i] == 1].payout_1.sum()])\n",
    "# away_payout = np.array(away_payout)\n",
    "# home_payout = np.array(home_payout)"
   ]
  },
  {
   "cell_type": "code",
   "execution_count": 31,
   "metadata": {
    "collapsed": false
   },
   "outputs": [],
   "source": [
    "import matplotlib.pyplot as plt\n",
    "%matplotlib inline"
   ]
  },
  {
   "cell_type": "code",
   "execution_count": 32,
   "metadata": {
    "collapsed": false
   },
   "outputs": [
    {
     "data": {
      "text/plain": [
       "[['Golden_State_Warriors', 18.759823840099344],\n",
       " ['Los_Angeles_Clippers', 18.75],\n",
       " ['Oklahoma_City_Thunder', 17.876703296605552],\n",
       " ['Cleveland_Cavaliers', 17.586318082788669],\n",
       " ['Boston_Celtics', 13.337421823459557],\n",
       " ['Los_Angeles_Lakers', 12.986978641587593],\n",
       " ['Phoenix_Suns', 11.95585734879508],\n",
       " ['Denver_Nuggets', 10.460900900900899],\n",
       " ['Houston_Rockets', 10.147958658721997],\n",
       " ['Chicago_Bulls', 9.3233571185864754],\n",
       " ['Washington_Wizards', 8.9249932191291137],\n",
       " ['Orlando_Magic', 8.3772189836895716],\n",
       " ['Dallas_Mavericks', 7.9621417179311909],\n",
       " ['Minnesota_Timberwolves', 7.450589208871234],\n",
       " ['Milwaukee_Bucks', 7.3745794392523365],\n",
       " ['Indiana_Pacers', 6.5859259259259257],\n",
       " ['Philadelphia_76ers', 6.5379756656674299],\n",
       " ['New_York_Knicks', 5.9687830687830683],\n",
       " ['Atlanta_Hawks', 5.5299999999999994],\n",
       " ['Memphis_Grizzlies', 5.4599999999999982],\n",
       " ['Sacramento_Kings', 5.3154068583279814],\n",
       " ['Charlotte_Hornets', 4.6223809523809507],\n",
       " ['Brooklyn_Nets', 4.4349557522123879],\n",
       " ['Utah_Jazz', 4.179596274269171],\n",
       " ['San_Antonio_Spurs', 2.4383068783068769],\n",
       " ['Toronto_Raptors', 1.3308737864077664],\n",
       " ['Miami_Heat', 0.76932215234102053],\n",
       " ['New_Orleans_Pelicans', -0.52202433433257034],\n",
       " ['Detroit_Pistons', -2.1091725809243558],\n",
       " ['Portland_Trail_Blazers', -5.1431731731731727]]"
      ]
     },
     "execution_count": 32,
     "metadata": {},
     "output_type": "execute_result"
    }
   ],
   "source": [
    "sorted(away_payout, key=lambda x:x[1], reverse=True)"
   ]
  },
  {
   "cell_type": "code",
   "execution_count": 33,
   "metadata": {
    "collapsed": false
   },
   "outputs": [
    {
     "data": {
      "text/plain": [
       "[['Cleveland_Cavaliers', 18.883396226415091],\n",
       " ['Golden_State_Warriors', 18.7196787703894],\n",
       " ['San_Antonio_Spurs', 16.869090909090911],\n",
       " ['Detroit_Pistons', 16.7628923100512],\n",
       " ['Toronto_Raptors', 15.917933757279551],\n",
       " ['New_Orleans_Pelicans', 12.839170209106264],\n",
       " ['Philadelphia_76ers', 10.350981365733979],\n",
       " ['Los_Angeles_Lakers', 10.170303311805236],\n",
       " ['Memphis_Grizzlies', 10.059090909090909],\n",
       " ['Chicago_Bulls', 9.849252879528386],\n",
       " ['Indiana_Pacers', 9.0080970811159489],\n",
       " ['Boston_Celtics', 8.7387830687830661],\n",
       " ['Brooklyn_Nets', 8.2494762327019782],\n",
       " ['Denver_Nuggets', 8.1581818181818182],\n",
       " ['Milwaukee_Bucks', 7.6093221523410204],\n",
       " ['Dallas_Mavericks', 6.7045794392523357],\n",
       " ['Houston_Rockets', 6.4399999999999986],\n",
       " ['Minnesota_Timberwolves', 6.1954260841037163],\n",
       " ['Orlando_Magic', 5.2271929824561401],\n",
       " ['Atlanta_Hawks', 4.5888103442465784],\n",
       " ['Phoenix_Suns', 4.5095739348370909],\n",
       " ['Charlotte_Hornets', 4.457457627118643],\n",
       " ['Oklahoma_City_Thunder', 3.7279756656674294],\n",
       " ['Los_Angeles_Clippers', 3.3990909090909081],\n",
       " ['Miami_Heat', 2.1893139623328288],\n",
       " ['Utah_Jazz', 0.76956574482890239],\n",
       " ['Portland_Trail_Blazers', 0.71936181106175656],\n",
       " ['Washington_Wizards', 0.66000000000000014],\n",
       " ['Sacramento_Kings', -1.1600000000000015],\n",
       " ['New_York_Knicks', -3.9400000000000004]]"
      ]
     },
     "execution_count": 33,
     "metadata": {},
     "output_type": "execute_result"
    }
   ],
   "source": [
    "sorted(home_payout, key=lambda x:x[1], reverse=True)"
   ]
  },
  {
   "cell_type": "markdown",
   "metadata": {},
   "source": [
    "# Plot the payout from each team of home and road game\n",
    "Model perform the best on 76ers. Most like because 76ers has been so bad during last three years and easy to predict (It will lost the game and the bet!!!). And seem my model play better on road game than home game."
   ]
  },
  {
   "cell_type": "code",
   "execution_count": 34,
   "metadata": {
    "collapsed": false
   },
   "outputs": [
    {
     "data": {
      "image/png": "[encoded data removed]",
      "text/plain": [
       "<matplotlib.figure.Figure at 0x10ff15650>"
      ]
     },
     "metadata": {},
     "output_type": "display_data"
    }
   ],
   "source": [
    "fig = plt.figure(figsize=(16,6),dpi=80)\n",
    "ax = fig.add_subplot(111)\n",
    "N = 30\n",
    "\n",
    "ind = np.arange(N)\n",
    "width = 0.35\n",
    "\n",
    "rects1 = ax.bar(ind, np.array(home_payout)[:,1], width,\n",
    "                color='black')\n",
    "\n",
    "rects2 = ax.bar(ind+width, np.array(away_payout)[:,1], width,\n",
    "                color='red')\n",
    "\n",
    "ax.set_ylabel('Payout')\n",
    "ax.set_title('Payout by team')\n",
    "ax.set_xticks(ind + width / 2)\n",
    "ax.set_xticklabels((x for x in np.array(home_payout)[:,0]), rotation=45)\n",
    "\n",
    "\n",
    "ax.legend((rects1[0], rects2[0]), ('home', 'away'))\n",
    "\n",
    "\n",
    "def autolabel(rects):\n",
    "    \"\"\"\n",
    "    Attach a text label above each bar displaying its height\n",
    "    \"\"\"\n",
    "    for rect in rects:\n",
    "        \n",
    "        height = rect.get_height()\n",
    "        ax.text(rect.get_x() + rect.get_width()/2., 1.05*height,\n",
    "                '%d' % int(height),\n",
    "                ha='center', va='bottom')\n",
    "\n",
    "autolabel(rects1)\n",
    "autolabel(rects2)\n",
    "\n",
    "plt.show()"
   ]
  },
  {
   "cell_type": "code",
   "execution_count": 42,
   "metadata": {
    "collapsed": false
   },
   "outputs": [],
   "source": [
    "def preprocess_today_df(teams_df, today_df):\n",
    "    ah_df = today_df\n",
    "    # ah_df = odg.read_mongo_data_to_dataframe()\n",
    "    ah_df = ah_df[ah_df.away_team != 'Team USA']\n",
    "    ah_df = ah_df[ah_df.away_team != 'West']\n",
    "    ah_df = ah_df[ah_df.home_team != 'Team World']\n",
    "    ah_df = ah_df[ah_df.away_team != 'EAST']\n",
    "    \n",
    "    ah_df = ah_df.merge(teams_df, how='left', left_on='away_team', right_on='FULL_TEAM_NAME')\n",
    "    ah_df.drop(['FULL_TEAM_NAME'],axis=1, inplace=True)\n",
    "    ah_df.rename(columns={'TEAM_ID': 'away_team_id'}, inplace=True)\n",
    "    ah_df = ah_df.merge(teams_df, how='left', left_on='home_team', right_on='FULL_TEAM_NAME')\n",
    "    ah_df.drop(['FULL_TEAM_NAME'],axis=1, inplace=True)\n",
    "    ah_df.rename(columns={'TEAM_ID': 'home_team_id'}, inplace=True)\n",
    "    \n",
    "    ah_df['date_time_DT'] = pd.to_datetime(ah_df['date_time'])\n",
    "    ah_df['year'] = ah_df['date_time_DT'].dt.year.astype(int)\n",
    "    ah_df['month'] = ah_df['date_time_DT'].dt.month.astype(int)\n",
    "    ah_df['day'] = ah_df['date_time_DT'].dt.day.astype(int)\n",
    "    ah_df['weekDay'] = ah_df['date_time_DT'].dt.dayofweek.astype(int)\n",
    "    \n",
    "    ah_df[\"new_odd_home_1\"] = ah_df[\"odd_home_1\"].apply(lambda x: odg.to_decimal(str(x)))\n",
    "    ah_df[\"new_odd_away_1\"] = ah_df[\"odd_away_1\"].apply(lambda x: odg.to_decimal(str(x)))\n",
    "    ah_df[\"new_odd_home_1\"] = ah_df[\"new_odd_home_1\"].astype(float)\n",
    "    ah_df[\"new_odd_away_1\"] = ah_df[\"new_odd_away_1\"].astype(float)\n",
    "    ah_df.drop(['odd_home_1', 'odd_away_1'],axis=1, inplace=True)\n",
    "    \n",
    "#     for i in range(1, 5):\n",
    "#         ah_df[\"new_odd_home_\" + str(i)] = ah_df[\"odd_home_\" + str(i)].apply(lambda x: odg.to_decimal(x))\n",
    "#         ah_df[\"new_odd_away_\" + str(i)] = ah_df[\"odd_away_\" + str(i)].apply(lambda x: odg.to_decimal(x))\n",
    "#         ah_df[\"new_odd_home_\" + str(i)] = ah_df[\"new_odd_home_\" + str(i)].astype(float)\n",
    "#         ah_df[\"new_odd_away_\" + str(i)] = ah_df[\"new_odd_away_\" + str(i)].astype(float)\n",
    "\n",
    "#     ah_df.drop(\n",
    "#         ['odd_home_1', 'odd_home_2', 'odd_home_3', 'odd_home_4', 'odd_away_1', 'odd_away_2', 'odd_away_3',\n",
    "#          'odd_away_4'],\n",
    "#         axis=1, inplace=True)\n",
    "    \n",
    "    one_hot = pd.get_dummies(ah_df[['away_team', 'home_team']], prefix=['away_team_', 'home_team_'])\n",
    "    ah_df = ah_df.join(one_hot)\n",
    "    ah_df.drop(['away_team', 'home_team'], axis=1, inplace=True)\n",
    "    ah_df.drop(['date_time', 'date_time_DT'], axis=1, inplace=True)\n",
    "    # Create a empty base dataframe\n",
    "    base_df = pd.DataFrame(columns=FEATURES)\n",
    "    \n",
    "    \n",
    "    ah_df.rename(columns=lambda x: x.replace(' ', '_'), inplace=True)\n",
    "    ah_df = base_df.merge(ah_df, how='outer')\n",
    "    ah_df = ah_df.fillna(value=0)\n",
    "    ah_df = ah_df[FEATURES]\n",
    "    \n",
    "    temp_df = pd.DataFrame()\n",
    "    temp_df = temp_df.append(ah_df.apply(lambda x: odg.get_advanced_data(x), axis=1))\n",
    "    result_df = pd.merge(temp_df, ah_df, left_index=True, right_index=True, how='inner')\n",
    "    \n",
    "    return result_df"
   ]
  },
  {
   "cell_type": "code",
   "execution_count": 78,
   "metadata": {
    "collapsed": true
   },
   "outputs": [],
   "source": [
    "import pickle\n",
    "pickle.dump(Lasreg, open(\"predict_score_Las.reg\", \"wb\"))"
   ]
  },
  {
   "cell_type": "code",
   "execution_count": 84,
   "metadata": {
    "collapsed": false
   },
   "outputs": [],
   "source": [
    "def predict_tomorrow(input_df, teams_df):\n",
    "    post_input_df = preprocess_today_df(teams_df, input_df)\n",
    "    post_input_df = post_input_df[NEW_FEATURES]\n",
    "    \n",
    "    tt_data = post_input_df.as_matrix()\n",
    "    tt_prediction = Lasreg.predict(tt_data)\n",
    "    temp_df = input_df.copy()\n",
    "    temp_df['predict_sub_score'] = tt_prediction\n",
    "    return temp_df"
   ]
  },
  {
   "cell_type": "code",
   "execution_count": 102,
   "metadata": {
    "collapsed": false
   },
   "outputs": [
    {
     "data": {
      "text/html": [
       "<div>\n",
       "<table border=\"1\" class=\"dataframe\">\n",
       "  <thead>\n",
       "    <tr style=\"text-align: right;\">\n",
       "      <th></th>\n",
       "      <th>ah_1</th>\n",
       "      <th>away_team</th>\n",
       "      <th>date_time</th>\n",
       "      <th>home_team</th>\n",
       "      <th>odd_away_1</th>\n",
       "      <th>odd_cnt_1</th>\n",
       "      <th>odd_home_1</th>\n",
       "      <th>predict_sub_score</th>\n",
       "    </tr>\n",
       "  </thead>\n",
       "  <tbody>\n",
       "    <tr>\n",
       "      <th>0</th>\n",
       "      <td>1.5</td>\n",
       "      <td>Orlando Magic</td>\n",
       "      <td>2017-03-14 04:30:00</td>\n",
       "      <td>Sacramento Kings</td>\n",
       "      <td>1.99</td>\n",
       "      <td>9</td>\n",
       "      <td>1.83</td>\n",
       "      <td>-0.807142</td>\n",
       "    </tr>\n",
       "    <tr>\n",
       "      <th>1</th>\n",
       "      <td>-7.0</td>\n",
       "      <td>Cleveland Cavaliers</td>\n",
       "      <td>2017-03-13 02:00:00</td>\n",
       "      <td>Houston Rockets</td>\n",
       "      <td>1.94</td>\n",
       "      <td>11</td>\n",
       "      <td>1.93</td>\n",
       "      <td>6.966425</td>\n",
       "    </tr>\n",
       "    <tr>\n",
       "      <th>2</th>\n",
       "      <td>-6.0</td>\n",
       "      <td>Atlanta Hawks</td>\n",
       "      <td>2017-03-14 02:00:00</td>\n",
       "      <td>San Antonio Spurs</td>\n",
       "      <td>1.87</td>\n",
       "      <td>3</td>\n",
       "      <td>1.97</td>\n",
       "      <td>6.762535</td>\n",
       "    </tr>\n",
       "    <tr>\n",
       "      <th>3</th>\n",
       "      <td>-2.0</td>\n",
       "      <td>Los Angeles Clippers</td>\n",
       "      <td>2017-03-14 04:00:00</td>\n",
       "      <td>Utah Jazz</td>\n",
       "      <td>1.95</td>\n",
       "      <td>3</td>\n",
       "      <td>1.95</td>\n",
       "      <td>2.115295</td>\n",
       "    </tr>\n",
       "    <tr>\n",
       "      <th>4</th>\n",
       "      <td>2.5</td>\n",
       "      <td>Portland Trail Blazers</td>\n",
       "      <td>2017-03-13 03:00:00</td>\n",
       "      <td>Phoenix Suns</td>\n",
       "      <td>19/20</td>\n",
       "      <td>12</td>\n",
       "      <td>9/10</td>\n",
       "      <td>-2.507238</td>\n",
       "    </tr>\n",
       "    <tr>\n",
       "      <th>5</th>\n",
       "      <td>-12.5</td>\n",
       "      <td>Los Angeles Lakers</td>\n",
       "      <td>2017-03-14 04:30:00</td>\n",
       "      <td>Denver Nuggets</td>\n",
       "      <td>1.87</td>\n",
       "      <td>7</td>\n",
       "      <td>1.94</td>\n",
       "      <td>12.621136</td>\n",
       "    </tr>\n",
       "    <tr>\n",
       "      <th>6</th>\n",
       "      <td>-4.5</td>\n",
       "      <td>Philadelphia 76ers</td>\n",
       "      <td>2017-03-13 03:30:00</td>\n",
       "      <td>Los Angeles Lakers</td>\n",
       "      <td>1.94</td>\n",
       "      <td>14</td>\n",
       "      <td>1.90</td>\n",
       "      <td>4.306476</td>\n",
       "    </tr>\n",
       "    <tr>\n",
       "      <th>7</th>\n",
       "      <td>-7.0</td>\n",
       "      <td>Chicago Bulls</td>\n",
       "      <td>2017-03-14 01:00:00</td>\n",
       "      <td>Charlotte Hornets</td>\n",
       "      <td>1.94</td>\n",
       "      <td>11</td>\n",
       "      <td>1.90</td>\n",
       "      <td>7.186526</td>\n",
       "    </tr>\n",
       "    <tr>\n",
       "      <th>8</th>\n",
       "      <td>-4.0</td>\n",
       "      <td>Dallas Mavericks</td>\n",
       "      <td>2017-03-14 01:30:00</td>\n",
       "      <td>Toronto Raptors</td>\n",
       "      <td>1.94</td>\n",
       "      <td>11</td>\n",
       "      <td>1.91</td>\n",
       "      <td>3.505783</td>\n",
       "    </tr>\n",
       "    <tr>\n",
       "      <th>9</th>\n",
       "      <td>-1.0</td>\n",
       "      <td>Washington Wizards</td>\n",
       "      <td>2017-03-14 02:00:00</td>\n",
       "      <td>Minnesota Timberwolves</td>\n",
       "      <td>1.93</td>\n",
       "      <td>11</td>\n",
       "      <td>1.91</td>\n",
       "      <td>0.737812</td>\n",
       "    </tr>\n",
       "    <tr>\n",
       "      <th>10</th>\n",
       "      <td>-4.0</td>\n",
       "      <td>Milwaukee Bucks</td>\n",
       "      <td>2017-03-14 02:00:00</td>\n",
       "      <td>Memphis Grizzlies</td>\n",
       "      <td>1.91</td>\n",
       "      <td>11</td>\n",
       "      <td>1.93</td>\n",
       "      <td>4.514777</td>\n",
       "    </tr>\n",
       "  </tbody>\n",
       "</table>\n",
       "</div>"
      ],
      "text/plain": [
       "    ah_1               away_team           date_time               home_team  \\\n",
       "0    1.5           Orlando Magic 2017-03-14 04:30:00        Sacramento Kings   \n",
       "1   -7.0     Cleveland Cavaliers 2017-03-13 02:00:00         Houston Rockets   \n",
       "2   -6.0           Atlanta Hawks 2017-03-14 02:00:00       San Antonio Spurs   \n",
       "3   -2.0    Los Angeles Clippers 2017-03-14 04:00:00               Utah Jazz   \n",
       "4    2.5  Portland Trail Blazers 2017-03-13 03:00:00            Phoenix Suns   \n",
       "5  -12.5      Los Angeles Lakers 2017-03-14 04:30:00          Denver Nuggets   \n",
       "6   -4.5      Philadelphia 76ers 2017-03-13 03:30:00      Los Angeles Lakers   \n",
       "7   -7.0           Chicago Bulls 2017-03-14 01:00:00       Charlotte Hornets   \n",
       "8   -4.0        Dallas Mavericks 2017-03-14 01:30:00         Toronto Raptors   \n",
       "9   -1.0      Washington Wizards 2017-03-14 02:00:00  Minnesota Timberwolves   \n",
       "10  -4.0         Milwaukee Bucks 2017-03-14 02:00:00       Memphis Grizzlies   \n",
       "\n",
       "   odd_away_1  odd_cnt_1 odd_home_1  predict_sub_score  \n",
       "0        1.99          9       1.83          -0.807142  \n",
       "1        1.94         11       1.93           6.966425  \n",
       "2        1.87          3       1.97           6.762535  \n",
       "3        1.95          3       1.95           2.115295  \n",
       "4       19/20         12       9/10          -2.507238  \n",
       "5        1.87          7       1.94          12.621136  \n",
       "6        1.94         14       1.90           4.306476  \n",
       "7        1.94         11       1.90           7.186526  \n",
       "8        1.94         11       1.91           3.505783  \n",
       "9        1.93         11       1.91           0.737812  \n",
       "10       1.91         11       1.93           4.514777  "
      ]
     },
     "execution_count": 102,
     "metadata": {},
     "output_type": "execute_result"
    }
   ],
   "source": [
    "input_20170313 = pd.read_json(\"/Users/ccuulinay/PycharmProjects/nba_data/nba_odds_ah_pregetter/6_item.json\")\n",
    "result_df = predict_tomorrow(input_20170313, teams_df)\n",
    "result_df"
   ]
  },
  {
   "cell_type": "code",
   "execution_count": 105,
   "metadata": {
    "collapsed": false
   },
   "outputs": [
    {
     "data": {
      "text/html": [
       "<div>\n",
       "<table border=\"1\" class=\"dataframe\">\n",
       "  <thead>\n",
       "    <tr style=\"text-align: right;\">\n",
       "      <th></th>\n",
       "      <th>ah_1</th>\n",
       "      <th>away_team</th>\n",
       "      <th>date_time</th>\n",
       "      <th>home_team</th>\n",
       "      <th>odd_away_1</th>\n",
       "      <th>odd_cnt_1</th>\n",
       "      <th>odd_home_1</th>\n",
       "      <th>predict_sub_score</th>\n",
       "    </tr>\n",
       "  </thead>\n",
       "  <tbody>\n",
       "    <tr>\n",
       "      <th>0</th>\n",
       "      <td>1.5</td>\n",
       "      <td>Orlando Magic</td>\n",
       "      <td>2017-03-14 04:30:00</td>\n",
       "      <td>Sacramento Kings</td>\n",
       "      <td>1.99</td>\n",
       "      <td>9</td>\n",
       "      <td>1.83</td>\n",
       "      <td>-0.807142</td>\n",
       "    </tr>\n",
       "    <tr>\n",
       "      <th>2</th>\n",
       "      <td>-6.0</td>\n",
       "      <td>Atlanta Hawks</td>\n",
       "      <td>2017-03-14 02:00:00</td>\n",
       "      <td>San Antonio Spurs</td>\n",
       "      <td>1.87</td>\n",
       "      <td>3</td>\n",
       "      <td>1.97</td>\n",
       "      <td>6.762535</td>\n",
       "    </tr>\n",
       "    <tr>\n",
       "      <th>3</th>\n",
       "      <td>-2.0</td>\n",
       "      <td>Los Angeles Clippers</td>\n",
       "      <td>2017-03-14 04:00:00</td>\n",
       "      <td>Utah Jazz</td>\n",
       "      <td>1.95</td>\n",
       "      <td>3</td>\n",
       "      <td>1.95</td>\n",
       "      <td>2.115295</td>\n",
       "    </tr>\n",
       "    <tr>\n",
       "      <th>5</th>\n",
       "      <td>-12.5</td>\n",
       "      <td>Los Angeles Lakers</td>\n",
       "      <td>2017-03-14 04:30:00</td>\n",
       "      <td>Denver Nuggets</td>\n",
       "      <td>1.87</td>\n",
       "      <td>7</td>\n",
       "      <td>1.94</td>\n",
       "      <td>12.621136</td>\n",
       "    </tr>\n",
       "    <tr>\n",
       "      <th>7</th>\n",
       "      <td>-7.0</td>\n",
       "      <td>Chicago Bulls</td>\n",
       "      <td>2017-03-14 01:00:00</td>\n",
       "      <td>Charlotte Hornets</td>\n",
       "      <td>1.94</td>\n",
       "      <td>11</td>\n",
       "      <td>1.90</td>\n",
       "      <td>7.186526</td>\n",
       "    </tr>\n",
       "    <tr>\n",
       "      <th>8</th>\n",
       "      <td>-4.0</td>\n",
       "      <td>Dallas Mavericks</td>\n",
       "      <td>2017-03-14 01:30:00</td>\n",
       "      <td>Toronto Raptors</td>\n",
       "      <td>1.94</td>\n",
       "      <td>11</td>\n",
       "      <td>1.91</td>\n",
       "      <td>3.505783</td>\n",
       "    </tr>\n",
       "    <tr>\n",
       "      <th>9</th>\n",
       "      <td>-1.0</td>\n",
       "      <td>Washington Wizards</td>\n",
       "      <td>2017-03-14 02:00:00</td>\n",
       "      <td>Minnesota Timberwolves</td>\n",
       "      <td>1.93</td>\n",
       "      <td>11</td>\n",
       "      <td>1.91</td>\n",
       "      <td>0.737812</td>\n",
       "    </tr>\n",
       "    <tr>\n",
       "      <th>10</th>\n",
       "      <td>-4.0</td>\n",
       "      <td>Milwaukee Bucks</td>\n",
       "      <td>2017-03-14 02:00:00</td>\n",
       "      <td>Memphis Grizzlies</td>\n",
       "      <td>1.91</td>\n",
       "      <td>11</td>\n",
       "      <td>1.93</td>\n",
       "      <td>4.514777</td>\n",
       "    </tr>\n",
       "  </tbody>\n",
       "</table>\n",
       "</div>"
      ],
      "text/plain": [
       "    ah_1             away_team           date_time               home_team  \\\n",
       "0    1.5         Orlando Magic 2017-03-14 04:30:00        Sacramento Kings   \n",
       "2   -6.0         Atlanta Hawks 2017-03-14 02:00:00       San Antonio Spurs   \n",
       "3   -2.0  Los Angeles Clippers 2017-03-14 04:00:00               Utah Jazz   \n",
       "5  -12.5    Los Angeles Lakers 2017-03-14 04:30:00          Denver Nuggets   \n",
       "7   -7.0         Chicago Bulls 2017-03-14 01:00:00       Charlotte Hornets   \n",
       "8   -4.0      Dallas Mavericks 2017-03-14 01:30:00         Toronto Raptors   \n",
       "9   -1.0    Washington Wizards 2017-03-14 02:00:00  Minnesota Timberwolves   \n",
       "10  -4.0       Milwaukee Bucks 2017-03-14 02:00:00       Memphis Grizzlies   \n",
       "\n",
       "   odd_away_1  odd_cnt_1 odd_home_1  predict_sub_score  \n",
       "0        1.99          9       1.83          -0.807142  \n",
       "2        1.87          3       1.97           6.762535  \n",
       "3        1.95          3       1.95           2.115295  \n",
       "5        1.87          7       1.94          12.621136  \n",
       "7        1.94         11       1.90           7.186526  \n",
       "8        1.94         11       1.91           3.505783  \n",
       "9        1.93         11       1.91           0.737812  \n",
       "10       1.91         11       1.93           4.514777  "
      ]
     },
     "execution_count": 105,
     "metadata": {},
     "output_type": "execute_result"
    }
   ],
   "source": [
    "result_df[result_df.date_time >= \"2017-03-14\"]"
   ]
  },
  {
   "cell_type": "code",
   "execution_count": 104,
   "metadata": {
    "collapsed": false
   },
   "outputs": [
    {
     "data": {
      "text/plain": [
       "0       Sacramento Kings\n",
       "2      San Antonio Spurs\n",
       "3              Utah Jazz\n",
       "5         Denver Nuggets\n",
       "7      Charlotte Hornets\n",
       "8       Dallas Mavericks\n",
       "9     Washington Wizards\n",
       "10     Memphis Grizzlies\n",
       "dtype: object"
      ]
     },
     "execution_count": 104,
     "metadata": {},
     "output_type": "execute_result"
    }
   ],
   "source": [
    "a = result_df[result_df.date_time >= \"2017-03-14\"].apply(lambda x : x.home_team if float(x.predict_sub_score) + float(x.ah_1) >0 else x.away_team ,axis=1)\n",
    "a"
   ]
  },
  {
   "cell_type": "code",
   "execution_count": null,
   "metadata": {
    "collapsed": true
   },
   "outputs": [],
   "source": []
  }
 ],
 "metadata": {
  "kernelspec": {
   "display_name": "Python 2",
   "language": "python",
   "name": "python2"
  },
  "language_info": {
   "codemirror_mode": {
    "name": "ipython",
    "version": 2
   },
   "file_extension": ".py",
   "mimetype": "text/x-python",
   "name": "python",
   "nbconvert_exporter": "python",
   "pygments_lexer": "ipython2",
   "version": "2.7.9"
  }
 },
 "nbformat": 4,
 "nbformat_minor": 0
}
