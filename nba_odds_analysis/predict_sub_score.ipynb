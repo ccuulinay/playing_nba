{
 "cells": [
  {
   "cell_type": "code",
   "execution_count": 1,
   "metadata": {
    "collapsed": true
   },
   "outputs": [],
   "source": [
    "import pandas as pd\n",
    "from pymongo import MongoClient\n",
    "import numpy as np\n",
    "from sklearn.ensemble import RandomForestClassifier\n",
    "from sklearn import tree\n",
    "from sklearn.tree import DecisionTreeClassifier\n",
    "from sklearn.model_selection import train_test_split\n",
    "from sklearn.preprocessing import StandardScaler\n",
    "from sklearn.pipeline import Pipeline\n",
    "from decimal import Decimal\n",
    "import odds_data_getter as odg\n"
   ]
  },
  {
   "cell_type": "code",
   "execution_count": 2,
   "metadata": {
    "collapsed": true
   },
   "outputs": [],
   "source": [
    "teams_df = pd.read_json('/Users/ccuulinay/github_proj/scrapy_proj/nba_odds_spider/lab/collection_backup/all_teams.json')"
   ]
  },
  {
   "cell_type": "code",
   "execution_count": 3,
   "metadata": {
    "collapsed": true
   },
   "outputs": [],
   "source": [
    "teams_df.drop(['TEAM_CITY', 'TEAM_NAME'],axis=1, inplace=True)"
   ]
  },
  {
   "cell_type": "code",
   "execution_count": 4,
   "metadata": {
    "collapsed": false
   },
   "outputs": [],
   "source": [
    "advanced_stat_df = pd.read_json('./advanced_data_slice_201702.json')"
   ]
  },
  {
   "cell_type": "code",
   "execution_count": 5,
   "metadata": {
    "collapsed": true
   },
   "outputs": [],
   "source": [
    "def read_n_preprocess_ah_df():\n",
    "    ah_df = odg.read_mongo_data_to_dataframe()\n",
    "    ah_df = ah_df[ah_df.away_team != 'Team USA']\n",
    "    ah_df = ah_df[ah_df.away_team != 'West']\n",
    "    ah_df = ah_df[ah_df.home_team != 'Team World']\n",
    "    ah_df = ah_df[ah_df.away_team != 'EAST']\n",
    "    \n",
    "    ah_df = ah_df.merge(teams_df, how='left', left_on='away_team', right_on='FULL_TEAM_NAME')\n",
    "    ah_df.drop(['FULL_TEAM_NAME'],axis=1, inplace=True)\n",
    "    ah_df.rename(columns={'TEAM_ID': 'away_team_id'}, inplace=True)\n",
    "    ah_df = ah_df.merge(teams_df, how='left', left_on='home_team', right_on='FULL_TEAM_NAME')\n",
    "    ah_df.drop(['FULL_TEAM_NAME'],axis=1, inplace=True)\n",
    "    ah_df.rename(columns={'TEAM_ID': 'home_team_id'}, inplace=True)\n",
    "    \n",
    "    ah_df['winner'] = np.where(ah_df['score_home'] - ah_df['score_away'] > 0, 'home', 'away')\n",
    "    ah_df['ot'] = ah_df['overtime'].apply(lambda x: 1 if x == True else 0)\n",
    "    ah_df['home_win'] = ah_df['winner'].apply(lambda x: 1 if x == 'home' else 0)\n",
    "\n",
    "    ah_df['date_time_DT'] = pd.to_datetime(ah_df['date_time'])\n",
    "    ah_df['year'] = ah_df['date_time_DT'].dt.year.astype(int)\n",
    "    ah_df['month'] = ah_df['date_time_DT'].dt.month.astype(int)\n",
    "    ah_df['day'] = ah_df['date_time_DT'].dt.day.astype(int)\n",
    "    ah_df['weekDay'] = ah_df['date_time_DT'].dt.dayofweek.astype(int)\n",
    "\n",
    "    for i in range(1, 5):\n",
    "        ah_df[\"new_odd_home_\" + str(i)] = ah_df[\"odd_home_\" + str(i)].apply(lambda x: odg.to_decimal(x))\n",
    "        ah_df[\"new_odd_away_\" + str(i)] = ah_df[\"odd_away_\" + str(i)].apply(lambda x: odg.to_decimal(x))\n",
    "        ah_df[\"new_odd_home_\" + str(i)] = ah_df[\"new_odd_home_\" + str(i)].astype(float)\n",
    "        ah_df[\"new_odd_away_\" + str(i)] = ah_df[\"new_odd_away_\" + str(i)].astype(float)\n",
    "\n",
    "    ah_df.drop(\n",
    "        ['odd_home_1', 'odd_home_2', 'odd_home_3', 'odd_home_4', 'odd_away_1', 'odd_away_2', 'odd_away_3',\n",
    "         'odd_away_4'],\n",
    "        axis=1, inplace=True)\n",
    "    \n",
    "    one_hot = pd.get_dummies(ah_df[['away_team', 'home_team']], prefix=['away_team_', 'home_team_'])\n",
    "    ah_df = ah_df.join(one_hot)\n",
    "    ah_df.drop(['away_team', 'home_team'], axis=1, inplace=True)\n",
    "    ah_df.drop(['date_time', 'date_time_DT', 'winner', 'overtime'], axis=1, inplace=True)\n",
    "\n",
    "    ah_df['total_score'] = ah_df['score_home'] + ah_df['score_away']\n",
    "    ah_df['sub_score'] = ah_df['score_home'] - ah_df['score_away']\n",
    "    \n",
    "    # ah_df['bet_winner'] = np.where(float(row['sub_score']) + float(row['ah_'+str(num)]) >= 0, 'home', 'away')\n",
    "\n",
    "    ah_df.rename(columns=lambda x: x.replace(' ', '_'), inplace=True)\n",
    "    return ah_df"
   ]
  },
  {
   "cell_type": "code",
   "execution_count": 6,
   "metadata": {
    "collapsed": false
   },
   "outputs": [],
   "source": [
    "ah_df = read_n_preprocess_ah_df()"
   ]
  },
  {
   "cell_type": "code",
   "execution_count": 7,
   "metadata": {
    "collapsed": false
   },
   "outputs": [],
   "source": [
    "COLUMNS = ['away_team__Atlanta_Hawks',\n",
    "           'away_team__Boston_Celtics',\n",
    "           'away_team__Brooklyn_Nets',\n",
    "           'away_team__Charlotte_Hornets',\n",
    "           'away_team__Chicago_Bulls',\n",
    "           'away_team__Cleveland_Cavaliers',\n",
    "           'away_team__Dallas_Mavericks',\n",
    "           'away_team__Denver_Nuggets',\n",
    "           'away_team__Detroit_Pistons',\n",
    "           'away_team__Golden_State_Warriors',\n",
    "           'away_team__Houston_Rockets',\n",
    "           'away_team__Indiana_Pacers',\n",
    "           'away_team__Los_Angeles_Clippers',\n",
    "           'away_team__Los_Angeles_Lakers',\n",
    "           'away_team__Memphis_Grizzlies',\n",
    "           'away_team__Miami_Heat',\n",
    "           'away_team__Milwaukee_Bucks',\n",
    "           'away_team__Minnesota_Timberwolves',\n",
    "           'away_team__New_Orleans_Pelicans',\n",
    "           'away_team__New_York_Knicks',\n",
    "           'away_team__Oklahoma_City_Thunder',\n",
    "           'away_team__Orlando_Magic',\n",
    "           'away_team__Philadelphia_76ers',\n",
    "           'away_team__Phoenix_Suns',\n",
    "           'away_team__Portland_Trail_Blazers',\n",
    "           'away_team__Sacramento_Kings',\n",
    "           'away_team__San_Antonio_Spurs',\n",
    "           'away_team__Toronto_Raptors',\n",
    "           'away_team__Utah_Jazz',\n",
    "           'away_team__Washington_Wizards',\n",
    "           'home_team__Atlanta_Hawks',\n",
    "           'home_team__Boston_Celtics',\n",
    "           'home_team__Brooklyn_Nets',\n",
    "           'home_team__Charlotte_Hornets',\n",
    "           'home_team__Chicago_Bulls',\n",
    "           'home_team__Cleveland_Cavaliers',\n",
    "           'home_team__Dallas_Mavericks',\n",
    "           'home_team__Denver_Nuggets',\n",
    "           'home_team__Detroit_Pistons',\n",
    "           'home_team__Golden_State_Warriors',\n",
    "           'home_team__Houston_Rockets',\n",
    "           'home_team__Indiana_Pacers',\n",
    "           'home_team__Los_Angeles_Clippers',\n",
    "           'home_team__Los_Angeles_Lakers',\n",
    "           'home_team__Memphis_Grizzlies',\n",
    "           'home_team__Miami_Heat',\n",
    "           'home_team__Milwaukee_Bucks',\n",
    "           'home_team__Minnesota_Timberwolves',\n",
    "           'home_team__New_Orleans_Pelicans',\n",
    "           'home_team__New_York_Knicks',\n",
    "           'home_team__Oklahoma_City_Thunder',\n",
    "           'home_team__Orlando_Magic',\n",
    "           'home_team__Philadelphia_76ers',\n",
    "           'home_team__Phoenix_Suns',\n",
    "           'home_team__Portland_Trail_Blazers',\n",
    "           'home_team__Sacramento_Kings',\n",
    "           'home_team__San_Antonio_Spurs',\n",
    "           'home_team__Toronto_Raptors',\n",
    "           'home_team__Utah_Jazz',\n",
    "           'home_team__Washington_Wizards',\n",
    "           'away_team_id',\n",
    "           'home_team_id',\n",
    "           'ah_1',\n",
    "#            'odd_cnt_1',\n",
    "           'new_odd_home_1',\n",
    "           'new_odd_away_1',\n",
    "#            'ah_2',\n",
    "#            'odd_cnt_2',\n",
    "#            'new_odd_home_2',\n",
    "#            'new_odd_away_2',\n",
    "#            'ah_3',\n",
    "#            'odd_cnt_3',\n",
    "#            'new_odd_home_3',\n",
    "#            'new_odd_away_3',\n",
    "#            'ah_4',\n",
    "#            'odd_cnt_4',\n",
    "#            'new_odd_home_4',\n",
    "#            'new_odd_away_4',\n",
    "           'year',\n",
    "           'month',\n",
    "           'day',\n",
    "           'weekDay',\n",
    "#            'ot',\n",
    "           'home_win',\n",
    "           'score_away',\n",
    "           'score_home',\n",
    "           'total_score',\n",
    "           'sub_score']\n",
    "\n",
    "FEATURES = COLUMNS[:-5]"
   ]
  },
  {
   "cell_type": "code",
   "execution_count": 8,
   "metadata": {
    "collapsed": false
   },
   "outputs": [],
   "source": [
    "ah_df = ah_df[COLUMNS]\n",
    "home_win = ah_df['home_win']\n",
    "sub_score = ah_df['sub_score']\n",
    "ah_df.sort_values(by=['year', 'month','day'], ascending=[1, 1, 1], inplace=True)"
   ]
  },
  {
   "cell_type": "code",
   "execution_count": 9,
   "metadata": {
    "collapsed": false
   },
   "outputs": [
    {
     "data": {
      "text/html": [
       "<div>\n",
       "<table border=\"1\" class=\"dataframe\">\n",
       "  <thead>\n",
       "    <tr style=\"text-align: right;\">\n",
       "      <th></th>\n",
       "      <th>away_team__Atlanta_Hawks</th>\n",
       "      <th>away_team__Boston_Celtics</th>\n",
       "      <th>away_team__Brooklyn_Nets</th>\n",
       "      <th>away_team__Charlotte_Hornets</th>\n",
       "      <th>away_team__Chicago_Bulls</th>\n",
       "      <th>away_team__Cleveland_Cavaliers</th>\n",
       "      <th>away_team__Dallas_Mavericks</th>\n",
       "      <th>away_team__Denver_Nuggets</th>\n",
       "      <th>away_team__Detroit_Pistons</th>\n",
       "      <th>away_team__Golden_State_Warriors</th>\n",
       "      <th>...</th>\n",
       "      <th>new_odd_away_1</th>\n",
       "      <th>year</th>\n",
       "      <th>month</th>\n",
       "      <th>day</th>\n",
       "      <th>weekDay</th>\n",
       "      <th>home_win</th>\n",
       "      <th>score_away</th>\n",
       "      <th>score_home</th>\n",
       "      <th>total_score</th>\n",
       "      <th>sub_score</th>\n",
       "    </tr>\n",
       "  </thead>\n",
       "  <tbody>\n",
       "    <tr>\n",
       "      <th>1185</th>\n",
       "      <td>0</td>\n",
       "      <td>0</td>\n",
       "      <td>0</td>\n",
       "      <td>0</td>\n",
       "      <td>0</td>\n",
       "      <td>0</td>\n",
       "      <td>0</td>\n",
       "      <td>0</td>\n",
       "      <td>0</td>\n",
       "      <td>0</td>\n",
       "      <td>...</td>\n",
       "      <td>1.89</td>\n",
       "      <td>2014</td>\n",
       "      <td>10</td>\n",
       "      <td>5</td>\n",
       "      <td>6</td>\n",
       "      <td>0</td>\n",
       "      <td>98</td>\n",
       "      <td>86</td>\n",
       "      <td>184</td>\n",
       "      <td>-12</td>\n",
       "    </tr>\n",
       "    <tr>\n",
       "      <th>1186</th>\n",
       "      <td>0</td>\n",
       "      <td>0</td>\n",
       "      <td>0</td>\n",
       "      <td>0</td>\n",
       "      <td>0</td>\n",
       "      <td>0</td>\n",
       "      <td>0</td>\n",
       "      <td>0</td>\n",
       "      <td>0</td>\n",
       "      <td>0</td>\n",
       "      <td>...</td>\n",
       "      <td>1.92</td>\n",
       "      <td>2014</td>\n",
       "      <td>10</td>\n",
       "      <td>6</td>\n",
       "      <td>0</td>\n",
       "      <td>1</td>\n",
       "      <td>94</td>\n",
       "      <td>99</td>\n",
       "      <td>193</td>\n",
       "      <td>5</td>\n",
       "    </tr>\n",
       "    <tr>\n",
       "      <th>1187</th>\n",
       "      <td>0</td>\n",
       "      <td>0</td>\n",
       "      <td>0</td>\n",
       "      <td>0</td>\n",
       "      <td>0</td>\n",
       "      <td>0</td>\n",
       "      <td>0</td>\n",
       "      <td>0</td>\n",
       "      <td>0</td>\n",
       "      <td>0</td>\n",
       "      <td>...</td>\n",
       "      <td>1.91</td>\n",
       "      <td>2014</td>\n",
       "      <td>10</td>\n",
       "      <td>7</td>\n",
       "      <td>1</td>\n",
       "      <td>1</td>\n",
       "      <td>78</td>\n",
       "      <td>98</td>\n",
       "      <td>176</td>\n",
       "      <td>20</td>\n",
       "    </tr>\n",
       "    <tr>\n",
       "      <th>1188</th>\n",
       "      <td>0</td>\n",
       "      <td>0</td>\n",
       "      <td>0</td>\n",
       "      <td>0</td>\n",
       "      <td>0</td>\n",
       "      <td>0</td>\n",
       "      <td>0</td>\n",
       "      <td>0</td>\n",
       "      <td>0</td>\n",
       "      <td>0</td>\n",
       "      <td>...</td>\n",
       "      <td>1.89</td>\n",
       "      <td>2014</td>\n",
       "      <td>10</td>\n",
       "      <td>7</td>\n",
       "      <td>1</td>\n",
       "      <td>1</td>\n",
       "      <td>87</td>\n",
       "      <td>93</td>\n",
       "      <td>180</td>\n",
       "      <td>6</td>\n",
       "    </tr>\n",
       "    <tr>\n",
       "      <th>1190</th>\n",
       "      <td>0</td>\n",
       "      <td>0</td>\n",
       "      <td>0</td>\n",
       "      <td>0</td>\n",
       "      <td>0</td>\n",
       "      <td>0</td>\n",
       "      <td>0</td>\n",
       "      <td>1</td>\n",
       "      <td>0</td>\n",
       "      <td>0</td>\n",
       "      <td>...</td>\n",
       "      <td>1.90</td>\n",
       "      <td>2014</td>\n",
       "      <td>10</td>\n",
       "      <td>7</td>\n",
       "      <td>1</td>\n",
       "      <td>1</td>\n",
       "      <td>95</td>\n",
       "      <td>98</td>\n",
       "      <td>193</td>\n",
       "      <td>3</td>\n",
       "    </tr>\n",
       "  </tbody>\n",
       "</table>\n",
       "<p>5 rows × 74 columns</p>\n",
       "</div>"
      ],
      "text/plain": [
       "      away_team__Atlanta_Hawks  away_team__Boston_Celtics  \\\n",
       "1185                         0                          0   \n",
       "1186                         0                          0   \n",
       "1187                         0                          0   \n",
       "1188                         0                          0   \n",
       "1190                         0                          0   \n",
       "\n",
       "      away_team__Brooklyn_Nets  away_team__Charlotte_Hornets  \\\n",
       "1185                         0                             0   \n",
       "1186                         0                             0   \n",
       "1187                         0                             0   \n",
       "1188                         0                             0   \n",
       "1190                         0                             0   \n",
       "\n",
       "      away_team__Chicago_Bulls  away_team__Cleveland_Cavaliers  \\\n",
       "1185                         0                               0   \n",
       "1186                         0                               0   \n",
       "1187                         0                               0   \n",
       "1188                         0                               0   \n",
       "1190                         0                               0   \n",
       "\n",
       "      away_team__Dallas_Mavericks  away_team__Denver_Nuggets  \\\n",
       "1185                            0                          0   \n",
       "1186                            0                          0   \n",
       "1187                            0                          0   \n",
       "1188                            0                          0   \n",
       "1190                            0                          1   \n",
       "\n",
       "      away_team__Detroit_Pistons  away_team__Golden_State_Warriors    ...      \\\n",
       "1185                           0                                 0    ...       \n",
       "1186                           0                                 0    ...       \n",
       "1187                           0                                 0    ...       \n",
       "1188                           0                                 0    ...       \n",
       "1190                           0                                 0    ...       \n",
       "\n",
       "      new_odd_away_1  year  month  day  weekDay  home_win  score_away  \\\n",
       "1185            1.89  2014     10    5        6         0          98   \n",
       "1186            1.92  2014     10    6        0         1          94   \n",
       "1187            1.91  2014     10    7        1         1          78   \n",
       "1188            1.89  2014     10    7        1         1          87   \n",
       "1190            1.90  2014     10    7        1         1          95   \n",
       "\n",
       "      score_home  total_score  sub_score  \n",
       "1185          86          184        -12  \n",
       "1186          99          193          5  \n",
       "1187          98          176         20  \n",
       "1188          93          180          6  \n",
       "1190          98          193          3  \n",
       "\n",
       "[5 rows x 74 columns]"
      ]
     },
     "execution_count": 9,
     "metadata": {},
     "output_type": "execute_result"
    }
   ],
   "source": [
    "ah_df.head()"
   ]
  },
  {
   "cell_type": "code",
   "execution_count": 10,
   "metadata": {
    "collapsed": false
   },
   "outputs": [],
   "source": [
    "result_df = pd.merge(advanced_stat_df, ah_df, left_index=True, right_index=True, how='inner')"
   ]
  },
  {
   "cell_type": "code",
   "execution_count": 11,
   "metadata": {
    "collapsed": true
   },
   "outputs": [],
   "source": [
    "COLUMNS = result_df.columns.tolist()\n",
    "FEATURES = COLUMNS[:-5]"
   ]
  },
  {
   "cell_type": "code",
   "execution_count": 12,
   "metadata": {
    "collapsed": false
   },
   "outputs": [
    {
     "data": {
      "text/plain": [
       "(3591, 152)"
      ]
     },
     "execution_count": 12,
     "metadata": {},
     "output_type": "execute_result"
    }
   ],
   "source": [
    "result_data = result_df.as_matrix()\n",
    "result_data.shape"
   ]
  },
  {
   "cell_type": "code",
   "execution_count": 13,
   "metadata": {
    "collapsed": false
   },
   "outputs": [],
   "source": [
    "train_data = result_data[:,:-5]\n",
    "train_label = result_data[:,-5:].astype(int)"
   ]
  },
  {
   "cell_type": "code",
   "execution_count": 73,
   "metadata": {
    "collapsed": true
   },
   "outputs": [],
   "source": [
    "from sklearn.ensemble import RandomForestRegressor\n",
    "x_train, x_test, y_train, y_test = train_test_split(train_data,train_label[:,4], test_size=0.3)\n",
    "# clf = RandomForestClassifier(n_estimators=200, criterion='entropy', max_depth=4)\n",
    "\n",
    "clf = Pipeline([\n",
    "        ('ss', StandardScaler()),\n",
    "        ('DTC', RandomForestRegressor(n_estimators=230, criterion='mse', max_depth=4))])\n",
    "rf_clf = clf.fit(x_train, y_train)\n",
    "y_hat = rf_clf.predict(x_test)"
   ]
  },
  {
   "cell_type": "code",
   "execution_count": 74,
   "metadata": {
    "collapsed": false
   },
   "outputs": [
    {
     "data": {
      "text/plain": [
       "67.2936780787808"
      ]
     },
     "execution_count": 74,
     "metadata": {},
     "output_type": "execute_result"
    }
   ],
   "source": [
    "payout_df = pd.DataFrame(x_test, columns=FEATURES)\n",
    "payout_df['predict_subscore'] = y_hat\n",
    "payout_df['home_win'] = home_win\n",
    "payout_df['sub_score'] = sub_score\n",
    "# payout_df.head()\n",
    "payout_df['payout_1'] = payout_df.apply(lambda x : odg.calculate_payout(x), axis=1)\n",
    "# payout_df['payout_2'] = payout_df.apply(lambda x : calculate_payout(x, num=2), axis=1)\n",
    "# payout_df['payout_3'] = payout_df.apply(lambda x : calculate_payout(x, num=3), axis=1)\n",
    "# payout_df['payout_4'] = payout_df.apply(lambda x : calculate_payout(x, num=4), axis=1)\n",
    "payout_df.payout_1.sum() # ,payout_df.payout_2.sum(),payout_df.payout_3.sum(),payout_df.payout_4.sum()"
   ]
  },
  {
   "cell_type": "code",
   "execution_count": 76,
   "metadata": {
    "collapsed": false
   },
   "outputs": [
    {
     "name": "stdout",
     "output_type": "stream",
     "text": [
      "[0]\teval-rmse:11.7967\ttrain-rmse:11.8842\n",
      "[1]\teval-rmse:11.8487\ttrain-rmse:11.6378\n",
      "[2]\teval-rmse:12.0418\ttrain-rmse:11.3708\n",
      "[3]\teval-rmse:12.2141\ttrain-rmse:11.1619\n",
      "[4]\teval-rmse:12.2896\ttrain-rmse:10.9777\n",
      "[5]\teval-rmse:12.4301\ttrain-rmse:10.736\n"
     ]
    }
   ],
   "source": [
    "# Try XGBoost on subscore\n",
    "import xgboost as xgb\n",
    "x_train, x_test, y_train, y_test = train_test_split(train_data,train_label[:,4], test_size=0.3)\n",
    "\n",
    "data_train = xgb.DMatrix(x_train, label=y_train)\n",
    "data_test = xgb.DMatrix(x_test, label=y_test)\n",
    "watch_list = [(data_test, 'eval'), (data_train, 'train')]\n",
    "param = {'max_depth': 4, 'eta': 1, 'silent': 1, 'objective': 'reg:linear'}\n",
    "bst = xgb.train(param, data_train, num_boost_round=6, evals=watch_list)\n",
    "y_hat = bst.predict(data_test)"
   ]
  },
  {
   "cell_type": "code",
   "execution_count": 77,
   "metadata": {
    "collapsed": false
   },
   "outputs": [
    {
     "data": {
      "text/plain": [
       "-43.587036333128367"
      ]
     },
     "execution_count": 77,
     "metadata": {},
     "output_type": "execute_result"
    }
   ],
   "source": [
    "payout_df = pd.DataFrame(x_test, columns=FEATURES)\n",
    "payout_df['predict_subscore'] = y_hat\n",
    "payout_df['home_win'] = home_win\n",
    "payout_df['sub_score'] = sub_score\n",
    "payout_df.head()\n",
    "payout_df['payout_1'] = payout_df.apply(lambda x : odg.calculate_payout(x), axis=1)\n",
    "#payout_df['payout_2'] = payout_df.apply(lambda x : calculate_payout(x, num=2), axis=1)\n",
    "#payout_df['payout_3'] = payout_df.apply(lambda x : calculate_payout(x, num=3), axis=1)\n",
    "#payout_df['payout_4'] = payout_df.apply(lambda x : calculate_payout(x, num=4), axis=1)\n",
    "payout_df.payout_1.sum()#, payout_df.payout_2.sum(),payout_df.payout_3.sum(),payout_df.payout_4.sum()"
   ]
  },
  {
   "cell_type": "code",
   "execution_count": 16,
   "metadata": {
    "collapsed": false
   },
   "outputs": [],
   "source": [
    "# Build a linear regressor for subscore\n",
    "from sklearn.linear_model import LinearRegression\n",
    "from sklearn.linear_model import Lasso, Ridge\n",
    "from sklearn.model_selection import GridSearchCV\n",
    "\n",
    "x_train, x_test, y_train, y_test = train_test_split(train_data,train_label[:,4], test_size=0.3)\n",
    "\n",
    "linreg = LinearRegression()\n",
    "Lasreg = Lasso()\n",
    "Ridreg = Ridge()\n",
    "# lr_model = linreg.fit(x_train, y_train)\n",
    "lr_model = Lasreg.fit(x_train, y_train)\n",
    "# lr_model = Ridreg.fit(x_train, y_train)\n",
    "# y_hat = linreg.predict(x_test)\n",
    "y_hat = Lasreg.predict(x_test)\n",
    "# y_hat = Ridreg.predict(x_test)"
   ]
  },
  {
   "cell_type": "code",
   "execution_count": 17,
   "metadata": {
    "collapsed": false
   },
   "outputs": [
    {
     "data": {
      "text/plain": [
       "191.60938435070238"
      ]
     },
     "execution_count": 17,
     "metadata": {},
     "output_type": "execute_result"
    }
   ],
   "source": [
    "payout_df = pd.DataFrame(x_test, columns=FEATURES)\n",
    "payout_df['predict_subscore'] = y_hat\n",
    "payout_df['home_win'] = home_win\n",
    "payout_df['sub_score'] = sub_score\n",
    "payout_df.head()\n",
    "payout_df['payout_1'] = payout_df.apply(lambda x : odg.calculate_payout(x), axis=1)\n",
    "# payout_df['payout_2'] = payout_df.apply(lambda x : calculate_payout(x, num=2), axis=1)\n",
    "# payout_df['payout_3'] = payout_df.apply(lambda x : calculate_payout(x, num=3), axis=1)\n",
    "# payout_df['payout_4'] = payout_df.apply(lambda x : calculate_payout(x, num=4), axis=1)\n",
    "payout_df.payout_1.sum()# , payout_df.payout_2.sum(),payout_df.payout_3.sum(),payout_df.payout_4.sum()"
   ]
  },
  {
   "cell_type": "code",
   "execution_count": 29,
   "metadata": {
    "collapsed": false
   },
   "outputs": [],
   "source": [
    "team_list = ['Atlanta_Hawks',\n",
    "'Boston_Celtics',\n",
    "'Brooklyn_Nets',\n",
    "'Charlotte_Hornets',\n",
    "'Chicago_Bulls',\n",
    "'Cleveland_Cavaliers',\n",
    "'Dallas_Mavericks',\n",
    "'Denver_Nuggets',\n",
    "'Detroit_Pistons',\n",
    "'Golden_State_Warriors',\n",
    "'Houston_Rockets',\n",
    "'Indiana_Pacers',\n",
    "'Los_Angeles_Clippers',\n",
    "'Los_Angeles_Lakers',\n",
    "'Memphis_Grizzlies',\n",
    "'Miami_Heat',\n",
    "'Milwaukee_Bucks',\n",
    "'Minnesota_Timberwolves',\n",
    "'New_Orleans_Pelicans',\n",
    "'New_York_Knicks',\n",
    "'Oklahoma_City_Thunder',\n",
    "'Orlando_Magic',\n",
    "'Philadelphia_76ers',\n",
    "'Phoenix_Suns',\n",
    "'Portland_Trail_Blazers',\n",
    "'Sacramento_Kings',\n",
    "'San_Antonio_Spurs',\n",
    "'Toronto_Raptors',\n",
    "'Utah_Jazz',\n",
    "'Washington_Wizards']"
   ]
  },
  {
   "cell_type": "code",
   "execution_count": 62,
   "metadata": {
    "collapsed": false
   },
   "outputs": [],
   "source": [
    "away_payout = []\n",
    "home_payout = []\n",
    "for i in team_list:\n",
    "    away_payout.append([i,payout_df[payout_df['away_team__'+i] == 1].payout_1.sum()])\n",
    "    home_payout.append([i,payout_df[payout_df['home_team__'+i] == 1].payout_1.sum()])\n",
    "# away_payout = np.array(away_payout)\n",
    "# home_payout = np.array(home_payout)"
   ]
  },
  {
   "cell_type": "code",
   "execution_count": 63,
   "metadata": {
    "collapsed": false
   },
   "outputs": [],
   "source": [
    "import matplotlib.pyplot as plt\n",
    "%matplotlib inline"
   ]
  },
  {
   "cell_type": "code",
   "execution_count": 68,
   "metadata": {
    "collapsed": false
   },
   "outputs": [
    {
     "data": {
      "text/plain": [
       "[['Philadelphia_76ers', 14.403893401585169],\n",
       " ['Memphis_Grizzlies', 14.095883361921096],\n",
       " ['Los_Angeles_Lakers', 13.966792452830186],\n",
       " ['Los_Angeles_Clippers', 12.139999999999997],\n",
       " ['Milwaukee_Bucks', 11.32540685832798],\n",
       " ['Portland_Trail_Blazers', 11.176714237172952],\n",
       " ['New_York_Knicks', 11.073362508035403],\n",
       " ['Cleveland_Cavaliers', 10.727856544327134],\n",
       " ['San_Antonio_Spurs', 10.627243107769422],\n",
       " ['New_Orleans_Pelicans', 10.021178893315305],\n",
       " ['Boston_Celtics', 8.4642971273159944],\n",
       " ['Brooklyn_Nets', 8.4073367045933391],\n",
       " ['Indiana_Pacers', 6.6190909090909091],\n",
       " ['Houston_Rockets', 6.2774012776081562],\n",
       " ['Denver_Nuggets', 5.3833962264150923],\n",
       " ['Detroit_Pistons', 5.3059259259259264],\n",
       " ['Orlando_Magic', 4.629999999999999],\n",
       " ['Oklahoma_City_Thunder', 4.3875692982799315],\n",
       " ['Utah_Jazz', 4.2092802939531904],\n",
       " ['Washington_Wizards', 4.1346784491533244],\n",
       " ['Golden_State_Warriors', 3.8199999999999985],\n",
       " ['Phoenix_Suns', 3.8100000000000005],\n",
       " ['Miami_Heat', 3.3199999999999976],\n",
       " ['Atlanta_Hawks', 2.5509009009009009],\n",
       " ['Dallas_Mavericks', 2.2702230532419208],\n",
       " ['Toronto_Raptors', 1.4909318184255635],\n",
       " ['Minnesota_Timberwolves', 0.97195488721804413],\n",
       " ['Sacramento_Kings', 0.50999999999999912],\n",
       " ['Chicago_Bulls', -1.2281481481481482],\n",
       " ['Charlotte_Hornets', -3.2837857385563822]]"
      ]
     },
     "execution_count": 68,
     "metadata": {},
     "output_type": "execute_result"
    }
   ],
   "source": [
    "sorted(away_payout, key=lambda x:x[1], reverse=True)"
   ]
  },
  {
   "cell_type": "code",
   "execution_count": 69,
   "metadata": {
    "collapsed": false
   },
   "outputs": [
    {
     "data": {
      "text/plain": [
       "[['Philadelphia_76ers', 19.968486040219787],\n",
       " ['Golden_State_Warriors', 17.804347252629277],\n",
       " ['New_York_Knicks', 13.907083186787421],\n",
       " ['Indiana_Pacers', 11.817315640334508],\n",
       " ['Sacramento_Kings', 11.219999999999999],\n",
       " ['Oklahoma_City_Thunder', 10.612555104919764],\n",
       " ['Cleveland_Cavaliers', 10.323396226415092],\n",
       " ['Washington_Wizards', 9.825925925925926],\n",
       " ['Los_Angeles_Clippers', 8.4259259259259238],\n",
       " ['Charlotte_Hornets', 8.3633962264150945],\n",
       " ['Chicago_Bulls', 7.8704089778724935],\n",
       " ['Phoenix_Suns', 7.2236454541041688],\n",
       " ['Minnesota_Timberwolves', 6.4999999999999991],\n",
       " ['Milwaukee_Bucks', 6.4399999999999986],\n",
       " ['Memphis_Grizzlies', 6.3428218383558175],\n",
       " ['Houston_Rockets', 6.3099999999999978],\n",
       " ['Atlanta_Hawks', 5.3583251282611828],\n",
       " ['New_Orleans_Pelicans', 5.3569603916332866],\n",
       " ['San_Antonio_Spurs', 5.2650168350168354],\n",
       " ['Dallas_Mavericks', 5.0233962264150946],\n",
       " ['Detroit_Pistons', 4.9188573438057457],\n",
       " ['Portland_Trail_Blazers', 4.4242971273159943],\n",
       " ['Brooklyn_Nets', 2.7432818532818524],\n",
       " ['Boston_Celtics', 2.673362508035404],\n",
       " ['Utah_Jazz', 1.5568268268268257],\n",
       " ['Toronto_Raptors', 1.5433880364069039],\n",
       " ['Los_Angeles_Lakers', 0.68689146273117796],\n",
       " ['Denver_Nuggets', -1.1938820992092021],\n",
       " ['Miami_Heat', -2.5080519480519485],\n",
       " ['Orlando_Magic', -7.1945931416720192]]"
      ]
     },
     "execution_count": 69,
     "metadata": {},
     "output_type": "execute_result"
    }
   ],
   "source": [
    "sorted(home_payout, key=lambda x:x[1], reverse=True)"
   ]
  },
  {
   "cell_type": "markdown",
   "metadata": {},
   "source": [
    "# Plot the payout from each team of home and road game\n",
    "Model perform the best on 76ers. Most like because 76ers has been so bad during last three years and easy to predict (It will lost the game and the bet!!!). And seem my model play better on road game than home game."
   ]
  },
  {
   "cell_type": "code",
   "execution_count": 87,
   "metadata": {
    "collapsed": false
   },
   "outputs": [
    {
     "data": {
      "image/png": "[encoded data removed]",
      "text/plain": [
       "<matplotlib.figure.Figure at 0x113cc5bd0>"
      ]
     },
     "metadata": {},
     "output_type": "display_data"
    }
   ],
   "source": [
    "fig = plt.figure(figsize=(16,6),dpi=80)\n",
    "ax = fig.add_subplot(111)\n",
    "N = 30\n",
    "\n",
    "ind = np.arange(N)\n",
    "width = 0.35\n",
    "\n",
    "rects1 = ax.bar(ind, np.array(home_payout)[:,1], width,\n",
    "                color='black')\n",
    "\n",
    "rects2 = ax.bar(ind+width, np.array(away_payout)[:,1], width,\n",
    "                color='red')\n",
    "\n",
    "ax.set_ylabel('Payout')\n",
    "ax.set_title('Payout by team')\n",
    "ax.set_xticks(ind + width / 2)\n",
    "ax.set_xticklabels((x for x in np.array(home_payout)[:,0]), rotation=45)\n",
    "\n",
    "\n",
    "ax.legend((rects1[0], rects2[0]), ('home', 'away'))\n",
    "\n",
    "\n",
    "def autolabel(rects):\n",
    "    \"\"\"\n",
    "    Attach a text label above each bar displaying its height\n",
    "    \"\"\"\n",
    "    for rect in rects:\n",
    "        \n",
    "        height = rect.get_height()\n",
    "        ax.text(rect.get_x() + rect.get_width()/2., 1.05*height,\n",
    "                '%d' % int(height),\n",
    "                ha='center', va='bottom')\n",
    "\n",
    "autolabel(rects1)\n",
    "autolabel(rects2)\n",
    "\n",
    "plt.show()"
   ]
  },
  {
   "cell_type": "code",
   "execution_count": null,
   "metadata": {
    "collapsed": true
   },
   "outputs": [],
   "source": []
  }
 ],
 "metadata": {
  "kernelspec": {
   "display_name": "Python 2",
   "language": "python",
   "name": "python2"
  },
  "language_info": {
   "codemirror_mode": {
    "name": "ipython",
    "version": 2
   },
   "file_extension": ".py",
   "mimetype": "text/x-python",
   "name": "python",
   "nbconvert_exporter": "python",
   "pygments_lexer": "ipython2",
   "version": "2.7.9"
  }
 },
 "nbformat": 4,
 "nbformat_minor": 0
}
