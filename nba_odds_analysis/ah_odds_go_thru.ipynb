{
 "cells": [
  {
   "cell_type": "code",
   "execution_count": 1,
   "metadata": {
    "collapsed": true
   },
   "outputs": [],
   "source": [
    "import pandas as pd\n",
    "from pymongo import MongoClient\n",
    "import numpy as np\n",
    "from sklearn.ensemble import RandomForestClassifier\n",
    "from sklearn import tree\n",
    "from sklearn.tree import DecisionTreeClassifier\n",
    "from sklearn.model_selection import train_test_split\n",
    "from sklearn.preprocessing import StandardScaler\n",
    "from sklearn.pipeline import Pipeline\n",
    "\n",
    "\n",
    "MONGODB_SERVER = \"localhost\"\n",
    "MONGODB_PORT = 27017\n",
    "\n",
    "MONGODB_DB = \"nba_odds_n_predict\"\n",
    "MONGODB_COLLECTION = \"games_ah_odds\""
   ]
  },
  {
   "cell_type": "code",
   "execution_count": 2,
   "metadata": {
    "collapsed": true
   },
   "outputs": [],
   "source": [
    "def _connect_to_mongo(host, port, username, password, db):\n",
    "    \"\"\" A util for making a connection to mongo \"\"\"\n",
    "\n",
    "    if username and password:\n",
    "        mongo_uri = 'mongodb://%s:%s@%s:%s/%s' % (username, password, host, port, db)\n",
    "        conn = MongoClient(mongo_uri)\n",
    "    else:\n",
    "        conn = MongoClient(host, port)\n",
    "\n",
    "    return conn[db]\n",
    "\n",
    "\n",
    "def read_mongo_data_to_dataframe(db=MONGODB_DB, collection=MONGODB_COLLECTION, query={}, host=MONGODB_SERVER, port=MONGODB_PORT, username=None, password=None, no_id=True):\n",
    "    \"\"\" Read from Mongo and Store into DataFrame \"\"\"\n",
    "\n",
    "    # Connect to MongoDB\n",
    "    db = _connect_to_mongo(host=host, port=port, username=username, password=password, db=db)\n",
    "\n",
    "    # Make a query to the specific DB and Collection\n",
    "    cursor = db[collection].find(query)\n",
    "\n",
    "    # Expand the cursor and construct the DataFrame\n",
    "    df = pd.DataFrame(list(cursor))\n",
    "\n",
    "    # Delete the _id\n",
    "    if no_id:\n",
    "        del df['_id']\n",
    "\n",
    "    return df\n",
    "\n",
    "def map_team_to_id(teams_df, team_name):\n",
    "    return teams_df[teams_df.FULL_TEAM_NAME == team_name].TEAM_ID.values[0]\n",
    "\n",
    "def fraction2decimal(f):\n",
    "    if f.find(\"/\") != -1:\n",
    "        return float(Decimal(f.split('/')[0]) / Decimal(f.split('/')[1])) + 1\n",
    "    else:\n",
    "        return f\n",
    "\n",
    "\n",
    "def american2decimal(a):\n",
    "    if a.find(\"+\") != -1:\n",
    "        return (float(a)/100) + 1\n",
    "    elif a.find(\"-\") != -1:\n",
    "        return (100/abs(float(a))) + 1\n",
    "    else:\n",
    "        return a\n",
    "\n",
    "\n",
    "def to_decimal(x):\n",
    "    if x.find(\".\") != -1:\n",
    "        return x\n",
    "    elif x.find(\"/\") != -1:\n",
    "        return fraction2decimal(x)\n",
    "    else:\n",
    "        return american2decimal(x)\n",
    "\n",
    "\n",
    "def calculat_payout(row, num=1):\n",
    "    if float(row['sub_score']) >= (-1) * float(row['ah_'+str(num)]):\n",
    "        home_win_with_ah = 1.0\n",
    "    else:\n",
    "        home_win_with_ah = 0.0\n",
    "    if float(row['predict_subscore']) >= (-1) * float(row['ah_'+str(num)]):\n",
    "        return (float(row['new_odd_home_'+str(num)]) * home_win_with_ah) - 1.0\n",
    "    else:\n",
    "        return (float(row['new_odd_away_'+str(num)]) * (1.0 - home_win_with_ah)) - 1.0\n"
   ]
  },
  {
   "cell_type": "code",
   "execution_count": 3,
   "metadata": {
    "collapsed": true
   },
   "outputs": [],
   "source": [
    "teams_df = pd.read_json('/Users/ccuulinay/github_proj/scrapy_proj/nba_odds_spider/lab/collection_backup/all_teams.json')\n",
    "ah_df = read_mongo_data_to_dataframe()"
   ]
  },
  {
   "cell_type": "code",
   "execution_count": 4,
   "metadata": {
    "collapsed": false
   },
   "outputs": [
    {
     "data": {
      "text/html": [
       "<div>\n",
       "<table border=\"1\" class=\"dataframe\">\n",
       "  <thead>\n",
       "    <tr style=\"text-align: right;\">\n",
       "      <th></th>\n",
       "      <th>ah_1</th>\n",
       "      <th>ah_2</th>\n",
       "      <th>ah_3</th>\n",
       "      <th>ah_4</th>\n",
       "      <th>away_team</th>\n",
       "      <th>date_time</th>\n",
       "      <th>home_team</th>\n",
       "      <th>odd_away_1</th>\n",
       "      <th>odd_away_2</th>\n",
       "      <th>odd_away_3</th>\n",
       "      <th>...</th>\n",
       "      <th>odd_cnt_2</th>\n",
       "      <th>odd_cnt_3</th>\n",
       "      <th>odd_cnt_4</th>\n",
       "      <th>odd_home_1</th>\n",
       "      <th>odd_home_2</th>\n",
       "      <th>odd_home_3</th>\n",
       "      <th>odd_home_4</th>\n",
       "      <th>overtime</th>\n",
       "      <th>score_away</th>\n",
       "      <th>score_home</th>\n",
       "    </tr>\n",
       "  </thead>\n",
       "  <tbody>\n",
       "    <tr>\n",
       "      <th>0</th>\n",
       "      <td>-5.0</td>\n",
       "      <td>-4.5</td>\n",
       "      <td>-6.0</td>\n",
       "      <td>-5.5</td>\n",
       "      <td>Miami Heat</td>\n",
       "      <td>2015-03-07 02:00:00</td>\n",
       "      <td>Washington Wizards</td>\n",
       "      <td>1.98</td>\n",
       "      <td>1.96</td>\n",
       "      <td>1.91</td>\n",
       "      <td>...</td>\n",
       "      <td>10</td>\n",
       "      <td>8</td>\n",
       "      <td>7</td>\n",
       "      <td>1.86</td>\n",
       "      <td>1.88</td>\n",
       "      <td>1.95</td>\n",
       "      <td>1.89</td>\n",
       "      <td>False</td>\n",
       "      <td>97</td>\n",
       "      <td>99</td>\n",
       "    </tr>\n",
       "    <tr>\n",
       "      <th>1</th>\n",
       "      <td>-7.0</td>\n",
       "      <td>-7.5</td>\n",
       "      <td>-6.5</td>\n",
       "      <td>-10.5</td>\n",
       "      <td>Milwaukee Bucks</td>\n",
       "      <td>2015-03-13 01:00:00</td>\n",
       "      <td>Indiana Pacers</td>\n",
       "      <td>1.92</td>\n",
       "      <td>1.83</td>\n",
       "      <td>1.98</td>\n",
       "      <td>...</td>\n",
       "      <td>7</td>\n",
       "      <td>7</td>\n",
       "      <td>4</td>\n",
       "      <td>1.94</td>\n",
       "      <td>2.00</td>\n",
       "      <td>1.86</td>\n",
       "      <td>2.45</td>\n",
       "      <td>True</td>\n",
       "      <td>103</td>\n",
       "      <td>109</td>\n",
       "    </tr>\n",
       "    <tr>\n",
       "      <th>2</th>\n",
       "      <td>9.0</td>\n",
       "      <td>8.5</td>\n",
       "      <td>9.5</td>\n",
       "      <td>6.5</td>\n",
       "      <td>Los Angeles Clippers</td>\n",
       "      <td>2015-03-19 04:00:00</td>\n",
       "      <td>Sacramento Kings</td>\n",
       "      <td>1.94</td>\n",
       "      <td>1.86</td>\n",
       "      <td>1.98</td>\n",
       "      <td>...</td>\n",
       "      <td>7</td>\n",
       "      <td>7</td>\n",
       "      <td>4</td>\n",
       "      <td>1.92</td>\n",
       "      <td>1.97</td>\n",
       "      <td>1.83</td>\n",
       "      <td>2.28</td>\n",
       "      <td>False</td>\n",
       "      <td>116</td>\n",
       "      <td>105</td>\n",
       "    </tr>\n",
       "    <tr>\n",
       "      <th>3</th>\n",
       "      <td>14.5</td>\n",
       "      <td>15.0</td>\n",
       "      <td>13.5</td>\n",
       "      <td>15.5</td>\n",
       "      <td>Los Angeles Clippers</td>\n",
       "      <td>2015-03-26 01:00:00</td>\n",
       "      <td>New York Knicks</td>\n",
       "      <td>17/20</td>\n",
       "      <td>93/100</td>\n",
       "      <td>7/10</td>\n",
       "      <td>...</td>\n",
       "      <td>8</td>\n",
       "      <td>4</td>\n",
       "      <td>4</td>\n",
       "      <td>97/100</td>\n",
       "      <td>47/50</td>\n",
       "      <td>23/20</td>\n",
       "      <td>43/50</td>\n",
       "      <td>False</td>\n",
       "      <td>111</td>\n",
       "      <td>80</td>\n",
       "    </tr>\n",
       "    <tr>\n",
       "      <th>4</th>\n",
       "      <td>3.0</td>\n",
       "      <td>3.5</td>\n",
       "      <td>2.5</td>\n",
       "      <td>2.0</td>\n",
       "      <td>Brooklyn Nets</td>\n",
       "      <td>2015-02-21 05:30:00</td>\n",
       "      <td>Los Angeles Lakers</td>\n",
       "      <td>1.92</td>\n",
       "      <td>1.94</td>\n",
       "      <td>1.83</td>\n",
       "      <td>...</td>\n",
       "      <td>8</td>\n",
       "      <td>5</td>\n",
       "      <td>4</td>\n",
       "      <td>1.94</td>\n",
       "      <td>1.87</td>\n",
       "      <td>2.03</td>\n",
       "      <td>2.12</td>\n",
       "      <td>False</td>\n",
       "      <td>114</td>\n",
       "      <td>105</td>\n",
       "    </tr>\n",
       "  </tbody>\n",
       "</table>\n",
       "<p>5 rows × 22 columns</p>\n",
       "</div>"
      ],
      "text/plain": [
       "   ah_1  ah_2  ah_3  ah_4             away_team           date_time  \\\n",
       "0  -5.0  -4.5  -6.0  -5.5            Miami Heat 2015-03-07 02:00:00   \n",
       "1  -7.0  -7.5  -6.5 -10.5       Milwaukee Bucks 2015-03-13 01:00:00   \n",
       "2   9.0   8.5   9.5   6.5  Los Angeles Clippers 2015-03-19 04:00:00   \n",
       "3  14.5  15.0  13.5  15.5  Los Angeles Clippers 2015-03-26 01:00:00   \n",
       "4   3.0   3.5   2.5   2.0         Brooklyn Nets 2015-02-21 05:30:00   \n",
       "\n",
       "            home_team odd_away_1 odd_away_2 odd_away_3    ...     odd_cnt_2  \\\n",
       "0  Washington Wizards       1.98       1.96       1.91    ...            10   \n",
       "1      Indiana Pacers       1.92       1.83       1.98    ...             7   \n",
       "2    Sacramento Kings       1.94       1.86       1.98    ...             7   \n",
       "3     New York Knicks      17/20     93/100       7/10    ...             8   \n",
       "4  Los Angeles Lakers       1.92       1.94       1.83    ...             8   \n",
       "\n",
       "   odd_cnt_3  odd_cnt_4  odd_home_1  odd_home_2 odd_home_3 odd_home_4  \\\n",
       "0          8          7        1.86        1.88       1.95       1.89   \n",
       "1          7          4        1.94        2.00       1.86       2.45   \n",
       "2          7          4        1.92        1.97       1.83       2.28   \n",
       "3          4          4      97/100       47/50      23/20      43/50   \n",
       "4          5          4        1.94        1.87       2.03       2.12   \n",
       "\n",
       "  overtime score_away score_home  \n",
       "0    False         97         99  \n",
       "1     True        103        109  \n",
       "2    False        116        105  \n",
       "3    False        111         80  \n",
       "4    False        114        105  \n",
       "\n",
       "[5 rows x 22 columns]"
      ]
     },
     "execution_count": 4,
     "metadata": {},
     "output_type": "execute_result"
    }
   ],
   "source": [
    "ah_df.head()"
   ]
  },
  {
   "cell_type": "code",
   "execution_count": 5,
   "metadata": {
    "collapsed": false
   },
   "outputs": [],
   "source": [
    "ah_df = ah_df[ah_df.away_team != 'Team USA']\n",
    "ah_df = ah_df[ah_df.away_team != 'West']\n",
    "ah_df = ah_df[ah_df.home_team != 'Team World']\n",
    "ah_df = ah_df[ah_df.away_team != 'EAST']\n",
    "ah_df['winner'] = np.where(ah_df['score_home'] - ah_df['score_away']>0, 'home','away')\n",
    "ah_df['ot'] = ah_df['overtime'].apply(lambda x : 1 if x == True else 0)\n",
    "ah_df['home_win'] = ah_df['winner'].apply(lambda x : 1 if x == 'home' else 0)\n",
    "\n",
    "ah_df['date_time_DT'] = pd.to_datetime(ah_df['date_time'])\n",
    "ah_df['year'] = ah_df['date_time_DT'].dt.year.astype(str)\n",
    "ah_df['month'] = ah_df['date_time_DT'].dt.month.astype(str)\n",
    "ah_df['day'] = ah_df['date_time_DT'].dt.day.astype(str)\n",
    "ah_df['weekDay'] = ah_df['date_time_DT'].dt.dayofweek.astype(str)"
   ]
  },
  {
   "cell_type": "code",
   "execution_count": 6,
   "metadata": {
    "collapsed": false
   },
   "outputs": [],
   "source": [
    "from fractions import Fraction\n",
    "from decimal import Decimal\n",
    "\n",
    "ah_df[\"new_odd_home_1\"]= ah_df.odd_home_1.apply(lambda x: to_decimal(x))\n",
    "ah_df[\"new_odd_home_2\"]= ah_df.odd_home_2.apply(lambda x: to_decimal(x))\n",
    "ah_df[\"new_odd_home_3\"]= ah_df.odd_home_3.apply(lambda x: to_decimal(x))\n",
    "ah_df[\"new_odd_home_4\"]= ah_df.odd_home_4.apply(lambda x: to_decimal(x))\n",
    "ah_df[\"new_odd_away_1\"]= ah_df.odd_away_1.apply(lambda x: to_decimal(x))\n",
    "ah_df[\"new_odd_away_2\"]= ah_df.odd_away_2.apply(lambda x: to_decimal(x))\n",
    "ah_df[\"new_odd_away_3\"]= ah_df.odd_away_3.apply(lambda x: to_decimal(x))\n",
    "ah_df[\"new_odd_away_4\"]= ah_df.odd_away_4.apply(lambda x: to_decimal(x))"
   ]
  },
  {
   "cell_type": "code",
   "execution_count": 7,
   "metadata": {
    "collapsed": false
   },
   "outputs": [
    {
     "data": {
      "text/html": [
       "<div>\n",
       "<table border=\"1\" class=\"dataframe\">\n",
       "  <thead>\n",
       "    <tr style=\"text-align: right;\">\n",
       "      <th></th>\n",
       "      <th>ah_1</th>\n",
       "      <th>ah_2</th>\n",
       "      <th>ah_3</th>\n",
       "      <th>ah_4</th>\n",
       "      <th>away_team</th>\n",
       "      <th>date_time</th>\n",
       "      <th>home_team</th>\n",
       "      <th>odd_away_1</th>\n",
       "      <th>odd_away_2</th>\n",
       "      <th>odd_away_3</th>\n",
       "      <th>...</th>\n",
       "      <th>day</th>\n",
       "      <th>weekDay</th>\n",
       "      <th>new_odd_home_1</th>\n",
       "      <th>new_odd_home_2</th>\n",
       "      <th>new_odd_home_3</th>\n",
       "      <th>new_odd_home_4</th>\n",
       "      <th>new_odd_away_1</th>\n",
       "      <th>new_odd_away_2</th>\n",
       "      <th>new_odd_away_3</th>\n",
       "      <th>new_odd_away_4</th>\n",
       "    </tr>\n",
       "  </thead>\n",
       "  <tbody>\n",
       "    <tr>\n",
       "      <th>0</th>\n",
       "      <td>-5.0</td>\n",
       "      <td>-4.5</td>\n",
       "      <td>-6.0</td>\n",
       "      <td>-5.5</td>\n",
       "      <td>Miami Heat</td>\n",
       "      <td>2015-03-07 02:00:00</td>\n",
       "      <td>Washington Wizards</td>\n",
       "      <td>1.98</td>\n",
       "      <td>1.96</td>\n",
       "      <td>1.91</td>\n",
       "      <td>...</td>\n",
       "      <td>7</td>\n",
       "      <td>5</td>\n",
       "      <td>1.86</td>\n",
       "      <td>1.88</td>\n",
       "      <td>1.95</td>\n",
       "      <td>1.89</td>\n",
       "      <td>1.98</td>\n",
       "      <td>1.96</td>\n",
       "      <td>1.91</td>\n",
       "      <td>1.93</td>\n",
       "    </tr>\n",
       "    <tr>\n",
       "      <th>1</th>\n",
       "      <td>-7.0</td>\n",
       "      <td>-7.5</td>\n",
       "      <td>-6.5</td>\n",
       "      <td>-10.5</td>\n",
       "      <td>Milwaukee Bucks</td>\n",
       "      <td>2015-03-13 01:00:00</td>\n",
       "      <td>Indiana Pacers</td>\n",
       "      <td>1.92</td>\n",
       "      <td>1.83</td>\n",
       "      <td>1.98</td>\n",
       "      <td>...</td>\n",
       "      <td>13</td>\n",
       "      <td>4</td>\n",
       "      <td>1.94</td>\n",
       "      <td>2.00</td>\n",
       "      <td>1.86</td>\n",
       "      <td>2.45</td>\n",
       "      <td>1.92</td>\n",
       "      <td>1.83</td>\n",
       "      <td>1.98</td>\n",
       "      <td>1.51</td>\n",
       "    </tr>\n",
       "    <tr>\n",
       "      <th>2</th>\n",
       "      <td>9.0</td>\n",
       "      <td>8.5</td>\n",
       "      <td>9.5</td>\n",
       "      <td>6.5</td>\n",
       "      <td>Los Angeles Clippers</td>\n",
       "      <td>2015-03-19 04:00:00</td>\n",
       "      <td>Sacramento Kings</td>\n",
       "      <td>1.94</td>\n",
       "      <td>1.86</td>\n",
       "      <td>1.98</td>\n",
       "      <td>...</td>\n",
       "      <td>19</td>\n",
       "      <td>3</td>\n",
       "      <td>1.92</td>\n",
       "      <td>1.97</td>\n",
       "      <td>1.83</td>\n",
       "      <td>2.28</td>\n",
       "      <td>1.94</td>\n",
       "      <td>1.86</td>\n",
       "      <td>1.98</td>\n",
       "      <td>1.60</td>\n",
       "    </tr>\n",
       "    <tr>\n",
       "      <th>3</th>\n",
       "      <td>14.5</td>\n",
       "      <td>15.0</td>\n",
       "      <td>13.5</td>\n",
       "      <td>15.5</td>\n",
       "      <td>Los Angeles Clippers</td>\n",
       "      <td>2015-03-26 01:00:00</td>\n",
       "      <td>New York Knicks</td>\n",
       "      <td>17/20</td>\n",
       "      <td>93/100</td>\n",
       "      <td>7/10</td>\n",
       "      <td>...</td>\n",
       "      <td>26</td>\n",
       "      <td>3</td>\n",
       "      <td>1.97</td>\n",
       "      <td>1.94</td>\n",
       "      <td>2.15</td>\n",
       "      <td>1.86</td>\n",
       "      <td>1.85</td>\n",
       "      <td>1.93</td>\n",
       "      <td>1.7</td>\n",
       "      <td>1.95</td>\n",
       "    </tr>\n",
       "    <tr>\n",
       "      <th>4</th>\n",
       "      <td>3.0</td>\n",
       "      <td>3.5</td>\n",
       "      <td>2.5</td>\n",
       "      <td>2.0</td>\n",
       "      <td>Brooklyn Nets</td>\n",
       "      <td>2015-02-21 05:30:00</td>\n",
       "      <td>Los Angeles Lakers</td>\n",
       "      <td>1.92</td>\n",
       "      <td>1.94</td>\n",
       "      <td>1.83</td>\n",
       "      <td>...</td>\n",
       "      <td>21</td>\n",
       "      <td>5</td>\n",
       "      <td>1.94</td>\n",
       "      <td>1.87</td>\n",
       "      <td>2.03</td>\n",
       "      <td>2.12</td>\n",
       "      <td>1.92</td>\n",
       "      <td>1.94</td>\n",
       "      <td>1.83</td>\n",
       "      <td>1.75</td>\n",
       "    </tr>\n",
       "  </tbody>\n",
       "</table>\n",
       "<p>5 rows × 38 columns</p>\n",
       "</div>"
      ],
      "text/plain": [
       "   ah_1  ah_2  ah_3  ah_4             away_team           date_time  \\\n",
       "0  -5.0  -4.5  -6.0  -5.5            Miami Heat 2015-03-07 02:00:00   \n",
       "1  -7.0  -7.5  -6.5 -10.5       Milwaukee Bucks 2015-03-13 01:00:00   \n",
       "2   9.0   8.5   9.5   6.5  Los Angeles Clippers 2015-03-19 04:00:00   \n",
       "3  14.5  15.0  13.5  15.5  Los Angeles Clippers 2015-03-26 01:00:00   \n",
       "4   3.0   3.5   2.5   2.0         Brooklyn Nets 2015-02-21 05:30:00   \n",
       "\n",
       "            home_team odd_away_1 odd_away_2 odd_away_3      ...       day  \\\n",
       "0  Washington Wizards       1.98       1.96       1.91      ...         7   \n",
       "1      Indiana Pacers       1.92       1.83       1.98      ...        13   \n",
       "2    Sacramento Kings       1.94       1.86       1.98      ...        19   \n",
       "3     New York Knicks      17/20     93/100       7/10      ...        26   \n",
       "4  Los Angeles Lakers       1.92       1.94       1.83      ...        21   \n",
       "\n",
       "   weekDay  new_odd_home_1  new_odd_home_2  new_odd_home_3 new_odd_home_4  \\\n",
       "0        5            1.86            1.88            1.95           1.89   \n",
       "1        4            1.94            2.00            1.86           2.45   \n",
       "2        3            1.92            1.97            1.83           2.28   \n",
       "3        3            1.97            1.94            2.15           1.86   \n",
       "4        5            1.94            1.87            2.03           2.12   \n",
       "\n",
       "  new_odd_away_1 new_odd_away_2 new_odd_away_3 new_odd_away_4  \n",
       "0           1.98           1.96           1.91           1.93  \n",
       "1           1.92           1.83           1.98           1.51  \n",
       "2           1.94           1.86           1.98           1.60  \n",
       "3           1.85           1.93            1.7           1.95  \n",
       "4           1.92           1.94           1.83           1.75  \n",
       "\n",
       "[5 rows x 38 columns]"
      ]
     },
     "execution_count": 7,
     "metadata": {},
     "output_type": "execute_result"
    }
   ],
   "source": [
    "ah_df.head()"
   ]
  },
  {
   "cell_type": "code",
   "execution_count": 8,
   "metadata": {
    "collapsed": true
   },
   "outputs": [],
   "source": [
    "# ah_df.drop(\"odd_home_1\", axis=1, inplace=True)\n",
    "# ah_df.drop(\"odd_home_2\", axis=1, inplace=True)\n",
    "# ah_df.drop(\"odd_home_3\", axis=1, inplace=True)\n",
    "# ah_df.drop(\"odd_home_4\", axis=1, inplace=True)\n",
    "# ah_df.drop(\"odd_away_1\", axis=1, inplace=True)\n",
    "# ah_df.drop(\"odd_away_2\", axis=1, inplace=True)\n",
    "# ah_df.drop(\"odd_away_3\", axis=1, inplace=True)\n",
    "# ah_df.drop(\"odd_away_4\", axis=1, inplace=True)\n",
    "ah_df.drop(['odd_home_1', 'odd_home_2', 'odd_home_3', 'odd_home_4', 'odd_away_1', 'odd_away_2', 'odd_away_3', 'odd_away_4'], axis=1, inplace=True)"
   ]
  },
  {
   "cell_type": "code",
   "execution_count": 9,
   "metadata": {
    "collapsed": false
   },
   "outputs": [
    {
     "data": {
      "text/html": [
       "<div>\n",
       "<table border=\"1\" class=\"dataframe\">\n",
       "  <thead>\n",
       "    <tr style=\"text-align: right;\">\n",
       "      <th></th>\n",
       "      <th>ah_1</th>\n",
       "      <th>ah_2</th>\n",
       "      <th>ah_3</th>\n",
       "      <th>ah_4</th>\n",
       "      <th>away_team</th>\n",
       "      <th>date_time</th>\n",
       "      <th>home_team</th>\n",
       "      <th>odd_cnt_1</th>\n",
       "      <th>odd_cnt_2</th>\n",
       "      <th>odd_cnt_3</th>\n",
       "      <th>...</th>\n",
       "      <th>day</th>\n",
       "      <th>weekDay</th>\n",
       "      <th>new_odd_home_1</th>\n",
       "      <th>new_odd_home_2</th>\n",
       "      <th>new_odd_home_3</th>\n",
       "      <th>new_odd_home_4</th>\n",
       "      <th>new_odd_away_1</th>\n",
       "      <th>new_odd_away_2</th>\n",
       "      <th>new_odd_away_3</th>\n",
       "      <th>new_odd_away_4</th>\n",
       "    </tr>\n",
       "  </thead>\n",
       "  <tbody>\n",
       "    <tr>\n",
       "      <th>0</th>\n",
       "      <td>-5.0</td>\n",
       "      <td>-4.5</td>\n",
       "      <td>-6.0</td>\n",
       "      <td>-5.5</td>\n",
       "      <td>Miami Heat</td>\n",
       "      <td>2015-03-07 02:00:00</td>\n",
       "      <td>Washington Wizards</td>\n",
       "      <td>10</td>\n",
       "      <td>10</td>\n",
       "      <td>8</td>\n",
       "      <td>...</td>\n",
       "      <td>7</td>\n",
       "      <td>5</td>\n",
       "      <td>1.86</td>\n",
       "      <td>1.88</td>\n",
       "      <td>1.95</td>\n",
       "      <td>1.89</td>\n",
       "      <td>1.98</td>\n",
       "      <td>1.96</td>\n",
       "      <td>1.91</td>\n",
       "      <td>1.93</td>\n",
       "    </tr>\n",
       "    <tr>\n",
       "      <th>1</th>\n",
       "      <td>-7.0</td>\n",
       "      <td>-7.5</td>\n",
       "      <td>-6.5</td>\n",
       "      <td>-10.5</td>\n",
       "      <td>Milwaukee Bucks</td>\n",
       "      <td>2015-03-13 01:00:00</td>\n",
       "      <td>Indiana Pacers</td>\n",
       "      <td>9</td>\n",
       "      <td>7</td>\n",
       "      <td>7</td>\n",
       "      <td>...</td>\n",
       "      <td>13</td>\n",
       "      <td>4</td>\n",
       "      <td>1.94</td>\n",
       "      <td>2.00</td>\n",
       "      <td>1.86</td>\n",
       "      <td>2.45</td>\n",
       "      <td>1.92</td>\n",
       "      <td>1.83</td>\n",
       "      <td>1.98</td>\n",
       "      <td>1.51</td>\n",
       "    </tr>\n",
       "    <tr>\n",
       "      <th>2</th>\n",
       "      <td>9.0</td>\n",
       "      <td>8.5</td>\n",
       "      <td>9.5</td>\n",
       "      <td>6.5</td>\n",
       "      <td>Los Angeles Clippers</td>\n",
       "      <td>2015-03-19 04:00:00</td>\n",
       "      <td>Sacramento Kings</td>\n",
       "      <td>9</td>\n",
       "      <td>7</td>\n",
       "      <td>7</td>\n",
       "      <td>...</td>\n",
       "      <td>19</td>\n",
       "      <td>3</td>\n",
       "      <td>1.92</td>\n",
       "      <td>1.97</td>\n",
       "      <td>1.83</td>\n",
       "      <td>2.28</td>\n",
       "      <td>1.94</td>\n",
       "      <td>1.86</td>\n",
       "      <td>1.98</td>\n",
       "      <td>1.60</td>\n",
       "    </tr>\n",
       "    <tr>\n",
       "      <th>3</th>\n",
       "      <td>14.5</td>\n",
       "      <td>15.0</td>\n",
       "      <td>13.5</td>\n",
       "      <td>15.5</td>\n",
       "      <td>Los Angeles Clippers</td>\n",
       "      <td>2015-03-26 01:00:00</td>\n",
       "      <td>New York Knicks</td>\n",
       "      <td>9</td>\n",
       "      <td>8</td>\n",
       "      <td>4</td>\n",
       "      <td>...</td>\n",
       "      <td>26</td>\n",
       "      <td>3</td>\n",
       "      <td>1.97</td>\n",
       "      <td>1.94</td>\n",
       "      <td>2.15</td>\n",
       "      <td>1.86</td>\n",
       "      <td>1.85</td>\n",
       "      <td>1.93</td>\n",
       "      <td>1.7</td>\n",
       "      <td>1.95</td>\n",
       "    </tr>\n",
       "    <tr>\n",
       "      <th>4</th>\n",
       "      <td>3.0</td>\n",
       "      <td>3.5</td>\n",
       "      <td>2.5</td>\n",
       "      <td>2.0</td>\n",
       "      <td>Brooklyn Nets</td>\n",
       "      <td>2015-02-21 05:30:00</td>\n",
       "      <td>Los Angeles Lakers</td>\n",
       "      <td>10</td>\n",
       "      <td>8</td>\n",
       "      <td>5</td>\n",
       "      <td>...</td>\n",
       "      <td>21</td>\n",
       "      <td>5</td>\n",
       "      <td>1.94</td>\n",
       "      <td>1.87</td>\n",
       "      <td>2.03</td>\n",
       "      <td>2.12</td>\n",
       "      <td>1.92</td>\n",
       "      <td>1.94</td>\n",
       "      <td>1.83</td>\n",
       "      <td>1.75</td>\n",
       "    </tr>\n",
       "  </tbody>\n",
       "</table>\n",
       "<p>5 rows × 30 columns</p>\n",
       "</div>"
      ],
      "text/plain": [
       "   ah_1  ah_2  ah_3  ah_4             away_team           date_time  \\\n",
       "0  -5.0  -4.5  -6.0  -5.5            Miami Heat 2015-03-07 02:00:00   \n",
       "1  -7.0  -7.5  -6.5 -10.5       Milwaukee Bucks 2015-03-13 01:00:00   \n",
       "2   9.0   8.5   9.5   6.5  Los Angeles Clippers 2015-03-19 04:00:00   \n",
       "3  14.5  15.0  13.5  15.5  Los Angeles Clippers 2015-03-26 01:00:00   \n",
       "4   3.0   3.5   2.5   2.0         Brooklyn Nets 2015-02-21 05:30:00   \n",
       "\n",
       "            home_team  odd_cnt_1  odd_cnt_2  odd_cnt_3      ...        day  \\\n",
       "0  Washington Wizards         10         10          8      ...          7   \n",
       "1      Indiana Pacers          9          7          7      ...         13   \n",
       "2    Sacramento Kings          9          7          7      ...         19   \n",
       "3     New York Knicks          9          8          4      ...         26   \n",
       "4  Los Angeles Lakers         10          8          5      ...         21   \n",
       "\n",
       "  weekDay  new_odd_home_1  new_odd_home_2 new_odd_home_3  new_odd_home_4  \\\n",
       "0       5            1.86            1.88           1.95            1.89   \n",
       "1       4            1.94            2.00           1.86            2.45   \n",
       "2       3            1.92            1.97           1.83            2.28   \n",
       "3       3            1.97            1.94           2.15            1.86   \n",
       "4       5            1.94            1.87           2.03            2.12   \n",
       "\n",
       "   new_odd_away_1 new_odd_away_2 new_odd_away_3 new_odd_away_4  \n",
       "0            1.98           1.96           1.91           1.93  \n",
       "1            1.92           1.83           1.98           1.51  \n",
       "2            1.94           1.86           1.98           1.60  \n",
       "3            1.85           1.93            1.7           1.95  \n",
       "4            1.92           1.94           1.83           1.75  \n",
       "\n",
       "[5 rows x 30 columns]"
      ]
     },
     "execution_count": 9,
     "metadata": {},
     "output_type": "execute_result"
    }
   ],
   "source": [
    "ah_df.head()"
   ]
  },
  {
   "cell_type": "code",
   "execution_count": 10,
   "metadata": {
    "collapsed": false
   },
   "outputs": [],
   "source": [
    "one_hot = pd.get_dummies(ah_df[['away_team','home_team']], prefix=['away_team_', 'home_team_'])"
   ]
  },
  {
   "cell_type": "code",
   "execution_count": 11,
   "metadata": {
    "collapsed": true
   },
   "outputs": [],
   "source": [
    "ah_df = ah_df.join(one_hot)\n",
    "ah_df.drop(['away_team','home_team'], axis=1, inplace=True)"
   ]
  },
  {
   "cell_type": "code",
   "execution_count": 12,
   "metadata": {
    "collapsed": false
   },
   "outputs": [],
   "source": [
    "ah_df.drop(['date_time', 'date_time_DT', 'winner', 'overtime'], axis=1, inplace=True)"
   ]
  },
  {
   "cell_type": "code",
   "execution_count": 13,
   "metadata": {
    "collapsed": false
   },
   "outputs": [],
   "source": [
    "ah_df['total_score'] = ah_df['score_home'] + ah_df['score_away']\n",
    "ah_df['sub_score'] = ah_df['score_home'] - ah_df['score_away']"
   ]
  },
  {
   "cell_type": "code",
   "execution_count": 14,
   "metadata": {
    "collapsed": false
   },
   "outputs": [
    {
     "data": {
      "text/html": [
       "<div>\n",
       "<table border=\"1\" class=\"dataframe\">\n",
       "  <thead>\n",
       "    <tr style=\"text-align: right;\">\n",
       "      <th></th>\n",
       "      <th>ah_1</th>\n",
       "      <th>ah_2</th>\n",
       "      <th>ah_3</th>\n",
       "      <th>ah_4</th>\n",
       "      <th>odd_cnt_1</th>\n",
       "      <th>odd_cnt_2</th>\n",
       "      <th>odd_cnt_3</th>\n",
       "      <th>odd_cnt_4</th>\n",
       "      <th>score_away</th>\n",
       "      <th>score_home</th>\n",
       "      <th>...</th>\n",
       "      <th>home_team__Philadelphia 76ers</th>\n",
       "      <th>home_team__Phoenix Suns</th>\n",
       "      <th>home_team__Portland Trail Blazers</th>\n",
       "      <th>home_team__Sacramento Kings</th>\n",
       "      <th>home_team__San Antonio Spurs</th>\n",
       "      <th>home_team__Toronto Raptors</th>\n",
       "      <th>home_team__Utah Jazz</th>\n",
       "      <th>home_team__Washington Wizards</th>\n",
       "      <th>total_score</th>\n",
       "      <th>sub_score</th>\n",
       "    </tr>\n",
       "  </thead>\n",
       "  <tbody>\n",
       "    <tr>\n",
       "      <th>0</th>\n",
       "      <td>-5.0</td>\n",
       "      <td>-4.5</td>\n",
       "      <td>-6.0</td>\n",
       "      <td>-5.5</td>\n",
       "      <td>10</td>\n",
       "      <td>10</td>\n",
       "      <td>8</td>\n",
       "      <td>7</td>\n",
       "      <td>97</td>\n",
       "      <td>99</td>\n",
       "      <td>...</td>\n",
       "      <td>0</td>\n",
       "      <td>0</td>\n",
       "      <td>0</td>\n",
       "      <td>0</td>\n",
       "      <td>0</td>\n",
       "      <td>0</td>\n",
       "      <td>0</td>\n",
       "      <td>1</td>\n",
       "      <td>196</td>\n",
       "      <td>2</td>\n",
       "    </tr>\n",
       "    <tr>\n",
       "      <th>1</th>\n",
       "      <td>-7.0</td>\n",
       "      <td>-7.5</td>\n",
       "      <td>-6.5</td>\n",
       "      <td>-10.5</td>\n",
       "      <td>9</td>\n",
       "      <td>7</td>\n",
       "      <td>7</td>\n",
       "      <td>4</td>\n",
       "      <td>103</td>\n",
       "      <td>109</td>\n",
       "      <td>...</td>\n",
       "      <td>0</td>\n",
       "      <td>0</td>\n",
       "      <td>0</td>\n",
       "      <td>0</td>\n",
       "      <td>0</td>\n",
       "      <td>0</td>\n",
       "      <td>0</td>\n",
       "      <td>0</td>\n",
       "      <td>212</td>\n",
       "      <td>6</td>\n",
       "    </tr>\n",
       "    <tr>\n",
       "      <th>2</th>\n",
       "      <td>9.0</td>\n",
       "      <td>8.5</td>\n",
       "      <td>9.5</td>\n",
       "      <td>6.5</td>\n",
       "      <td>9</td>\n",
       "      <td>7</td>\n",
       "      <td>7</td>\n",
       "      <td>4</td>\n",
       "      <td>116</td>\n",
       "      <td>105</td>\n",
       "      <td>...</td>\n",
       "      <td>0</td>\n",
       "      <td>0</td>\n",
       "      <td>0</td>\n",
       "      <td>1</td>\n",
       "      <td>0</td>\n",
       "      <td>0</td>\n",
       "      <td>0</td>\n",
       "      <td>0</td>\n",
       "      <td>221</td>\n",
       "      <td>-11</td>\n",
       "    </tr>\n",
       "    <tr>\n",
       "      <th>3</th>\n",
       "      <td>14.5</td>\n",
       "      <td>15.0</td>\n",
       "      <td>13.5</td>\n",
       "      <td>15.5</td>\n",
       "      <td>9</td>\n",
       "      <td>8</td>\n",
       "      <td>4</td>\n",
       "      <td>4</td>\n",
       "      <td>111</td>\n",
       "      <td>80</td>\n",
       "      <td>...</td>\n",
       "      <td>0</td>\n",
       "      <td>0</td>\n",
       "      <td>0</td>\n",
       "      <td>0</td>\n",
       "      <td>0</td>\n",
       "      <td>0</td>\n",
       "      <td>0</td>\n",
       "      <td>0</td>\n",
       "      <td>191</td>\n",
       "      <td>-31</td>\n",
       "    </tr>\n",
       "    <tr>\n",
       "      <th>4</th>\n",
       "      <td>3.0</td>\n",
       "      <td>3.5</td>\n",
       "      <td>2.5</td>\n",
       "      <td>2.0</td>\n",
       "      <td>10</td>\n",
       "      <td>8</td>\n",
       "      <td>5</td>\n",
       "      <td>4</td>\n",
       "      <td>114</td>\n",
       "      <td>105</td>\n",
       "      <td>...</td>\n",
       "      <td>0</td>\n",
       "      <td>0</td>\n",
       "      <td>0</td>\n",
       "      <td>0</td>\n",
       "      <td>0</td>\n",
       "      <td>0</td>\n",
       "      <td>0</td>\n",
       "      <td>0</td>\n",
       "      <td>219</td>\n",
       "      <td>-9</td>\n",
       "    </tr>\n",
       "  </tbody>\n",
       "</table>\n",
       "<p>5 rows × 86 columns</p>\n",
       "</div>"
      ],
      "text/plain": [
       "   ah_1  ah_2  ah_3  ah_4  odd_cnt_1  odd_cnt_2  odd_cnt_3  odd_cnt_4  \\\n",
       "0  -5.0  -4.5  -6.0  -5.5         10         10          8          7   \n",
       "1  -7.0  -7.5  -6.5 -10.5          9          7          7          4   \n",
       "2   9.0   8.5   9.5   6.5          9          7          7          4   \n",
       "3  14.5  15.0  13.5  15.5          9          8          4          4   \n",
       "4   3.0   3.5   2.5   2.0         10          8          5          4   \n",
       "\n",
       "   score_away  score_home    ...     home_team__Philadelphia 76ers  \\\n",
       "0          97          99    ...                                 0   \n",
       "1         103         109    ...                                 0   \n",
       "2         116         105    ...                                 0   \n",
       "3         111          80    ...                                 0   \n",
       "4         114         105    ...                                 0   \n",
       "\n",
       "   home_team__Phoenix Suns home_team__Portland Trail Blazers  \\\n",
       "0                        0                                 0   \n",
       "1                        0                                 0   \n",
       "2                        0                                 0   \n",
       "3                        0                                 0   \n",
       "4                        0                                 0   \n",
       "\n",
       "  home_team__Sacramento Kings home_team__San Antonio Spurs  \\\n",
       "0                           0                            0   \n",
       "1                           0                            0   \n",
       "2                           1                            0   \n",
       "3                           0                            0   \n",
       "4                           0                            0   \n",
       "\n",
       "  home_team__Toronto Raptors home_team__Utah Jazz  \\\n",
       "0                          0                    0   \n",
       "1                          0                    0   \n",
       "2                          0                    0   \n",
       "3                          0                    0   \n",
       "4                          0                    0   \n",
       "\n",
       "  home_team__Washington Wizards total_score sub_score  \n",
       "0                             1         196         2  \n",
       "1                             0         212         6  \n",
       "2                             0         221       -11  \n",
       "3                             0         191       -31  \n",
       "4                             0         219        -9  \n",
       "\n",
       "[5 rows x 86 columns]"
      ]
     },
     "execution_count": 14,
     "metadata": {},
     "output_type": "execute_result"
    }
   ],
   "source": [
    "ah_df.head()"
   ]
  },
  {
   "cell_type": "code",
   "execution_count": 15,
   "metadata": {
    "collapsed": false
   },
   "outputs": [],
   "source": [
    "cols = list(ah_df.columns.values)\n",
    "ah_df = ah_df[[u'away_team__Atlanta Hawks',\n",
    " u'away_team__Boston Celtics',\n",
    " u'away_team__Brooklyn Nets',\n",
    " u'away_team__Charlotte Hornets',\n",
    " u'away_team__Chicago Bulls',\n",
    " u'away_team__Cleveland Cavaliers',\n",
    " u'away_team__Dallas Mavericks',\n",
    " u'away_team__Denver Nuggets',\n",
    " u'away_team__Detroit Pistons',\n",
    " u'away_team__Golden State Warriors',\n",
    " u'away_team__Houston Rockets',\n",
    " u'away_team__Indiana Pacers',\n",
    " u'away_team__Los Angeles Clippers',\n",
    " u'away_team__Los Angeles Lakers',\n",
    " u'away_team__Memphis Grizzlies',\n",
    " u'away_team__Miami Heat',\n",
    " u'away_team__Milwaukee Bucks',\n",
    " u'away_team__Minnesota Timberwolves',\n",
    " u'away_team__New Orleans Pelicans',\n",
    " u'away_team__New York Knicks',\n",
    " u'away_team__Oklahoma City Thunder',\n",
    " u'away_team__Orlando Magic',\n",
    " u'away_team__Philadelphia 76ers',\n",
    " u'away_team__Phoenix Suns',\n",
    " u'away_team__Portland Trail Blazers',\n",
    " u'away_team__Sacramento Kings',\n",
    " u'away_team__San Antonio Spurs',\n",
    " u'away_team__Toronto Raptors',\n",
    " u'away_team__Utah Jazz',\n",
    " u'away_team__Washington Wizards',\n",
    " u'home_team__Atlanta Hawks',\n",
    " u'home_team__Boston Celtics',\n",
    " u'home_team__Brooklyn Nets',\n",
    " u'home_team__Charlotte Hornets',\n",
    " u'home_team__Chicago Bulls',\n",
    " u'home_team__Cleveland Cavaliers',\n",
    " u'home_team__Dallas Mavericks',\n",
    " u'home_team__Denver Nuggets',\n",
    " u'home_team__Detroit Pistons',\n",
    " u'home_team__Golden State Warriors',\n",
    " u'home_team__Houston Rockets',\n",
    " u'home_team__Indiana Pacers',\n",
    " u'home_team__Los Angeles Clippers',\n",
    " u'home_team__Los Angeles Lakers',\n",
    " u'home_team__Memphis Grizzlies',\n",
    " u'home_team__Miami Heat',\n",
    " u'home_team__Milwaukee Bucks',\n",
    " u'home_team__Minnesota Timberwolves',\n",
    " u'home_team__New Orleans Pelicans',\n",
    " u'home_team__New York Knicks',\n",
    " u'home_team__Oklahoma City Thunder',\n",
    " u'home_team__Orlando Magic',\n",
    " u'home_team__Philadelphia 76ers',\n",
    " u'home_team__Phoenix Suns',\n",
    " u'home_team__Portland Trail Blazers',\n",
    " u'home_team__Sacramento Kings',\n",
    " u'home_team__San Antonio Spurs',\n",
    " u'home_team__Toronto Raptors',\n",
    " u'home_team__Utah Jazz',\n",
    " u'home_team__Washington Wizards',\n",
    "\n",
    " u'ah_1',\n",
    " u'odd_cnt_1',\n",
    " 'new_odd_home_1',\n",
    " 'new_odd_away_1',\n",
    " u'ah_2',\n",
    " u'odd_cnt_2',\n",
    " 'new_odd_home_2',\n",
    " 'new_odd_away_2',\n",
    " u'ah_3',\n",
    " u'odd_cnt_3',\n",
    " 'new_odd_home_3',\n",
    " 'new_odd_away_3',\n",
    " u'ah_4',\n",
    " u'odd_cnt_4',\n",
    " 'new_odd_home_4',\n",
    " 'new_odd_away_4',\n",
    " \n",
    " 'year',\n",
    " 'month',\n",
    " 'day',\n",
    " 'weekDay',\n",
    " 'ot',\n",
    " 'home_win',\n",
    " u'score_away',\n",
    " u'score_home',\n",
    " 'total_score',\n",
    " 'sub_score']]"
   ]
  },
  {
   "cell_type": "code",
   "execution_count": 16,
   "metadata": {
    "collapsed": true
   },
   "outputs": [],
   "source": [
    "ah_df.to_json(\"ah_df_bk20170120.json\", orient='records')"
   ]
  },
  {
   "cell_type": "code",
   "execution_count": 17,
   "metadata": {
    "collapsed": false
   },
   "outputs": [],
   "source": [
    "ah_data = ah_df.as_matrix()"
   ]
  },
  {
   "cell_type": "code",
   "execution_count": 18,
   "metadata": {
    "collapsed": false
   },
   "outputs": [
    {
     "data": {
      "text/plain": [
       "(3091, 86)"
      ]
     },
     "execution_count": 18,
     "metadata": {},
     "output_type": "execute_result"
    }
   ],
   "source": [
    "ah_data.shape"
   ]
  },
  {
   "cell_type": "code",
   "execution_count": 19,
   "metadata": {
    "collapsed": false
   },
   "outputs": [],
   "source": [
    "train_data = ah_data[:,:-5]\n",
    "train_label = ah_data[:,-5:].astype(int)"
   ]
  },
  {
   "cell_type": "code",
   "execution_count": 20,
   "metadata": {
    "collapsed": false
   },
   "outputs": [
    {
     "name": "stderr",
     "output_type": "stream",
     "text": [
      "/Users/ccuulinay/.pyenv/versions/2.7.9/lib/python2.7/site-packages/sklearn/utils/validation.py:429: DataConversionWarning: Data with input dtype object was converted to float64 by StandardScaler.\n",
      "  warnings.warn(msg, _DataConversionWarning)\n"
     ]
    }
   ],
   "source": [
    "# First build a simple RFC for home_win\n",
    "x_train, x_test, y_train, y_test = train_test_split(train_data,train_label[:,0], test_size=0.3)\n",
    "# clf = RandomForestClassifier(n_estimators=200, criterion='entropy', max_depth=4)\n",
    "\n",
    "clf = Pipeline([\n",
    "        ('ss', StandardScaler()),\n",
    "        ('DTC', RandomForestClassifier(n_estimators=200, criterion='entropy', max_depth=4))])\n",
    "rf_clf = clf.fit(x_train, y_train)\n",
    "y_hat = rf_clf.predict(x_test)\n",
    "result = (y_hat == y_test)"
   ]
  },
  {
   "cell_type": "code",
   "execution_count": 21,
   "metadata": {
    "collapsed": false
   },
   "outputs": [
    {
     "data": {
      "text/plain": [
       "0.68318965517241381"
      ]
     },
     "execution_count": 21,
     "metadata": {},
     "output_type": "execute_result"
    }
   ],
   "source": [
    "acc = np.mean(result)\n",
    "acc"
   ]
  },
  {
   "cell_type": "code",
   "execution_count": 22,
   "metadata": {
    "collapsed": false
   },
   "outputs": [],
   "source": [
    "# Try some other clf on home_win\n",
    "from sklearn.ensemble import GradientBoostingClassifier\n",
    "x_train, x_test, y_train, y_test = train_test_split(train_data,train_label[:,0], test_size=0.3)\n",
    "\n",
    "clf = Pipeline([\n",
    "        ('ss', StandardScaler()),\n",
    "        ('DTC', GradientBoostingClassifier(n_estimators=200, max_depth=4))])\n",
    "rf_clf = clf.fit(x_train, y_train)\n",
    "y_hat = rf_clf.predict(x_test)\n",
    "result = (y_hat == y_test)"
   ]
  },
  {
   "cell_type": "code",
   "execution_count": 23,
   "metadata": {
    "collapsed": false
   },
   "outputs": [
    {
     "data": {
      "text/plain": [
       "0.72844827586206895"
      ]
     },
     "execution_count": 23,
     "metadata": {},
     "output_type": "execute_result"
    }
   ],
   "source": [
    "acc = np.mean(result)\n",
    "acc"
   ]
  },
  {
   "cell_type": "code",
   "execution_count": 24,
   "metadata": {
    "collapsed": false
   },
   "outputs": [
    {
     "name": "stdout",
     "output_type": "stream",
     "text": [
      "[0]\teval-merror:0.310345\ttrain-merror:0.295423\n",
      "[1]\teval-merror:0.313578\ttrain-merror:0.292187\n",
      "[2]\teval-merror:0.321121\ttrain-merror:0.280629\n",
      "[3]\teval-merror:0.325431\ttrain-merror:0.275081\n",
      "[4]\teval-merror:0.325431\ttrain-merror:0.259824\n",
      "[5]\teval-merror:0.326509\ttrain-merror:0.260749\n"
     ]
    },
    {
     "name": "stderr",
     "output_type": "stream",
     "text": [
      "/Users/ccuulinay/.pyenv/versions/2.7.9/lib/python2.7/site-packages/sklearn/cross_validation.py:44: DeprecationWarning: This module was deprecated in version 0.18 in favor of the model_selection module into which all the refactored classes and functions are moved. Also note that the interface of the new CV iterators are different from that of this module. This module will be removed in 0.20.\n",
      "  \"This module will be removed in 0.20.\", DeprecationWarning)\n"
     ]
    }
   ],
   "source": [
    "# Try XGBoost on home_win\n",
    "import xgboost as xgb\n",
    "x_train, x_test, y_train, y_test = train_test_split(train_data,train_label[:,0], test_size=0.3)\n",
    "\n",
    "data_train = xgb.DMatrix(x_train, label=y_train)\n",
    "data_test = xgb.DMatrix(x_test, label=y_test)\n",
    "watch_list = [(data_test, 'eval'), (data_train, 'train')]\n",
    "param = {'max_depth': 3, 'eta': 1, 'silent': 1, 'objective': 'multi:softmax', 'num_class': 2}\n",
    "bst = xgb.train(param, data_train, num_boost_round=6, evals=watch_list)\n",
    "y_hat = bst.predict(data_test)\n",
    "result = (y_hat == y_test)"
   ]
  },
  {
   "cell_type": "code",
   "execution_count": 25,
   "metadata": {
    "collapsed": false
   },
   "outputs": [
    {
     "data": {
      "text/plain": [
       "0.67349137931034486"
      ]
     },
     "execution_count": 25,
     "metadata": {},
     "output_type": "execute_result"
    }
   ],
   "source": [
    "acc = np.mean(result)\n",
    "acc"
   ]
  },
  {
   "cell_type": "markdown",
   "metadata": {
    "collapsed": true
   },
   "source": [
    "### Get the data cols and result cols and have a look to regressors on subscore."
   ]
  },
  {
   "cell_type": "code",
   "execution_count": 26,
   "metadata": {
    "collapsed": true
   },
   "outputs": [],
   "source": [
    "adjusted_x_cols = [u'away_team__Atlanta Hawks',\n",
    " u'away_team__Boston Celtics',\n",
    " u'away_team__Brooklyn Nets',\n",
    " u'away_team__Charlotte Hornets',\n",
    " u'away_team__Chicago Bulls',\n",
    " u'away_team__Cleveland Cavaliers',\n",
    " u'away_team__Dallas Mavericks',\n",
    " u'away_team__Denver Nuggets',\n",
    " u'away_team__Detroit Pistons',\n",
    " u'away_team__Golden State Warriors',\n",
    " u'away_team__Houston Rockets',\n",
    " u'away_team__Indiana Pacers',\n",
    " u'away_team__Los Angeles Clippers',\n",
    " u'away_team__Los Angeles Lakers',\n",
    " u'away_team__Memphis Grizzlies',\n",
    " u'away_team__Miami Heat',\n",
    " u'away_team__Milwaukee Bucks',\n",
    " u'away_team__Minnesota Timberwolves',\n",
    " u'away_team__New Orleans Pelicans',\n",
    " u'away_team__New York Knicks',\n",
    " u'away_team__Oklahoma City Thunder',\n",
    " u'away_team__Orlando Magic',\n",
    " u'away_team__Philadelphia 76ers',\n",
    " u'away_team__Phoenix Suns',\n",
    " u'away_team__Portland Trail Blazers',\n",
    " u'away_team__Sacramento Kings',\n",
    " u'away_team__San Antonio Spurs',\n",
    " u'away_team__Toronto Raptors',\n",
    " u'away_team__Utah Jazz',\n",
    " u'away_team__Washington Wizards',\n",
    " u'home_team__Atlanta Hawks',\n",
    " u'home_team__Boston Celtics',\n",
    " u'home_team__Brooklyn Nets',\n",
    " u'home_team__Charlotte Hornets',\n",
    " u'home_team__Chicago Bulls',\n",
    " u'home_team__Cleveland Cavaliers',\n",
    " u'home_team__Dallas Mavericks',\n",
    " u'home_team__Denver Nuggets',\n",
    " u'home_team__Detroit Pistons',\n",
    " u'home_team__Golden State Warriors',\n",
    " u'home_team__Houston Rockets',\n",
    " u'home_team__Indiana Pacers',\n",
    " u'home_team__Los Angeles Clippers',\n",
    " u'home_team__Los Angeles Lakers',\n",
    " u'home_team__Memphis Grizzlies',\n",
    " u'home_team__Miami Heat',\n",
    " u'home_team__Milwaukee Bucks',\n",
    " u'home_team__Minnesota Timberwolves',\n",
    " u'home_team__New Orleans Pelicans',\n",
    " u'home_team__New York Knicks',\n",
    " u'home_team__Oklahoma City Thunder',\n",
    " u'home_team__Orlando Magic',\n",
    " u'home_team__Philadelphia 76ers',\n",
    " u'home_team__Phoenix Suns',\n",
    " u'home_team__Portland Trail Blazers',\n",
    " u'home_team__Sacramento Kings',\n",
    " u'home_team__San Antonio Spurs',\n",
    " u'home_team__Toronto Raptors',\n",
    " u'home_team__Utah Jazz',\n",
    " u'home_team__Washington Wizards',\n",
    "\n",
    " u'ah_1',\n",
    " u'odd_cnt_1',\n",
    " 'new_odd_home_1',\n",
    " 'new_odd_away_1',\n",
    " u'ah_2',\n",
    " u'odd_cnt_2',\n",
    " 'new_odd_home_2',\n",
    " 'new_odd_away_2',\n",
    " u'ah_3',\n",
    " u'odd_cnt_3',\n",
    " 'new_odd_home_3',\n",
    " 'new_odd_away_3',\n",
    " u'ah_4',\n",
    " u'odd_cnt_4',\n",
    " 'new_odd_home_4',\n",
    " 'new_odd_away_4',\n",
    " \n",
    " 'year',\n",
    " 'month',\n",
    " 'day',\n",
    " 'weekDay',\n",
    " 'ot']\n",
    "adjusted_y_cols = ['home_win',\n",
    " u'score_away',\n",
    " u'score_home',\n",
    " 'total_score',\n",
    " 'sub_score']"
   ]
  },
  {
   "cell_type": "code",
   "execution_count": 27,
   "metadata": {
    "collapsed": false
   },
   "outputs": [],
   "source": [
    "home_win = ah_df['home_win']\n",
    "sub_score = ah_df['sub_score']"
   ]
  },
  {
   "cell_type": "code",
   "execution_count": 28,
   "metadata": {
    "collapsed": true
   },
   "outputs": [],
   "source": [
    "# Second build a simple RFR for subscore\n",
    "from sklearn.ensemble import RandomForestRegressor\n",
    "x_train, x_test, y_train, y_test = train_test_split(train_data,train_label[:,4], test_size=0.3)\n",
    "# clf = RandomForestClassifier(n_estimators=200, criterion='entropy', max_depth=4)\n",
    "\n",
    "clf = Pipeline([\n",
    "        ('ss', StandardScaler()),\n",
    "        ('DTC', RandomForestRegressor(n_estimators=200, criterion='mse', max_depth=4))])\n",
    "rf_clf = clf.fit(x_train, y_train)\n",
    "y_hat = rf_clf.predict(x_test)"
   ]
  },
  {
   "cell_type": "code",
   "execution_count": 29,
   "metadata": {
    "collapsed": false
   },
   "outputs": [
    {
     "data": {
      "text/plain": [
       "(68.412924448584889,\n",
       " 53.267912517168256,\n",
       " 66.156011465050142,\n",
       " 77.117797747219896)"
      ]
     },
     "execution_count": 29,
     "metadata": {},
     "output_type": "execute_result"
    }
   ],
   "source": [
    "payout_df = pd.DataFrame(x_test, columns=adjusted_x_cols)\n",
    "payout_df['predict_subscore'] = y_hat\n",
    "payout_df['home_win'] = home_win\n",
    "payout_df['sub_score'] = sub_score\n",
    "payout_df.head()\n",
    "payout_df['payout_1'] = payout_df.apply(lambda x : calculat_payout(x), axis=1)\n",
    "payout_df['payout_2'] = payout_df.apply(lambda x : calculat_payout(x, num=2), axis=1)\n",
    "payout_df['payout_3'] = payout_df.apply(lambda x : calculat_payout(x, num=3), axis=1)\n",
    "payout_df['payout_4'] = payout_df.apply(lambda x : calculat_payout(x, num=4), axis=1)\n",
    "payout_df.payout_1.sum(), payout_df.payout_2.sum(),payout_df.payout_3.sum(),payout_df.payout_4.sum()"
   ]
  },
  {
   "cell_type": "code",
   "execution_count": 30,
   "metadata": {
    "collapsed": false
   },
   "outputs": [
    {
     "name": "stdout",
     "output_type": "stream",
     "text": [
      "[0]\teval-rmse:11.7098\ttrain-rmse:11.1108\n",
      "[1]\teval-rmse:12.0257\ttrain-rmse:10.4697\n",
      "[2]\teval-rmse:12.1861\ttrain-rmse:9.91917\n",
      "[3]\teval-rmse:12.2587\ttrain-rmse:9.71171\n",
      "[4]\teval-rmse:12.2189\ttrain-rmse:9.11047\n",
      "[5]\teval-rmse:12.3737\ttrain-rmse:8.74904\n"
     ]
    }
   ],
   "source": [
    "# Try XGBoost on subscore\n",
    "import xgboost as xgb\n",
    "x_train, x_test, y_train, y_test = train_test_split(train_data,train_label[:,4], test_size=0.3)\n",
    "\n",
    "data_train = xgb.DMatrix(x_train, label=y_train)\n",
    "data_test = xgb.DMatrix(x_test, label=y_test)\n",
    "watch_list = [(data_test, 'eval'), (data_train, 'train')]\n",
    "param = {'max_depth': 6, 'eta': 1, 'silent': 1, 'objective': 'reg:linear'}\n",
    "bst = xgb.train(param, data_train, num_boost_round=6, evals=watch_list)\n",
    "y_hat = bst.predict(data_test)"
   ]
  },
  {
   "cell_type": "code",
   "execution_count": 31,
   "metadata": {
    "collapsed": false
   },
   "outputs": [
    {
     "data": {
      "text/plain": [
       "(-17.488913501676461,\n",
       " -0.55838962764915578,\n",
       " -15.713737570055326,\n",
       " -11.949595011421559)"
      ]
     },
     "execution_count": 31,
     "metadata": {},
     "output_type": "execute_result"
    }
   ],
   "source": [
    "payout_df = pd.DataFrame(x_test, columns=adjusted_x_cols)\n",
    "payout_df['predict_subscore'] = y_hat\n",
    "payout_df['home_win'] = home_win\n",
    "payout_df['sub_score'] = sub_score\n",
    "payout_df.head()\n",
    "payout_df['payout_1'] = payout_df.apply(lambda x : calculat_payout(x), axis=1)\n",
    "payout_df['payout_2'] = payout_df.apply(lambda x : calculat_payout(x, num=2), axis=1)\n",
    "payout_df['payout_3'] = payout_df.apply(lambda x : calculat_payout(x, num=3), axis=1)\n",
    "payout_df['payout_4'] = payout_df.apply(lambda x : calculat_payout(x, num=4), axis=1)\n",
    "payout_df.payout_1.sum(), payout_df.payout_2.sum(),payout_df.payout_3.sum(),payout_df.payout_4.sum()"
   ]
  },
  {
   "cell_type": "code",
   "execution_count": 32,
   "metadata": {
    "collapsed": false
   },
   "outputs": [
    {
     "name": "stderr",
     "output_type": "stream",
     "text": [
      "/Users/ccuulinay/.pyenv/versions/2.7.9/lib/python2.7/site-packages/scipy/linalg/basic.py:884: RuntimeWarning: internal gelsd driver lwork query error, required iwork dimension not returned. This is likely the result of LAPACK bug 0038, fixed in LAPACK 3.2.2 (released July 21, 2010). Falling back to 'gelss' driver.\n",
      "  warnings.warn(mesg, RuntimeWarning)\n"
     ]
    }
   ],
   "source": [
    "# Build a linear regressor for subscore\n",
    "from sklearn.linear_model import LinearRegression\n",
    "from sklearn.linear_model import Lasso, Ridge\n",
    "from sklearn.model_selection import GridSearchCV\n",
    "\n",
    "x_train, x_test, y_train, y_test = train_test_split(train_data,train_label[:,4], test_size=0.3)\n",
    "# clf = RandomForestClassifier(n_estimators=200, criterion='entropy', max_depth=4)\n",
    "\n",
    "linreg = LinearRegression()\n",
    "lr_model = linreg.fit(x_train, y_train)\n",
    "y_hat = linreg.predict(x_test)"
   ]
  },
  {
   "cell_type": "code",
   "execution_count": 33,
   "metadata": {
    "collapsed": false
   },
   "outputs": [
    {
     "data": {
      "text/plain": [
       "(-2.3209537359658761,\n",
       " 30.321568164609378,\n",
       " 5.2884037040968632,\n",
       " -21.895624579913878)"
      ]
     },
     "execution_count": 33,
     "metadata": {},
     "output_type": "execute_result"
    }
   ],
   "source": [
    "payout_df = pd.DataFrame(x_test, columns=adjusted_x_cols)\n",
    "payout_df['predict_subscore'] = y_hat\n",
    "payout_df['home_win'] = home_win\n",
    "payout_df['sub_score'] = sub_score\n",
    "payout_df.head()\n",
    "payout_df['payout_1'] = payout_df.apply(lambda x : calculat_payout(x), axis=1)\n",
    "payout_df['payout_2'] = payout_df.apply(lambda x : calculat_payout(x, num=2), axis=1)\n",
    "payout_df['payout_3'] = payout_df.apply(lambda x : calculat_payout(x, num=3), axis=1)\n",
    "payout_df['payout_4'] = payout_df.apply(lambda x : calculat_payout(x, num=4), axis=1)\n",
    "payout_df.payout_1.sum(), payout_df.payout_2.sum(),payout_df.payout_3.sum(),payout_df.payout_4.sum()"
   ]
  },
  {
   "cell_type": "markdown",
   "metadata": {
    "collapsed": true
   },
   "source": [
    "### Have a look on the cnt and ah"
   ]
  },
  {
   "cell_type": "code",
   "execution_count": 36,
   "metadata": {
    "collapsed": false
   },
   "outputs": [
    {
     "data": {
      "text/html": [
       "<div>\n",
       "<table border=\"1\" class=\"dataframe\">\n",
       "  <thead>\n",
       "    <tr style=\"text-align: right;\">\n",
       "      <th></th>\n",
       "      <th>ah_1</th>\n",
       "      <th>odd_cnt_1</th>\n",
       "      <th>new_odd_home_1</th>\n",
       "      <th>new_odd_away_1</th>\n",
       "      <th>ah_2</th>\n",
       "      <th>odd_cnt_2</th>\n",
       "      <th>new_odd_home_2</th>\n",
       "      <th>new_odd_away_2</th>\n",
       "      <th>ah_3</th>\n",
       "      <th>odd_cnt_3</th>\n",
       "      <th>new_odd_home_3</th>\n",
       "      <th>new_odd_away_3</th>\n",
       "      <th>ah_4</th>\n",
       "      <th>odd_cnt_4</th>\n",
       "      <th>new_odd_home_4</th>\n",
       "      <th>new_odd_away_4</th>\n",
       "    </tr>\n",
       "  </thead>\n",
       "  <tbody>\n",
       "    <tr>\n",
       "      <th>0</th>\n",
       "      <td>-5.0</td>\n",
       "      <td>10</td>\n",
       "      <td>1.86</td>\n",
       "      <td>1.98</td>\n",
       "      <td>-4.5</td>\n",
       "      <td>10</td>\n",
       "      <td>1.88</td>\n",
       "      <td>1.96</td>\n",
       "      <td>-6.0</td>\n",
       "      <td>8</td>\n",
       "      <td>1.95</td>\n",
       "      <td>1.91</td>\n",
       "      <td>-5.5</td>\n",
       "      <td>7</td>\n",
       "      <td>1.89</td>\n",
       "      <td>1.93</td>\n",
       "    </tr>\n",
       "    <tr>\n",
       "      <th>1</th>\n",
       "      <td>-7.0</td>\n",
       "      <td>9</td>\n",
       "      <td>1.94</td>\n",
       "      <td>1.92</td>\n",
       "      <td>-7.5</td>\n",
       "      <td>7</td>\n",
       "      <td>2.00</td>\n",
       "      <td>1.83</td>\n",
       "      <td>-6.5</td>\n",
       "      <td>7</td>\n",
       "      <td>1.86</td>\n",
       "      <td>1.98</td>\n",
       "      <td>-10.5</td>\n",
       "      <td>4</td>\n",
       "      <td>2.45</td>\n",
       "      <td>1.51</td>\n",
       "    </tr>\n",
       "    <tr>\n",
       "      <th>2</th>\n",
       "      <td>9.0</td>\n",
       "      <td>9</td>\n",
       "      <td>1.92</td>\n",
       "      <td>1.94</td>\n",
       "      <td>8.5</td>\n",
       "      <td>7</td>\n",
       "      <td>1.97</td>\n",
       "      <td>1.86</td>\n",
       "      <td>9.5</td>\n",
       "      <td>7</td>\n",
       "      <td>1.83</td>\n",
       "      <td>1.98</td>\n",
       "      <td>6.5</td>\n",
       "      <td>4</td>\n",
       "      <td>2.28</td>\n",
       "      <td>1.60</td>\n",
       "    </tr>\n",
       "    <tr>\n",
       "      <th>3</th>\n",
       "      <td>14.5</td>\n",
       "      <td>9</td>\n",
       "      <td>1.97</td>\n",
       "      <td>1.85</td>\n",
       "      <td>15.0</td>\n",
       "      <td>8</td>\n",
       "      <td>1.94</td>\n",
       "      <td>1.93</td>\n",
       "      <td>13.5</td>\n",
       "      <td>4</td>\n",
       "      <td>2.15</td>\n",
       "      <td>1.7</td>\n",
       "      <td>15.5</td>\n",
       "      <td>4</td>\n",
       "      <td>1.86</td>\n",
       "      <td>1.95</td>\n",
       "    </tr>\n",
       "    <tr>\n",
       "      <th>4</th>\n",
       "      <td>3.0</td>\n",
       "      <td>10</td>\n",
       "      <td>1.94</td>\n",
       "      <td>1.92</td>\n",
       "      <td>3.5</td>\n",
       "      <td>8</td>\n",
       "      <td>1.87</td>\n",
       "      <td>1.94</td>\n",
       "      <td>2.5</td>\n",
       "      <td>5</td>\n",
       "      <td>2.03</td>\n",
       "      <td>1.83</td>\n",
       "      <td>2.0</td>\n",
       "      <td>4</td>\n",
       "      <td>2.12</td>\n",
       "      <td>1.75</td>\n",
       "    </tr>\n",
       "  </tbody>\n",
       "</table>\n",
       "</div>"
      ],
      "text/plain": [
       "   ah_1  odd_cnt_1 new_odd_home_1 new_odd_away_1  ah_2  odd_cnt_2  \\\n",
       "0  -5.0         10           1.86           1.98  -4.5         10   \n",
       "1  -7.0          9           1.94           1.92  -7.5          7   \n",
       "2   9.0          9           1.92           1.94   8.5          7   \n",
       "3  14.5          9           1.97           1.85  15.0          8   \n",
       "4   3.0         10           1.94           1.92   3.5          8   \n",
       "\n",
       "  new_odd_home_2 new_odd_away_2  ah_3  odd_cnt_3 new_odd_home_3  \\\n",
       "0           1.88           1.96  -6.0          8           1.95   \n",
       "1           2.00           1.83  -6.5          7           1.86   \n",
       "2           1.97           1.86   9.5          7           1.83   \n",
       "3           1.94           1.93  13.5          4           2.15   \n",
       "4           1.87           1.94   2.5          5           2.03   \n",
       "\n",
       "  new_odd_away_3  ah_4  odd_cnt_4 new_odd_home_4 new_odd_away_4  \n",
       "0           1.91  -5.5          7           1.89           1.93  \n",
       "1           1.98 -10.5          4           2.45           1.51  \n",
       "2           1.98   6.5          4           2.28           1.60  \n",
       "3            1.7  15.5          4           1.86           1.95  \n",
       "4           1.83   2.0          4           2.12           1.75  "
      ]
     },
     "execution_count": 36,
     "metadata": {},
     "output_type": "execute_result"
    }
   ],
   "source": [
    "ah_df[[u'ah_1',\n",
    " u'odd_cnt_1',\n",
    " 'new_odd_home_1',\n",
    " 'new_odd_away_1',\n",
    " u'ah_2',\n",
    " u'odd_cnt_2',\n",
    " 'new_odd_home_2',\n",
    " 'new_odd_away_2',\n",
    " u'ah_3',\n",
    " u'odd_cnt_3',\n",
    " 'new_odd_home_3',\n",
    " 'new_odd_away_3',\n",
    " u'ah_4',\n",
    " u'odd_cnt_4',\n",
    " 'new_odd_home_4',\n",
    " 'new_odd_away_4']].head()"
   ]
  },
  {
   "cell_type": "code",
   "execution_count": 34,
   "metadata": {
    "collapsed": false
   },
   "outputs": [],
   "source": [
    "def get_total_odds_count(row):\n",
    "    total_cnt = 0\n",
    "    for i in range(1, 5):\n",
    "        total_cnt += float(row['odd_cnt_' + str(i)])\n",
    "    return total_cnt\n",
    "\n",
    "\n",
    "def normalize_odds_count(row, num):\n",
    "    total_cnt = get_total_odds_count(row)\n",
    "    return (float(row['odd_cnt_'+str(num)])) / total_cnt\n",
    "\n",
    "\n",
    "def normalize_odd(row, num):\n",
    "    total = (float(row['new_odd_home_'+str(num)])) + (float(row['new_odd_away_'+str(num)]))\n",
    "    norm_home = (float(row['new_odd_home_'+str(num)])) / total\n",
    "    norm_away = (float(row['new_odd_away_'+str(num)])) / total\n",
    "    return norm_home, norm_away\n",
    "\n",
    "\n",
    "def normalize_ah_odds(row, num):\n",
    "    i = num\n",
    "    norm_cnt = normalize_odds_count(row, i)\n",
    "    ah = row['ah_'+str(i)]\n",
    "    norm_home, norm_away = normalize_odd(row, i)\n",
    "    no_home = ah * norm_cnt * norm_home\n",
    "    no_away = ah * norm_cnt * norm_away\n",
    "    return no_home, no_away\n"
   ]
  },
  {
   "cell_type": "code",
   "execution_count": 35,
   "metadata": {
    "collapsed": false
   },
   "outputs": [],
   "source": [
    "for i in range(1, 5):\n",
    "    odds = ah_df.apply(lambda x: normalize_ah_odds(x, i), axis=1)\n",
    "    ah_df['norm_odd_home_'+str(i)], ah_df['norm_odd_away_'+str(i)] = zip(*odds)\n",
    "# odds = ah_df.apply(lambda x: normalize_ah_odds(x, 1), axis=1)\n",
    "# ah_df['norm_odd_home_1'], ah_df['norm_odd_away_1'] = zip(*odds)\n",
    "norm_ah_df = ah_df.copy()"
   ]
  },
  {
   "cell_type": "code",
   "execution_count": 36,
   "metadata": {
    "collapsed": false
   },
   "outputs": [],
   "source": [
    "adjusted_x_cols = [u'away_team__Atlanta Hawks',\n",
    " u'away_team__Boston Celtics',\n",
    " u'away_team__Brooklyn Nets',\n",
    " u'away_team__Charlotte Hornets',\n",
    " u'away_team__Chicago Bulls',\n",
    " u'away_team__Cleveland Cavaliers',\n",
    " u'away_team__Dallas Mavericks',\n",
    " u'away_team__Denver Nuggets',\n",
    " u'away_team__Detroit Pistons',\n",
    " u'away_team__Golden State Warriors',\n",
    " u'away_team__Houston Rockets',\n",
    " u'away_team__Indiana Pacers',\n",
    " u'away_team__Los Angeles Clippers',\n",
    " u'away_team__Los Angeles Lakers',\n",
    " u'away_team__Memphis Grizzlies',\n",
    " u'away_team__Miami Heat',\n",
    " u'away_team__Milwaukee Bucks',\n",
    " u'away_team__Minnesota Timberwolves',\n",
    " u'away_team__New Orleans Pelicans',\n",
    " u'away_team__New York Knicks',\n",
    " u'away_team__Oklahoma City Thunder',\n",
    " u'away_team__Orlando Magic',\n",
    " u'away_team__Philadelphia 76ers',\n",
    " u'away_team__Phoenix Suns',\n",
    " u'away_team__Portland Trail Blazers',\n",
    " u'away_team__Sacramento Kings',\n",
    " u'away_team__San Antonio Spurs',\n",
    " u'away_team__Toronto Raptors',\n",
    " u'away_team__Utah Jazz',\n",
    " u'away_team__Washington Wizards',\n",
    " u'home_team__Atlanta Hawks',\n",
    " u'home_team__Boston Celtics',\n",
    " u'home_team__Brooklyn Nets',\n",
    " u'home_team__Charlotte Hornets',\n",
    " u'home_team__Chicago Bulls',\n",
    " u'home_team__Cleveland Cavaliers',\n",
    " u'home_team__Dallas Mavericks',\n",
    " u'home_team__Denver Nuggets',\n",
    " u'home_team__Detroit Pistons',\n",
    " u'home_team__Golden State Warriors',\n",
    " u'home_team__Houston Rockets',\n",
    " u'home_team__Indiana Pacers',\n",
    " u'home_team__Los Angeles Clippers',\n",
    " u'home_team__Los Angeles Lakers',\n",
    " u'home_team__Memphis Grizzlies',\n",
    " u'home_team__Miami Heat',\n",
    " u'home_team__Milwaukee Bucks',\n",
    " u'home_team__Minnesota Timberwolves',\n",
    " u'home_team__New Orleans Pelicans',\n",
    " u'home_team__New York Knicks',\n",
    " u'home_team__Oklahoma City Thunder',\n",
    " u'home_team__Orlando Magic',\n",
    " u'home_team__Philadelphia 76ers',\n",
    " u'home_team__Phoenix Suns',\n",
    " u'home_team__Portland Trail Blazers',\n",
    " u'home_team__Sacramento Kings',\n",
    " u'home_team__San Antonio Spurs',\n",
    " u'home_team__Toronto Raptors',\n",
    " u'home_team__Utah Jazz',\n",
    " u'home_team__Washington Wizards',\n",
    " u'norm_odd_home_1',\n",
    " u'norm_odd_away_1',\n",
    " u'norm_odd_home_2',\n",
    " u'norm_odd_away_2',\n",
    " u'norm_odd_home_3',\n",
    " u'norm_odd_away_3',\n",
    " u'norm_odd_home_4',\n",
    " u'norm_odd_away_4',\n",
    " \n",
    " 'year',\n",
    " 'month',\n",
    " 'day',\n",
    " 'weekDay',\n",
    " 'ot',\n",
    "\n",
    " u'ah_1',\n",
    " u'odd_cnt_1',\n",
    " 'new_odd_home_1',\n",
    " 'new_odd_away_1',\n",
    " u'ah_2',\n",
    " u'odd_cnt_2',\n",
    " 'new_odd_home_2',\n",
    " 'new_odd_away_2',\n",
    " u'ah_3',\n",
    " u'odd_cnt_3',\n",
    " 'new_odd_home_3',\n",
    " 'new_odd_away_3',\n",
    " u'ah_4',\n",
    " u'odd_cnt_4',\n",
    " 'new_odd_home_4',\n",
    " 'new_odd_away_4']\n",
    "adjusted_y_cols = ['home_win',\n",
    " u'score_away',\n",
    " u'score_home',\n",
    " 'total_score',\n",
    " 'sub_score']"
   ]
  },
  {
   "cell_type": "code",
   "execution_count": 37,
   "metadata": {
    "collapsed": false
   },
   "outputs": [],
   "source": [
    "norm_ah_data_df = norm_ah_df[adjusted_x_cols]\n",
    "norm_ah_label_df = norm_ah_df[adjusted_y_cols]"
   ]
  },
  {
   "cell_type": "code",
   "execution_count": 38,
   "metadata": {
    "collapsed": false
   },
   "outputs": [],
   "source": [
    "norm_ah_data = norm_ah_data_df.as_matrix()\n",
    "norm_ah_label = norm_ah_label_df.as_matrix()"
   ]
  },
  {
   "cell_type": "code",
   "execution_count": 46,
   "metadata": {
    "collapsed": false
   },
   "outputs": [],
   "source": [
    "x_train, x_test, y_train, y_test = train_test_split(norm_ah_data,norm_ah_label[:,4], test_size=0.3)\n",
    "# clf = RandomForestClassifier(n_estimators=200, criterion='entropy', max_depth=4)\n",
    "\n",
    "clf = Pipeline([\n",
    "        ('ss', StandardScaler()),\n",
    "        ('DTC', RandomForestRegressor(n_estimators=200, criterion='mse', max_depth=4))])\n",
    "rf_clf = clf.fit(x_train[:, :-16], y_train)\n",
    "y_hat = rf_clf.predict(x_test[:, :-16])"
   ]
  },
  {
   "cell_type": "code",
   "execution_count": 47,
   "metadata": {
    "collapsed": false
   },
   "outputs": [
    {
     "data": {
      "text/plain": [
       "(-8.6044490569791918,\n",
       " 24.861796723890055,\n",
       " -26.180447678397719,\n",
       " -46.129813929654517)"
      ]
     },
     "execution_count": 47,
     "metadata": {},
     "output_type": "execute_result"
    }
   ],
   "source": [
    "payout_df = pd.DataFrame(x_test, columns=adjusted_x_cols)\n",
    "payout_df['predict_subscore'] = y_hat\n",
    "payout_df['home_win'] = home_win\n",
    "payout_df['sub_score'] = sub_score\n",
    "payout_df.head()\n",
    "payout_df['payout_1'] = payout_df.apply(lambda x : calculat_payout(x), axis=1)\n",
    "payout_df['payout_2'] = payout_df.apply(lambda x : calculat_payout(x, num=2), axis=1)\n",
    "payout_df['payout_3'] = payout_df.apply(lambda x : calculat_payout(x, num=3), axis=1)\n",
    "payout_df['payout_4'] = payout_df.apply(lambda x : calculat_payout(x, num=4), axis=1)\n",
    "payout_df.payout_1.sum(), payout_df.payout_2.sum(),payout_df.payout_3.sum(),payout_df.payout_4.sum()"
   ]
  },
  {
   "cell_type": "code",
   "execution_count": 50,
   "metadata": {
    "collapsed": false
   },
   "outputs": [
    {
     "name": "stdout",
     "output_type": "stream",
     "text": [
      "[0]\teval-rmse:12.3848\ttrain-rmse:10.9232\n",
      "[1]\teval-rmse:12.5827\ttrain-rmse:10.5729\n",
      "[2]\teval-rmse:12.9287\ttrain-rmse:10.1429\n",
      "[3]\teval-rmse:13.1375\ttrain-rmse:9.82511\n",
      "[4]\teval-rmse:13.1429\ttrain-rmse:9.39616\n",
      "[5]\teval-rmse:13.3523\ttrain-rmse:8.9289\n"
     ]
    }
   ],
   "source": [
    "# Try XGBoost on subscore\n",
    "import xgboost as xgb\n",
    "x_train, x_test, y_train, y_test = train_test_split(norm_ah_data,norm_ah_label[:,4], test_size=0.3)\n",
    "\n",
    "data_train = xgb.DMatrix(x_train[:, :-16], label=y_train)\n",
    "data_test = xgb.DMatrix(x_test[:, :-16], label=y_test)\n",
    "watch_list = [(data_test, 'eval'), (data_train, 'train')]\n",
    "param = {'max_depth': 6, 'eta': 1, 'silent': 1, 'objective': 'reg:linear'}\n",
    "bst = xgb.train(param, data_train, num_boost_round=6, evals=watch_list)\n",
    "y_hat = bst.predict(data_test)"
   ]
  },
  {
   "cell_type": "code",
   "execution_count": 51,
   "metadata": {
    "collapsed": false
   },
   "outputs": [
    {
     "data": {
      "text/plain": [
       "(-32.644966102803636,\n",
       " -36.478897887420686,\n",
       " -22.452170747292058,\n",
       " -16.805011139796484)"
      ]
     },
     "execution_count": 51,
     "metadata": {},
     "output_type": "execute_result"
    }
   ],
   "source": [
    "payout_df = pd.DataFrame(x_test, columns=adjusted_x_cols)\n",
    "payout_df['predict_subscore'] = y_hat\n",
    "payout_df['home_win'] = home_win\n",
    "payout_df['sub_score'] = sub_score\n",
    "payout_df.head()\n",
    "payout_df['payout_1'] = payout_df.apply(lambda x : calculat_payout(x), axis=1)\n",
    "payout_df['payout_2'] = payout_df.apply(lambda x : calculat_payout(x, num=2), axis=1)\n",
    "payout_df['payout_3'] = payout_df.apply(lambda x : calculat_payout(x, num=3), axis=1)\n",
    "payout_df['payout_4'] = payout_df.apply(lambda x : calculat_payout(x, num=4), axis=1)\n",
    "payout_df.payout_1.sum(), payout_df.payout_2.sum(),payout_df.payout_3.sum(),payout_df.payout_4.sum()"
   ]
  },
  {
   "cell_type": "code",
   "execution_count": null,
   "metadata": {
    "collapsed": true
   },
   "outputs": [],
   "source": []
  }
 ],
 "metadata": {
  "kernelspec": {
   "display_name": "Python 2",
   "language": "python",
   "name": "python2"
  },
  "language_info": {
   "codemirror_mode": {
    "name": "ipython",
    "version": 2
   },
   "file_extension": ".py",
   "mimetype": "text/x-python",
   "name": "python",
   "nbconvert_exporter": "python",
   "pygments_lexer": "ipython2",
   "version": "2.7.9"
  }
 },
 "nbformat": 4,
 "nbformat_minor": 0
}
