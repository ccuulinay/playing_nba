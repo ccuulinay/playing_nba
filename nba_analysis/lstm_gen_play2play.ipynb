{
 "cells": [
  {
   "cell_type": "code",
   "execution_count": 1,
   "metadata": {
    "collapsed": true
   },
   "outputs": [],
   "source": [
    "import pandas as pd\n",
    "import numpy as np\n",
    "import requests\n",
    "import data_getter as dg\n",
    "import time\n",
    "import os\n",
    "# pd.options.display.max_rows = 999\n",
    "# pd.reset_option(\"display.max_rows\")\n",
    "pd.get_option(\"display.max_columns\")\n",
    "pd.set_option(\"display.max_columns\", 999)"
   ]
  },
  {
   "cell_type": "code",
   "execution_count": 2,
   "metadata": {
    "collapsed": true
   },
   "outputs": [],
   "source": [
    "def print_df_info_and_sample(df):\n",
    "    print(df.info())\n",
    "    print(\"========================================\")\n",
    "    print(df.head())"
   ]
  },
  {
   "cell_type": "code",
   "execution_count": 3,
   "metadata": {
    "collapsed": true
   },
   "outputs": [],
   "source": [
    "boxscore_list_df = dg.get_boxscore_list_to_df()"
   ]
  },
  {
   "cell_type": "code",
   "execution_count": 4,
   "metadata": {
    "collapsed": true
   },
   "outputs": [],
   "source": [
    "# print(boxscore_list_df.info())\n",
    "# print(\"========================================\")\n",
    "# print(boxscore_list_df.head())\n",
    "# print_df_info_and_sample(boxscore_list_df)\n",
    "# list(boxscore_list_df.GAME_ID.unique())"
   ]
  },
  {
   "cell_type": "code",
   "execution_count": 5,
   "metadata": {
    "collapsed": true
   },
   "outputs": [],
   "source": [
    "game_id_list = list(boxscore_list_df.GAME_ID.unique())"
   ]
  },
  {
   "cell_type": "code",
   "execution_count": 6,
   "metadata": {
    "collapsed": false
   },
   "outputs": [
    {
     "data": {
      "text/plain": [
       "700"
      ]
     },
     "execution_count": 6,
     "metadata": {},
     "output_type": "execute_result"
    }
   ],
   "source": [
    "len(game_id_list)"
   ]
  },
  {
   "cell_type": "code",
   "execution_count": 16,
   "metadata": {
    "collapsed": true
   },
   "outputs": [],
   "source": [
    "# test_pp_df = dg.get_one_game_play_to_play_to_df(game_id='0021700130')\n",
    "# test_pp_df[['HOMEDESCRIPTION', 'NEUTRALDESCRIPTION','VISITORDESCRIPTION']].info()\n",
    "# print_df_info_and_sample(test_pp_df)\n",
    "# pp_game_file = \"pp_\"+\"0021700130\"+\".csv\"\n",
    "# test_pp_df.to_csv(\"data/\"+pp_game_file,header=True,index=False)"
   ]
  },
  {
   "cell_type": "code",
   "execution_count": 7,
   "metadata": {
    "collapsed": true
   },
   "outputs": [],
   "source": [
    "pp_df_dict = {}\n",
    "for i in game_id_list:\n",
    "    filename = \"data/pp/\"+\"pp_\"+str(i)+\".csv\"\n",
    "    if os.path.isfile(filename):\n",
    "        pp_df = pd.read_csv(filename)\n",
    "    else:   \n",
    "        pp_df = dg.get_one_game_play_to_play_to_df(game_id=i) \n",
    "        pp_df.to_csv(\"data/pp/\"+\"pp_\"+str(i)+\".csv\", header=True, index=False)\n",
    "    pp_df_dict[i] = pp_df\n",
    "    time.sleep(0.5)"
   ]
  },
  {
   "cell_type": "code",
   "execution_count": 103,
   "metadata": {
    "collapsed": true
   },
   "outputs": [],
   "source": [
    "games_count = len(pp_df_dict)"
   ]
  },
  {
   "cell_type": "markdown",
   "metadata": {},
   "source": [
    "### Dump data into pickle"
   ]
  },
  {
   "cell_type": "code",
   "execution_count": 46,
   "metadata": {
    "collapsed": true
   },
   "outputs": [],
   "source": [
    "import pickle\n",
    "import datetime"
   ]
  },
  {
   "cell_type": "code",
   "execution_count": 48,
   "metadata": {
    "collapsed": false
   },
   "outputs": [
    {
     "name": "stdout",
     "output_type": "stream",
     "text": [
      "20171118\n",
      "data/parm_and_plays_list_20171118.p\n"
     ]
    }
   ],
   "source": [
    "date_str = datetime.datetime.today().strftime('%Y%m%d')\n",
    "print(date_str)\n",
    "pp_dump_file_name = \"parm_and_plays_list_\"+str(date_str)+\".p\"\n",
    "print(os.path.join('data', pp_dump_file_name))"
   ]
  },
  {
   "cell_type": "code",
   "execution_count": 49,
   "metadata": {
    "collapsed": true
   },
   "outputs": [],
   "source": [
    "pickle.dump((game_id_list, pp_df_dict), open(os.path.join('data', pp_dump_file_name), 'wb'))"
   ]
  },
  {
   "cell_type": "markdown",
   "metadata": {},
   "source": [
    "### Check point"
   ]
  },
  {
   "cell_type": "code",
   "execution_count": 54,
   "metadata": {
    "collapsed": true
   },
   "outputs": [],
   "source": [
    "import pickle\n",
    "game_id_list, pp_df_dict = pickle.load(open('data/parm_and_plays_list_20171118.p', 'rb'))"
   ]
  },
  {
   "cell_type": "code",
   "execution_count": 81,
   "metadata": {
    "collapsed": true
   },
   "outputs": [],
   "source": [
    "main_column_list = ['PLAYER1_NAME', 'PLAYER2_NAME', 'PLAYER3_NAME', 'HOMEDESCRIPTION', 'NEUTRALDESCRIPTION',\n",
    "       'VISITORDESCRIPTION']"
   ]
  },
  {
   "cell_type": "code",
   "execution_count": 89,
   "metadata": {
    "collapsed": true
   },
   "outputs": [],
   "source": [
    "test_df_dict = {}\n",
    "\n",
    "for i in range(10):\n",
    "    sel_id = \"002170013\" + str(i)\n",
    "    test_df_dict[sel_id] = pp_df_dict[sel_id]\n",
    "\n"
   ]
  },
  {
   "cell_type": "code",
   "execution_count": 100,
   "metadata": {
    "collapsed": true
   },
   "outputs": [],
   "source": [
    "description_text = \"\"\n",
    "for game_id, game_df in pp_df_dict.items():\n",
    "# for game_id, game_df in test_df_dict.items():\n",
    "    # game_pp_text = dg.get_one_pp_to_text(game_df)\n",
    "    game_pp_text = get_one_pp_to_text(game_df)\n",
    "    start_text = \"GAME_START\\n\"\n",
    "    end_text = \"GAME_OVER\"\n",
    "    full_game_pp_text = start_text + game_pp_text + end_text\n",
    "    # full_game_pp_text = \"\\n\".join([start_text, game_pp_text, end_text])\n",
    "    description_text = \"\\n\\n\".join([description_text, full_game_pp_text])"
   ]
  },
  {
   "cell_type": "code",
   "execution_count": 104,
   "metadata": {
    "collapsed": true
   },
   "outputs": [],
   "source": [
    "games_count = len(pp_df_dict)\n",
    "pp_description_text_file_name = \"games_count_and_description_text.p\"\n",
    "pickle.dump((games_count, description_text), open(os.path.join('data', pp_description_text_file_name), 'wb'))"
   ]
  },
  {
   "cell_type": "markdown",
   "metadata": {},
   "source": [
    "## Explore the Data\n",
    "Play around with `view_sentence_range` to view different parts of the data."
   ]
  },
  {
   "cell_type": "code",
   "execution_count": 101,
   "metadata": {
    "collapsed": false
   },
   "outputs": [
    {
     "name": "stdout",
     "output_type": "stream",
     "text": [
      "Dataset Stats\n",
      "Roughly the number of unique words: 35769\n",
      "Number of games: 228\n",
      "Average number of games in each game: 462.4078947368421\n",
      "Number of lines: 105657\n",
      "Average number of words in each line: 6.94456590666023\n",
      "\n",
      "The plays 0 to 10:\n",
      "\n",
      "\n",
      "GAME_START\n",
      ",,,,,\n",
      "Brook Lopez,Greg Monroe,Kyle Kuzma,Jump Ball Lopez vs. Monroe: Tip to Kuzma,,\n",
      "Brandon Ingram,,,MISS Ingram 15' Jump Shot,,\n",
      "Brook Lopez,,,Lopez REBOUND (Off:1 Def:0),,\n",
      "Brook Lopez,,,Lopez 2' Layup (2 PTS),,\n",
      "Tyler Ulis,,,,,MISS Ulis 26' 3PT Jump Shot\n",
      "TJ Warren,,,,,Warren REBOUND (Off:1 Def:0)\n"
     ]
    }
   ],
   "source": [
    "text = description_text\n",
    "view_play_range = (0, 10)\n",
    "\n",
    "\"\"\"\n",
    "DON'T MODIFY ANYTHING IN THIS CELL\n",
    "\"\"\"\n",
    "\n",
    "print('Dataset Stats')\n",
    "print('Roughly the number of unique words: {}'.format(len({word: None for word in text.split()})))\n",
    "games = text.split('\\n\\n')\n",
    "print('Number of games: {}'.format(len(games)))\n",
    "play_count_game = [game.count('\\n') for game in games]\n",
    "print('Average number of games in each game: {}'.format(np.average(play_count_game)))\n",
    "\n",
    "plays = [play for game in games for play in game.split('\\n')]\n",
    "print('Number of lines: {}'.format(len(plays)))\n",
    "word_count_play = [len(play.split()) for play in plays]\n",
    "print('Average number of words in each line: {}'.format(np.average(word_count_play)))\n",
    "\n",
    "print()\n",
    "print('The plays {} to {}:'.format(*view_play_range))\n",
    "print('\\n'.join(text.split('\\n')[view_play_range[0]:view_play_range[1]]))\n"
   ]
  },
  {
   "cell_type": "markdown",
   "metadata": {},
   "source": [
    "### Create lookup table"
   ]
  },
  {
   "cell_type": "code",
   "execution_count": 105,
   "metadata": {
    "collapsed": true
   },
   "outputs": [],
   "source": [
    "from collections import Counter\n",
    "\n",
    "def create_lookup_tables(text):\n",
    "    \"\"\"\n",
    "    Create lookup tables for vocabulary\n",
    "    :param text: The text of tv scripts split into words\n",
    "    :return: A tuple of dicts (vocab_to_int, int_to_vocab)\n",
    "    \"\"\"\n",
    "    # TODO: Implement Function\n",
    "    # First version\n",
    "    # word_counts = Counter(text)\n",
    "    # sorted_vocab = sorted(word_counts, key=word_counts.get, reverse=True)\n",
    "    # int_to_vocab = {ii: word for ii, word in enumerate(sorted_vocab)}\n",
    "    # vocab_to_int = {word: ii for ii, word in int_to_vocab.items()}\n",
    "    \n",
    "    # Second version\n",
    "    vocab = set(text)\n",
    "    vocab_to_int = {c: i for i, c in enumerate(vocab)}\n",
    "    int_to_vocab = dict(enumerate(vocab))\n",
    "    return vocab_to_int, int_to_vocab"
   ]
  },
  {
   "cell_type": "code",
   "execution_count": 106,
   "metadata": {
    "collapsed": true
   },
   "outputs": [],
   "source": [
    "def token_lookup():\n",
    "    \"\"\"\n",
    "    Generate a dict to turn punctuation into a token.\n",
    "    :return: Tokenize dictionary where the key is the punctuation and the value is the token\n",
    "    \"\"\"\n",
    "    # TODO: Implement Function\n",
    "    token = dict()\n",
    "    token['.'] = \"||Period||\"\n",
    "    token[','] = \"||Comma||\"\n",
    "    token['\"'] = \"||Quotation_Mark||\"\n",
    "    token[';'] = \"||Semicolon||\"\n",
    "    token['!'] = \"||Exclamation_Mark||\"\n",
    "    token['?'] = \"||Question_Mark||\"\n",
    "    token['('] = \"||Left_Parentheses||\"\n",
    "    token[')'] = \"||Right_Parentheses||\"\n",
    "    token['--'] = \"||Dash||\"\n",
    "    token['\\n'] = \"||Return||\"\n",
    "\n",
    "    return token"
   ]
  },
  {
   "cell_type": "code",
   "execution_count": 107,
   "metadata": {
    "collapsed": true
   },
   "outputs": [],
   "source": [
    "token_dict = token_lookup()\n",
    "for key, token in token_dict.items():\n",
    "    text = text.replace(key, ' {} '.format(token))\n",
    "\n",
    "text = text.lower()\n",
    "text = text.split()\n",
    "\n",
    "vocab_to_int, int_to_vocab = create_lookup_tables(text)\n",
    "int_text = [vocab_to_int[word] for word in text]\n",
    "pickle.dump((int_text, vocab_to_int, int_to_vocab, token_dict), open('data/preprocess.p', 'wb'))\n"
   ]
  },
  {
   "cell_type": "markdown",
   "metadata": {},
   "source": [
    "### Checking Tensorflow"
   ]
  },
  {
   "cell_type": "code",
   "execution_count": 108,
   "metadata": {
    "collapsed": false
   },
   "outputs": [
    {
     "name": "stdout",
     "output_type": "stream",
     "text": [
      "TensorFlow Version: 1.1.0\n"
     ]
    },
    {
     "name": "stderr",
     "output_type": "stream",
     "text": [
      "/Users/ccuulinay/.pyenv/versions/3.6.2/envs/tf1_1/lib/python3.6/site-packages/ipykernel_launcher.py:11: UserWarning: No GPU found. Please use a GPU to train your neural network.\n",
      "  # This is added back by InteractiveShellApp.init_path()\n"
     ]
    }
   ],
   "source": [
    "from distutils.version import LooseVersion\n",
    "import warnings\n",
    "import tensorflow as tf\n",
    "\n",
    "# Check TensorFlow Version\n",
    "assert LooseVersion(tf.__version__) >= LooseVersion('1.0'), 'Please use TensorFlow version 1.0 or newer'\n",
    "print('TensorFlow Version: {}'.format(tf.__version__))\n",
    "\n",
    "# Check for a GPU\n",
    "if not tf.test.gpu_device_name():\n",
    "    warnings.warn('No GPU found. Please use a GPU to train your neural network.')\n",
    "else:\n",
    "    print('Default GPU Device: {}'.format(tf.test.gpu_device_name()))"
   ]
  },
  {
   "cell_type": "code",
   "execution_count": 109,
   "metadata": {
    "collapsed": true
   },
   "outputs": [],
   "source": [
    "# Get inputs place holder\n",
    "def get_inputs():\n",
    "    \"\"\"\n",
    "    Create TF Placeholders for input, targets, and learning rate.\n",
    "    :return: Tuple (input, targets, learning rate)\n",
    "    \"\"\"\n",
    "    # TODO: Implement Function\n",
    "    inputs = tf.placeholder(tf.int32, [None, None], name='input')\n",
    "    targets = tf.placeholder(tf.int32, [None, None], name='target')\n",
    "    learning_rate = tf.placeholder(tf.float32, name='learnning_rate')\n",
    "    return inputs, targets, learning_rate\n",
    "\n",
    "\n"
   ]
  },
  {
   "cell_type": "code",
   "execution_count": 110,
   "metadata": {
    "collapsed": true
   },
   "outputs": [],
   "source": [
    "# Build lstm cell and initial state\n",
    "def get_init_cell(batch_size, rnn_size):\n",
    "    \"\"\"\n",
    "    Create an RNN Cell and initialize it.\n",
    "    :param batch_size: Size of batches\n",
    "    :param rnn_size: Size of RNNs\n",
    "    :return: Tuple (cell, initialize state)\n",
    "    \"\"\"\n",
    "    # TODO: Implement Function\n",
    "    lstm_layers = 2\n",
    "    lstm = tf.contrib.rnn.BasicLSTMCell(rnn_size)\n",
    "    # cell = tf.contrib.rnn.MultiRNNCell([lstm] * lstm_layers)\n",
    "    # cell = tf.contrib.rnn.MultiRNNCell([lstm for _ in range(lstm_layers)], state_is_tuple = True)\n",
    "    def lstm_cell():\n",
    "        return tf.contrib.rnn.BasicLSTMCell(rnn_size)\n",
    "    cell = tf.contrib.rnn.MultiRNNCell([lstm_cell() for _ in range(lstm_layers)])\n",
    "    initial_state = cell.zero_state(batch_size, tf.float32)\n",
    "    initial_state = tf.identity(initial_state, name='initial_state')\n",
    "    return cell, initial_state"
   ]
  },
  {
   "cell_type": "code",
   "execution_count": 111,
   "metadata": {
    "collapsed": true
   },
   "outputs": [],
   "source": [
    "def get_embed(input_data, vocab_size, embed_dim):\n",
    "    \"\"\"\n",
    "    Create embedding for <input_data>.\n",
    "    :param input_data: TF placeholder for text input.\n",
    "    :param vocab_size: Number of words in vocabulary.\n",
    "    :param embed_dim: Number of embedding dimensions\n",
    "    :return: Embedded input.\n",
    "    \"\"\"\n",
    "    # TODO: Implement Function\n",
    "    embedding = tf.Variable(tf.random_uniform((vocab_size, embed_dim), -1, 1), name='embedding')\n",
    "    embed = tf.nn.embedding_lookup(embedding, input_data)\n",
    "    return embed"
   ]
  },
  {
   "cell_type": "code",
   "execution_count": 112,
   "metadata": {
    "collapsed": true
   },
   "outputs": [],
   "source": [
    "def build_rnn(cell, inputs):\n",
    "    \"\"\"\n",
    "    Create a RNN using a RNN Cell\n",
    "    :param cell: RNN Cell\n",
    "    :param inputs: Input text data\n",
    "    :return: Tuple (Outputs, Final State)\n",
    "    \"\"\"\n",
    "    # TODO: Implement Function\n",
    "    # Seem no initial_state as param, then I added dtype param to make dynamic_rnn function works.\n",
    "    outputs, final_state = tf.nn.dynamic_rnn(cell, inputs, dtype=tf.float32)\n",
    "    final_state = tf.identity(final_state, name='final_state')\n",
    "    print(final_state.get_shape().as_list())\n",
    "    return outputs, final_state"
   ]
  },
  {
   "cell_type": "code",
   "execution_count": 113,
   "metadata": {
    "collapsed": true
   },
   "outputs": [],
   "source": [
    "def build_nn(cell, rnn_size, input_data, vocab_size, embed_dimension):\n",
    "    \"\"\"\n",
    "    Build part of the neural network\n",
    "    :param cell: RNN cell\n",
    "    :param rnn_size: Size of rnns\n",
    "    :param input_data: Input data\n",
    "    :param vocab_size: Vocabulary size\n",
    "    :return: Tuple (Logits, FinalState)\n",
    "    \"\"\"\n",
    "    # TODO: Implement Function\n",
    "    # embed_dimension = 300\n",
    "    embed = get_embed(input_data, vocab_size, embed_dimension)\n",
    "    print(embed.get_shape().as_list())\n",
    "    outputs, final_state = build_rnn(cell, embed)\n",
    "    print(final_state.get_shape().as_list())\n",
    "    # Set activation_fn to None to keep the linear activation.\n",
    "    logits = tf.contrib.layers.fully_connected(outputs, vocab_size, activation_fn=None, \n",
    "                                               weights_initializer = tf.truncated_normal_initializer(stddev=0.1),\n",
    "                                               biases_initializer=tf.zeros_initializer())\n",
    "    \n",
    "    return logits, final_state"
   ]
  },
  {
   "cell_type": "code",
   "execution_count": 114,
   "metadata": {
    "collapsed": true
   },
   "outputs": [],
   "source": [
    "def get_batches(int_text, batch_size, seq_length):\n",
    "    \"\"\"\n",
    "    Return batches of input and target\n",
    "    :param int_text: Text with the words replaced by their ids\n",
    "    :param batch_size: The size of batch\n",
    "    :param seq_length: The length of sequence\n",
    "    :return: Batches as a Numpy array\n",
    "    \"\"\"\n",
    "    # TODO: Implement Function\n",
    "    n_batches = int(len(int_text) / (batch_size * seq_length))\n",
    "\n",
    "    # Drop the last few characters to make only full batches\n",
    "    xdata = np.array(int_text[: n_batches * batch_size * seq_length])\n",
    "    ydata = np.array(int_text[1: n_batches * batch_size * seq_length + 1])\n",
    "    ydata[-1] = xdata[0]\n",
    "\n",
    "    x_batches = np.split(xdata.reshape(batch_size, -1), n_batches, 1)\n",
    "    y_batches = np.split(ydata.reshape(batch_size, -1), n_batches, 1)\n",
    "    # print(np.shape(list(zip(x_batches, y_batches))))\n",
    "    return np.array(list(zip(x_batches, y_batches)))"
   ]
  },
  {
   "cell_type": "code",
   "execution_count": 125,
   "metadata": {
    "collapsed": true
   },
   "outputs": [],
   "source": [
    "# Number of Epochs\n",
    "num_epochs = 30\n",
    "# Batch Size\n",
    "# batch_size = 5\n",
    "batch_size = 256\n",
    "# RNN Size\n",
    "rnn_size = 512\n",
    "# Sequence Length\n",
    "# seq_length = 100\n",
    "seq_length = 15\n",
    "# Learning Rate\n",
    "learning_rate = 0.001\n",
    "# Show stats for every n number of batches\n",
    "show_every_n_batches = 25\n",
    "embed_dim = 300\n"
   ]
  },
  {
   "cell_type": "code",
   "execution_count": 126,
   "metadata": {
    "collapsed": false
   },
   "outputs": [
    {
     "name": "stdout",
     "output_type": "stream",
     "text": [
      "[None, None, 300]\n",
      "[2, 2, None, 512]\n",
      "[2, 2, None, 512]\n"
     ]
    }
   ],
   "source": [
    "from tensorflow.contrib import seq2seq\n",
    "\n",
    "train_graph = tf.Graph()\n",
    "with train_graph.as_default():\n",
    "    vocab_size = len(int_to_vocab)\n",
    "    input_text, targets, lr = get_inputs()\n",
    "    input_data_shape = tf.shape(input_text)\n",
    "    cell, initial_state = get_init_cell(input_data_shape[0], rnn_size)\n",
    "    logits, final_state = build_nn(cell, rnn_size, input_text, vocab_size, embed_dim)\n",
    "\n",
    "    # Probabilities for generating words\n",
    "    probs = tf.nn.softmax(logits, name='probs')\n",
    "\n",
    "    # Loss function\n",
    "    cost = seq2seq.sequence_loss(\n",
    "        logits,\n",
    "        targets,\n",
    "        tf.ones([input_data_shape[0], input_data_shape[1]]))\n",
    "\n",
    "    # Optimizer\n",
    "    optimizer = tf.train.AdamOptimizer(lr)\n",
    "\n",
    "    # Gradient Clipping\n",
    "    gradients = optimizer.compute_gradients(cost)\n",
    "    capped_gradients = [(tf.clip_by_value(grad, -1., 1.), var) for grad, var in gradients]\n",
    "    train_op = optimizer.apply_gradients(capped_gradients)"
   ]
  },
  {
   "cell_type": "code",
   "execution_count": 127,
   "metadata": {
    "collapsed": false
   },
   "outputs": [
    {
     "name": "stdout",
     "output_type": "stream",
     "text": [
      "Epoch   0 Batch    0/459   train_loss = 7.230\n",
      "Epoch   0 Batch   25/459   train_loss = 3.737\n",
      "Epoch   0 Batch   50/459   train_loss = 2.869\n",
      "Epoch   0 Batch   75/459   train_loss = 2.392\n",
      "Epoch   0 Batch  100/459   train_loss = 2.248\n",
      "Epoch   0 Batch  125/459   train_loss = 2.006\n",
      "Epoch   0 Batch  150/459   train_loss = 1.903\n",
      "Epoch   0 Batch  175/459   train_loss = 1.834\n",
      "Epoch   0 Batch  200/459   train_loss = 1.712\n",
      "Epoch   0 Batch  225/459   train_loss = 1.539\n",
      "Epoch   0 Batch  250/459   train_loss = 1.549\n",
      "Epoch   0 Batch  275/459   train_loss = 1.483\n",
      "Epoch   0 Batch  300/459   train_loss = 1.475\n",
      "Epoch   0 Batch  325/459   train_loss = 1.392\n",
      "Epoch   0 Batch  350/459   train_loss = 1.424\n",
      "Epoch   0 Batch  375/459   train_loss = 1.377\n",
      "Epoch   0 Batch  400/459   train_loss = 1.342\n",
      "Epoch   0 Batch  425/459   train_loss = 1.304\n",
      "Epoch   0 Batch  450/459   train_loss = 1.313\n",
      "Epoch   1 Batch   16/459   train_loss = 1.230\n",
      "Epoch   1 Batch   41/459   train_loss = 1.277\n",
      "Epoch   1 Batch   66/459   train_loss = 1.326\n",
      "Epoch   1 Batch   91/459   train_loss = 1.303\n",
      "Epoch   1 Batch  116/459   train_loss = 1.243\n",
      "Epoch   1 Batch  141/459   train_loss = 1.268\n",
      "Epoch   1 Batch  166/459   train_loss = 1.274\n",
      "Epoch   1 Batch  191/459   train_loss = 1.233\n",
      "Epoch   1 Batch  216/459   train_loss = 1.233\n",
      "Epoch   1 Batch  241/459   train_loss = 1.269\n",
      "Epoch   1 Batch  266/459   train_loss = 1.246\n",
      "Epoch   1 Batch  291/459   train_loss = 1.238\n",
      "Epoch   1 Batch  316/459   train_loss = 1.217\n",
      "Epoch   1 Batch  341/459   train_loss = 1.227\n",
      "Epoch   1 Batch  366/459   train_loss = 1.229\n",
      "Epoch   1 Batch  391/459   train_loss = 1.186\n",
      "Epoch   1 Batch  416/459   train_loss = 1.212\n",
      "Epoch   1 Batch  441/459   train_loss = 1.187\n",
      "Epoch   2 Batch    7/459   train_loss = 1.213\n",
      "Epoch   2 Batch   32/459   train_loss = 1.237\n",
      "Epoch   2 Batch   57/459   train_loss = 1.214\n",
      "Epoch   2 Batch   82/459   train_loss = 1.198\n",
      "Epoch   2 Batch  107/459   train_loss = 1.214\n",
      "Epoch   2 Batch  132/459   train_loss = 1.184\n",
      "Epoch   2 Batch  157/459   train_loss = 1.196\n",
      "Epoch   2 Batch  182/459   train_loss = 1.178\n",
      "Epoch   2 Batch  207/459   train_loss = 1.158\n",
      "Epoch   2 Batch  232/459   train_loss = 1.199\n",
      "Epoch   2 Batch  257/459   train_loss = 1.173\n",
      "Epoch   2 Batch  282/459   train_loss = 1.146\n",
      "Epoch   2 Batch  307/459   train_loss = 1.209\n",
      "Epoch   2 Batch  332/459   train_loss = 1.135\n",
      "Epoch   2 Batch  357/459   train_loss = 1.156\n",
      "Epoch   2 Batch  382/459   train_loss = 1.130\n",
      "Epoch   2 Batch  407/459   train_loss = 1.129\n",
      "Epoch   2 Batch  432/459   train_loss = 1.133\n",
      "Epoch   2 Batch  457/459   train_loss = 1.167\n",
      "Epoch   3 Batch   23/459   train_loss = 1.094\n",
      "Epoch   3 Batch   48/459   train_loss = 1.168\n",
      "Epoch   3 Batch   73/459   train_loss = 1.103\n",
      "Epoch   3 Batch   98/459   train_loss = 1.116\n",
      "Epoch   3 Batch  123/459   train_loss = 1.165\n",
      "Epoch   3 Batch  148/459   train_loss = 1.087\n",
      "Epoch   3 Batch  173/459   train_loss = 1.116\n",
      "Epoch   3 Batch  198/459   train_loss = 1.129\n",
      "Epoch   3 Batch  223/459   train_loss = 1.115\n",
      "Epoch   3 Batch  248/459   train_loss = 1.135\n",
      "Epoch   3 Batch  273/459   train_loss = 1.097\n",
      "Epoch   3 Batch  298/459   train_loss = 1.104\n",
      "Epoch   3 Batch  323/459   train_loss = 1.104\n",
      "Epoch   3 Batch  348/459   train_loss = 1.131\n",
      "Epoch   3 Batch  373/459   train_loss = 1.122\n",
      "Epoch   3 Batch  398/459   train_loss = 1.105\n",
      "Epoch   3 Batch  423/459   train_loss = 1.102\n",
      "Epoch   3 Batch  448/459   train_loss = 1.068\n",
      "Epoch   4 Batch   14/459   train_loss = 1.101\n",
      "Epoch   4 Batch   39/459   train_loss = 1.136\n",
      "Epoch   4 Batch   64/459   train_loss = 1.079\n",
      "Epoch   4 Batch   89/459   train_loss = 1.122\n",
      "Epoch   4 Batch  114/459   train_loss = 1.114\n",
      "Epoch   4 Batch  139/459   train_loss = 1.088\n",
      "Epoch   4 Batch  164/459   train_loss = 1.139\n",
      "Epoch   4 Batch  189/459   train_loss = 1.105\n",
      "Epoch   4 Batch  214/459   train_loss = 1.113\n",
      "Epoch   4 Batch  239/459   train_loss = 1.086\n",
      "Epoch   4 Batch  264/459   train_loss = 1.082\n",
      "Epoch   4 Batch  289/459   train_loss = 1.081\n",
      "Epoch   4 Batch  314/459   train_loss = 1.105\n",
      "Epoch   4 Batch  339/459   train_loss = 1.098\n",
      "Epoch   4 Batch  364/459   train_loss = 1.081\n",
      "Epoch   4 Batch  389/459   train_loss = 1.069\n",
      "Epoch   4 Batch  414/459   train_loss = 1.055\n",
      "Epoch   4 Batch  439/459   train_loss = 1.074\n",
      "Epoch   5 Batch    5/459   train_loss = 1.085\n",
      "Epoch   5 Batch   30/459   train_loss = 1.066\n",
      "Epoch   5 Batch   55/459   train_loss = 1.054\n",
      "Epoch   5 Batch   80/459   train_loss = 1.064\n",
      "Epoch   5 Batch  105/459   train_loss = 1.095\n",
      "Epoch   5 Batch  130/459   train_loss = 1.078\n",
      "Epoch   5 Batch  155/459   train_loss = 1.085\n",
      "Epoch   5 Batch  180/459   train_loss = 1.084\n",
      "Epoch   5 Batch  205/459   train_loss = 1.065\n",
      "Epoch   5 Batch  230/459   train_loss = 1.075\n",
      "Epoch   5 Batch  255/459   train_loss = 1.055\n",
      "Epoch   5 Batch  280/459   train_loss = 1.097\n",
      "Epoch   5 Batch  305/459   train_loss = 1.048\n",
      "Epoch   5 Batch  330/459   train_loss = 1.055\n",
      "Epoch   5 Batch  355/459   train_loss = 1.057\n",
      "Epoch   5 Batch  380/459   train_loss = 1.095\n",
      "Epoch   5 Batch  405/459   train_loss = 1.032\n",
      "Epoch   5 Batch  430/459   train_loss = 1.032\n",
      "Epoch   5 Batch  455/459   train_loss = 1.019\n",
      "Epoch   6 Batch   21/459   train_loss = 1.052\n",
      "Epoch   6 Batch   46/459   train_loss = 1.094\n",
      "Epoch   6 Batch   71/459   train_loss = 1.061\n",
      "Epoch   6 Batch   96/459   train_loss = 1.063\n",
      "Epoch   6 Batch  121/459   train_loss = 1.034\n",
      "Epoch   6 Batch  146/459   train_loss = 1.059\n",
      "Epoch   6 Batch  171/459   train_loss = 1.039\n",
      "Epoch   6 Batch  196/459   train_loss = 1.044\n",
      "Epoch   6 Batch  221/459   train_loss = 1.039\n",
      "Epoch   6 Batch  246/459   train_loss = 1.038\n",
      "Epoch   6 Batch  271/459   train_loss = 1.035\n",
      "Epoch   6 Batch  296/459   train_loss = 1.072\n",
      "Epoch   6 Batch  321/459   train_loss = 1.040\n",
      "Epoch   6 Batch  346/459   train_loss = 1.063\n",
      "Epoch   6 Batch  371/459   train_loss = 1.035\n",
      "Epoch   6 Batch  396/459   train_loss = 1.028\n",
      "Epoch   6 Batch  421/459   train_loss = 1.049\n",
      "Epoch   6 Batch  446/459   train_loss = 1.038\n",
      "Epoch   7 Batch   12/459   train_loss = 1.022\n",
      "Epoch   7 Batch   37/459   train_loss = 1.066\n",
      "Epoch   7 Batch   62/459   train_loss = 1.010\n",
      "Epoch   7 Batch   87/459   train_loss = 1.027\n",
      "Epoch   7 Batch  112/459   train_loss = 1.036\n",
      "Epoch   7 Batch  137/459   train_loss = 1.039\n",
      "Epoch   7 Batch  162/459   train_loss = 1.044\n",
      "Epoch   7 Batch  187/459   train_loss = 1.076\n",
      "Epoch   7 Batch  212/459   train_loss = 1.055\n",
      "Epoch   7 Batch  237/459   train_loss = 1.056\n",
      "Epoch   7 Batch  262/459   train_loss = 1.056\n",
      "Epoch   7 Batch  287/459   train_loss = 1.030\n",
      "Epoch   7 Batch  312/459   train_loss = 1.041\n",
      "Epoch   7 Batch  337/459   train_loss = 1.050\n",
      "Epoch   7 Batch  362/459   train_loss = 1.038\n",
      "Epoch   7 Batch  387/459   train_loss = 1.002\n",
      "Epoch   7 Batch  412/459   train_loss = 1.015\n",
      "Epoch   7 Batch  437/459   train_loss = 1.030\n",
      "Epoch   8 Batch    3/459   train_loss = 1.027\n",
      "Epoch   8 Batch   28/459   train_loss = 1.014\n",
      "Epoch   8 Batch   53/459   train_loss = 0.996\n",
      "Epoch   8 Batch   78/459   train_loss = 1.044\n",
      "Epoch   8 Batch  103/459   train_loss = 1.049\n",
      "Epoch   8 Batch  128/459   train_loss = 1.035\n",
      "Epoch   8 Batch  153/459   train_loss = 0.999\n",
      "Epoch   8 Batch  178/459   train_loss = 1.003\n",
      "Epoch   8 Batch  203/459   train_loss = 1.028\n",
      "Epoch   8 Batch  228/459   train_loss = 1.038\n",
      "Epoch   8 Batch  253/459   train_loss = 0.995\n",
      "Epoch   8 Batch  278/459   train_loss = 0.999\n",
      "Epoch   8 Batch  303/459   train_loss = 1.027\n",
      "Epoch   8 Batch  328/459   train_loss = 1.027\n",
      "Epoch   8 Batch  353/459   train_loss = 1.004\n",
      "Epoch   8 Batch  378/459   train_loss = 0.993\n",
      "Epoch   8 Batch  403/459   train_loss = 0.988\n",
      "Epoch   8 Batch  428/459   train_loss = 1.013\n",
      "Epoch   8 Batch  453/459   train_loss = 0.986\n",
      "Epoch   9 Batch   19/459   train_loss = 1.002\n",
      "Epoch   9 Batch   44/459   train_loss = 0.996\n",
      "Epoch   9 Batch   69/459   train_loss = 0.990\n",
      "Epoch   9 Batch   94/459   train_loss = 0.979\n",
      "Epoch   9 Batch  119/459   train_loss = 1.010\n",
      "Epoch   9 Batch  144/459   train_loss = 1.023\n",
      "Epoch   9 Batch  169/459   train_loss = 0.986\n",
      "Epoch   9 Batch  194/459   train_loss = 0.979\n",
      "Epoch   9 Batch  219/459   train_loss = 0.979\n",
      "Epoch   9 Batch  244/459   train_loss = 0.995\n",
      "Epoch   9 Batch  269/459   train_loss = 0.984\n",
      "Epoch   9 Batch  294/459   train_loss = 0.946\n",
      "Epoch   9 Batch  319/459   train_loss = 1.010\n",
      "Epoch   9 Batch  344/459   train_loss = 1.003\n",
      "Epoch   9 Batch  369/459   train_loss = 1.006\n",
      "Epoch   9 Batch  394/459   train_loss = 1.001\n",
      "Epoch   9 Batch  419/459   train_loss = 0.963\n",
      "Epoch   9 Batch  444/459   train_loss = 0.976\n",
      "Epoch  10 Batch   10/459   train_loss = 0.965\n",
      "Epoch  10 Batch   35/459   train_loss = 0.982\n",
      "Epoch  10 Batch   60/459   train_loss = 0.985\n",
      "Epoch  10 Batch   85/459   train_loss = 0.998\n",
      "Epoch  10 Batch  110/459   train_loss = 0.998\n",
      "Epoch  10 Batch  135/459   train_loss = 1.000\n",
      "Epoch  10 Batch  160/459   train_loss = 1.001\n",
      "Epoch  10 Batch  185/459   train_loss = 0.983\n",
      "Epoch  10 Batch  210/459   train_loss = 0.983\n",
      "Epoch  10 Batch  235/459   train_loss = 0.985\n",
      "Epoch  10 Batch  260/459   train_loss = 0.965\n",
      "Epoch  10 Batch  285/459   train_loss = 0.980\n",
      "Epoch  10 Batch  310/459   train_loss = 0.964\n",
      "Epoch  10 Batch  335/459   train_loss = 0.988\n",
      "Epoch  10 Batch  360/459   train_loss = 0.969\n",
      "Epoch  10 Batch  385/459   train_loss = 1.001\n",
      "Epoch  10 Batch  410/459   train_loss = 0.971\n",
      "Epoch  10 Batch  435/459   train_loss = 0.961\n",
      "Epoch  11 Batch    1/459   train_loss = 0.955\n",
      "Epoch  11 Batch   26/459   train_loss = 0.963\n",
      "Epoch  11 Batch   51/459   train_loss = 0.973\n",
      "Epoch  11 Batch   76/459   train_loss = 0.946\n",
      "Epoch  11 Batch  101/459   train_loss = 0.962\n",
      "Epoch  11 Batch  126/459   train_loss = 1.001\n",
      "Epoch  11 Batch  151/459   train_loss = 0.967\n",
      "Epoch  11 Batch  176/459   train_loss = 0.967\n",
      "Epoch  11 Batch  201/459   train_loss = 0.948\n",
      "Epoch  11 Batch  226/459   train_loss = 0.987\n",
      "Epoch  11 Batch  251/459   train_loss = 0.945\n",
      "Epoch  11 Batch  276/459   train_loss = 0.963\n",
      "Epoch  11 Batch  301/459   train_loss = 0.965\n",
      "Epoch  11 Batch  326/459   train_loss = 0.965\n",
      "Epoch  11 Batch  351/459   train_loss = 0.964\n",
      "Epoch  11 Batch  376/459   train_loss = 0.973\n",
      "Epoch  11 Batch  401/459   train_loss = 0.954\n",
      "Epoch  11 Batch  426/459   train_loss = 0.963\n",
      "Epoch  11 Batch  451/459   train_loss = 0.946\n",
      "Epoch  12 Batch   17/459   train_loss = 0.964\n",
      "Epoch  12 Batch   42/459   train_loss = 0.943\n",
      "Epoch  12 Batch   67/459   train_loss = 0.969\n",
      "Epoch  12 Batch   92/459   train_loss = 0.968\n",
      "Epoch  12 Batch  117/459   train_loss = 0.943\n",
      "Epoch  12 Batch  142/459   train_loss = 0.955\n",
      "Epoch  12 Batch  167/459   train_loss = 0.934\n",
      "Epoch  12 Batch  192/459   train_loss = 0.946\n",
      "Epoch  12 Batch  217/459   train_loss = 0.947\n",
      "Epoch  12 Batch  242/459   train_loss = 0.960\n",
      "Epoch  12 Batch  267/459   train_loss = 0.941\n",
      "Epoch  12 Batch  292/459   train_loss = 0.911\n",
      "Epoch  12 Batch  317/459   train_loss = 0.933\n",
      "Epoch  12 Batch  342/459   train_loss = 0.950\n",
      "Epoch  12 Batch  367/459   train_loss = 0.935\n",
      "Epoch  12 Batch  392/459   train_loss = 0.898\n",
      "Epoch  12 Batch  417/459   train_loss = 0.897\n",
      "Epoch  12 Batch  442/459   train_loss = 0.951\n",
      "Epoch  13 Batch    8/459   train_loss = 0.916\n",
      "Epoch  13 Batch   33/459   train_loss = 0.919\n",
      "Epoch  13 Batch   58/459   train_loss = 0.929\n",
      "Epoch  13 Batch   83/459   train_loss = 0.935\n",
      "Epoch  13 Batch  108/459   train_loss = 0.906\n",
      "Epoch  13 Batch  133/459   train_loss = 0.912\n",
      "Epoch  13 Batch  158/459   train_loss = 0.940\n",
      "Epoch  13 Batch  183/459   train_loss = 0.936\n",
      "Epoch  13 Batch  208/459   train_loss = 0.922\n",
      "Epoch  13 Batch  233/459   train_loss = 0.917\n",
      "Epoch  13 Batch  258/459   train_loss = 0.885\n",
      "Epoch  13 Batch  283/459   train_loss = 0.919\n",
      "Epoch  13 Batch  308/459   train_loss = 0.935\n",
      "Epoch  13 Batch  333/459   train_loss = 0.943\n",
      "Epoch  13 Batch  358/459   train_loss = 0.919\n",
      "Epoch  13 Batch  383/459   train_loss = 0.902\n",
      "Epoch  13 Batch  408/459   train_loss = 0.897\n",
      "Epoch  13 Batch  433/459   train_loss = 0.932\n",
      "Epoch  13 Batch  458/459   train_loss = 0.928\n",
      "Epoch  14 Batch   24/459   train_loss = 0.943\n",
      "Epoch  14 Batch   49/459   train_loss = 0.900\n",
      "Epoch  14 Batch   74/459   train_loss = 0.920\n",
      "Epoch  14 Batch   99/459   train_loss = 0.903\n",
      "Epoch  14 Batch  124/459   train_loss = 0.903\n",
      "Epoch  14 Batch  149/459   train_loss = 0.899\n",
      "Epoch  14 Batch  174/459   train_loss = 0.867\n",
      "Epoch  14 Batch  199/459   train_loss = 0.899\n",
      "Epoch  14 Batch  224/459   train_loss = 0.888\n",
      "Epoch  14 Batch  249/459   train_loss = 0.876\n",
      "Epoch  14 Batch  274/459   train_loss = 0.870\n",
      "Epoch  14 Batch  299/459   train_loss = 0.900\n",
      "Epoch  14 Batch  324/459   train_loss = 0.876\n",
      "Epoch  14 Batch  349/459   train_loss = 0.899\n",
      "Epoch  14 Batch  374/459   train_loss = 0.896\n",
      "Epoch  14 Batch  399/459   train_loss = 0.898\n",
      "Epoch  14 Batch  424/459   train_loss = 0.873\n",
      "Epoch  14 Batch  449/459   train_loss = 0.891\n",
      "Epoch  15 Batch   15/459   train_loss = 0.906\n",
      "Epoch  15 Batch   40/459   train_loss = 0.870\n",
      "Epoch  15 Batch   65/459   train_loss = 0.882\n",
      "Epoch  15 Batch   90/459   train_loss = 0.867\n",
      "Epoch  15 Batch  115/459   train_loss = 0.907\n",
      "Epoch  15 Batch  140/459   train_loss = 0.925\n",
      "Epoch  15 Batch  165/459   train_loss = 0.883\n",
      "Epoch  15 Batch  190/459   train_loss = 0.889\n",
      "Epoch  15 Batch  215/459   train_loss = 0.890\n",
      "Epoch  15 Batch  240/459   train_loss = 0.875\n",
      "Epoch  15 Batch  265/459   train_loss = 0.870\n",
      "Epoch  15 Batch  290/459   train_loss = 0.896\n",
      "Epoch  15 Batch  315/459   train_loss = 0.884\n",
      "Epoch  15 Batch  340/459   train_loss = 0.876\n",
      "Epoch  15 Batch  365/459   train_loss = 0.887\n",
      "Epoch  15 Batch  390/459   train_loss = 0.881\n",
      "Epoch  15 Batch  415/459   train_loss = 0.876\n",
      "Epoch  15 Batch  440/459   train_loss = 0.857\n",
      "Epoch  16 Batch    6/459   train_loss = 0.878\n",
      "Epoch  16 Batch   31/459   train_loss = 0.885\n",
      "Epoch  16 Batch   56/459   train_loss = 0.860\n",
      "Epoch  16 Batch   81/459   train_loss = 0.864\n",
      "Epoch  16 Batch  106/459   train_loss = 0.896\n",
      "Epoch  16 Batch  131/459   train_loss = 0.867\n",
      "Epoch  16 Batch  156/459   train_loss = 0.892\n",
      "Epoch  16 Batch  181/459   train_loss = 0.880\n",
      "Epoch  16 Batch  206/459   train_loss = 0.867\n",
      "Epoch  16 Batch  231/459   train_loss = 0.870\n",
      "Epoch  16 Batch  256/459   train_loss = 0.850\n",
      "Epoch  16 Batch  281/459   train_loss = 0.857\n",
      "Epoch  16 Batch  306/459   train_loss = 0.838\n",
      "Epoch  16 Batch  331/459   train_loss = 0.864\n",
      "Epoch  16 Batch  356/459   train_loss = 0.842\n",
      "Epoch  16 Batch  381/459   train_loss = 0.828\n",
      "Epoch  16 Batch  406/459   train_loss = 0.873\n",
      "Epoch  16 Batch  431/459   train_loss = 0.842\n",
      "Epoch  16 Batch  456/459   train_loss = 0.862\n",
      "Epoch  17 Batch   22/459   train_loss = 0.830\n",
      "Epoch  17 Batch   47/459   train_loss = 0.838\n",
      "Epoch  17 Batch   72/459   train_loss = 0.858\n",
      "Epoch  17 Batch   97/459   train_loss = 0.865\n",
      "Epoch  17 Batch  122/459   train_loss = 0.839\n",
      "Epoch  17 Batch  147/459   train_loss = 0.842\n",
      "Epoch  17 Batch  172/459   train_loss = 0.860\n",
      "Epoch  17 Batch  197/459   train_loss = 0.847\n",
      "Epoch  17 Batch  222/459   train_loss = 0.859\n",
      "Epoch  17 Batch  247/459   train_loss = 0.832\n",
      "Epoch  17 Batch  272/459   train_loss = 0.826\n",
      "Epoch  17 Batch  297/459   train_loss = 0.863\n",
      "Epoch  17 Batch  322/459   train_loss = 0.837\n",
      "Epoch  17 Batch  347/459   train_loss = 0.830\n",
      "Epoch  17 Batch  372/459   train_loss = 0.845\n",
      "Epoch  17 Batch  397/459   train_loss = 0.828\n",
      "Epoch  17 Batch  422/459   train_loss = 0.869\n",
      "Epoch  17 Batch  447/459   train_loss = 0.843\n",
      "Epoch  18 Batch   13/459   train_loss = 0.821\n",
      "Epoch  18 Batch   38/459   train_loss = 0.837\n",
      "Epoch  18 Batch   63/459   train_loss = 0.844\n",
      "Epoch  18 Batch   88/459   train_loss = 0.841\n",
      "Epoch  18 Batch  113/459   train_loss = 0.815\n",
      "Epoch  18 Batch  138/459   train_loss = 0.829\n",
      "Epoch  18 Batch  163/459   train_loss = 0.837\n",
      "Epoch  18 Batch  188/459   train_loss = 0.814\n",
      "Epoch  18 Batch  213/459   train_loss = 0.827\n",
      "Epoch  18 Batch  238/459   train_loss = 0.804\n",
      "Epoch  18 Batch  263/459   train_loss = 0.834\n",
      "Epoch  18 Batch  288/459   train_loss = 0.830\n",
      "Epoch  18 Batch  313/459   train_loss = 0.835\n",
      "Epoch  18 Batch  338/459   train_loss = 0.838\n",
      "Epoch  18 Batch  363/459   train_loss = 0.807\n",
      "Epoch  18 Batch  388/459   train_loss = 0.817\n",
      "Epoch  18 Batch  413/459   train_loss = 0.809\n",
      "Epoch  18 Batch  438/459   train_loss = 0.790\n",
      "Epoch  19 Batch    4/459   train_loss = 0.821\n",
      "Epoch  19 Batch   29/459   train_loss = 0.809\n",
      "Epoch  19 Batch   54/459   train_loss = 0.795\n",
      "Epoch  19 Batch   79/459   train_loss = 0.817\n",
      "Epoch  19 Batch  104/459   train_loss = 0.847\n",
      "Epoch  19 Batch  129/459   train_loss = 0.819\n",
      "Epoch  19 Batch  154/459   train_loss = 0.823\n",
      "Epoch  19 Batch  179/459   train_loss = 0.812\n",
      "Epoch  19 Batch  204/459   train_loss = 0.811\n",
      "Epoch  19 Batch  229/459   train_loss = 0.805\n",
      "Epoch  19 Batch  254/459   train_loss = 0.800\n",
      "Epoch  19 Batch  279/459   train_loss = 0.794\n",
      "Epoch  19 Batch  304/459   train_loss = 0.802\n",
      "Epoch  19 Batch  329/459   train_loss = 0.791\n",
      "Epoch  19 Batch  354/459   train_loss = 0.828\n",
      "Epoch  19 Batch  379/459   train_loss = 0.805\n",
      "Epoch  19 Batch  404/459   train_loss = 0.815\n",
      "Epoch  19 Batch  429/459   train_loss = 0.805\n",
      "Epoch  19 Batch  454/459   train_loss = 0.788\n",
      "Epoch  20 Batch   20/459   train_loss = 0.804\n",
      "Epoch  20 Batch   45/459   train_loss = 0.794\n",
      "Epoch  20 Batch   70/459   train_loss = 0.799\n",
      "Epoch  20 Batch   95/459   train_loss = 0.790\n",
      "Epoch  20 Batch  120/459   train_loss = 0.796\n",
      "Epoch  20 Batch  145/459   train_loss = 0.823\n",
      "Epoch  20 Batch  170/459   train_loss = 0.794\n",
      "Epoch  20 Batch  195/459   train_loss = 0.789\n",
      "Epoch  20 Batch  220/459   train_loss = 0.804\n",
      "Epoch  20 Batch  245/459   train_loss = 0.790\n",
      "Epoch  20 Batch  270/459   train_loss = 0.789\n",
      "Epoch  20 Batch  295/459   train_loss = 0.774\n",
      "Epoch  20 Batch  320/459   train_loss = 0.803\n",
      "Epoch  20 Batch  345/459   train_loss = 0.821\n",
      "Epoch  20 Batch  370/459   train_loss = 0.785\n",
      "Epoch  20 Batch  395/459   train_loss = 0.782\n",
      "Epoch  20 Batch  420/459   train_loss = 0.779\n",
      "Epoch  20 Batch  445/459   train_loss = 0.779\n",
      "Epoch  21 Batch   11/459   train_loss = 0.777\n",
      "Epoch  21 Batch   36/459   train_loss = 0.782\n",
      "Epoch  21 Batch   61/459   train_loss = 0.777\n",
      "Epoch  21 Batch   86/459   train_loss = 0.777\n",
      "Epoch  21 Batch  111/459   train_loss = 0.785\n",
      "Epoch  21 Batch  136/459   train_loss = 0.792\n",
      "Epoch  21 Batch  161/459   train_loss = 0.761\n",
      "Epoch  21 Batch  186/459   train_loss = 0.768\n",
      "Epoch  21 Batch  211/459   train_loss = 0.772\n",
      "Epoch  21 Batch  236/459   train_loss = 0.778\n",
      "Epoch  21 Batch  261/459   train_loss = 0.736\n",
      "Epoch  21 Batch  286/459   train_loss = 0.774\n",
      "Epoch  21 Batch  311/459   train_loss = 0.796\n",
      "Epoch  21 Batch  336/459   train_loss = 0.768\n",
      "Epoch  21 Batch  361/459   train_loss = 0.749\n",
      "Epoch  21 Batch  386/459   train_loss = 0.772\n",
      "Epoch  21 Batch  411/459   train_loss = 0.783\n",
      "Epoch  21 Batch  436/459   train_loss = 0.793\n",
      "Epoch  22 Batch    2/459   train_loss = 0.775\n",
      "Epoch  22 Batch   27/459   train_loss = 0.773\n",
      "Epoch  22 Batch   52/459   train_loss = 0.771\n",
      "Epoch  22 Batch   77/459   train_loss = 0.736\n",
      "Epoch  22 Batch  102/459   train_loss = 0.759\n",
      "Epoch  22 Batch  127/459   train_loss = 0.780\n",
      "Epoch  22 Batch  152/459   train_loss = 0.764\n",
      "Epoch  22 Batch  177/459   train_loss = 0.774\n",
      "Epoch  22 Batch  202/459   train_loss = 0.780\n",
      "Epoch  22 Batch  227/459   train_loss = 0.792\n",
      "Epoch  22 Batch  252/459   train_loss = 0.754\n",
      "Epoch  22 Batch  277/459   train_loss = 0.767\n",
      "Epoch  22 Batch  302/459   train_loss = 0.763\n",
      "Epoch  22 Batch  327/459   train_loss = 0.767\n",
      "Epoch  22 Batch  352/459   train_loss = 0.767\n",
      "Epoch  22 Batch  377/459   train_loss = 0.762\n",
      "Epoch  22 Batch  402/459   train_loss = 0.772\n",
      "Epoch  22 Batch  427/459   train_loss = 0.756\n",
      "Epoch  22 Batch  452/459   train_loss = 0.759\n",
      "Epoch  23 Batch   18/459   train_loss = 0.739\n",
      "Epoch  23 Batch   43/459   train_loss = 0.759\n",
      "Epoch  23 Batch   68/459   train_loss = 0.736\n",
      "Epoch  23 Batch   93/459   train_loss = 0.761\n",
      "Epoch  23 Batch  118/459   train_loss = 0.754\n",
      "Epoch  23 Batch  143/459   train_loss = 0.749\n",
      "Epoch  23 Batch  168/459   train_loss = 0.761\n",
      "Epoch  23 Batch  193/459   train_loss = 0.744\n",
      "Epoch  23 Batch  218/459   train_loss = 0.734\n",
      "Epoch  23 Batch  243/459   train_loss = 0.777\n",
      "Epoch  23 Batch  268/459   train_loss = 0.758\n",
      "Epoch  23 Batch  293/459   train_loss = 0.748\n",
      "Epoch  23 Batch  318/459   train_loss = 0.752\n",
      "Epoch  23 Batch  343/459   train_loss = 0.720\n",
      "Epoch  23 Batch  368/459   train_loss = 0.741\n",
      "Epoch  23 Batch  393/459   train_loss = 0.743\n",
      "Epoch  23 Batch  418/459   train_loss = 0.770\n",
      "Epoch  23 Batch  443/459   train_loss = 0.736\n",
      "Epoch  24 Batch    9/459   train_loss = 0.728\n",
      "Epoch  24 Batch   34/459   train_loss = 0.752\n",
      "Epoch  24 Batch   59/459   train_loss = 0.726\n",
      "Epoch  24 Batch   84/459   train_loss = 0.759\n",
      "Epoch  24 Batch  109/459   train_loss = 0.742\n",
      "Epoch  24 Batch  134/459   train_loss = 0.765\n",
      "Epoch  24 Batch  159/459   train_loss = 0.772\n",
      "Epoch  24 Batch  184/459   train_loss = 0.728\n",
      "Epoch  24 Batch  209/459   train_loss = 0.751\n",
      "Epoch  24 Batch  234/459   train_loss = 0.744\n",
      "Epoch  24 Batch  259/459   train_loss = 0.698\n",
      "Epoch  24 Batch  284/459   train_loss = 0.744\n",
      "Epoch  24 Batch  309/459   train_loss = 0.748\n",
      "Epoch  24 Batch  334/459   train_loss = 0.727\n",
      "Epoch  24 Batch  359/459   train_loss = 0.750\n",
      "Epoch  24 Batch  384/459   train_loss = 0.720\n",
      "Epoch  24 Batch  409/459   train_loss = 0.729\n",
      "Epoch  24 Batch  434/459   train_loss = 0.726\n",
      "Epoch  25 Batch    0/459   train_loss = 0.737\n",
      "Epoch  25 Batch   25/459   train_loss = 0.735\n",
      "Epoch  25 Batch   50/459   train_loss = 0.727\n",
      "Epoch  25 Batch   75/459   train_loss = 0.713\n",
      "Epoch  25 Batch  100/459   train_loss = 0.719\n",
      "Epoch  25 Batch  125/459   train_loss = 0.709\n",
      "Epoch  25 Batch  150/459   train_loss = 0.732\n",
      "Epoch  25 Batch  175/459   train_loss = 0.693\n",
      "Epoch  25 Batch  200/459   train_loss = 0.689\n",
      "Epoch  25 Batch  225/459   train_loss = 0.684\n",
      "Epoch  25 Batch  250/459   train_loss = 0.747\n",
      "Epoch  25 Batch  275/459   train_loss = 0.691\n",
      "Epoch  25 Batch  300/459   train_loss = 0.733\n",
      "Epoch  25 Batch  325/459   train_loss = 0.707\n",
      "Epoch  25 Batch  350/459   train_loss = 0.744\n",
      "Epoch  25 Batch  375/459   train_loss = 0.724\n",
      "Epoch  25 Batch  400/459   train_loss = 0.722\n",
      "Epoch  25 Batch  425/459   train_loss = 0.706\n",
      "Epoch  25 Batch  450/459   train_loss = 0.740\n",
      "Epoch  26 Batch   16/459   train_loss = 0.710\n",
      "Epoch  26 Batch   41/459   train_loss = 0.729\n",
      "Epoch  26 Batch   66/459   train_loss = 0.695\n",
      "Epoch  26 Batch   91/459   train_loss = 0.693\n",
      "Epoch  26 Batch  116/459   train_loss = 0.705\n",
      "Epoch  26 Batch  141/459   train_loss = 0.729\n",
      "Epoch  26 Batch  166/459   train_loss = 0.703\n",
      "Epoch  26 Batch  191/459   train_loss = 0.707\n",
      "Epoch  26 Batch  216/459   train_loss = 0.713\n",
      "Epoch  26 Batch  241/459   train_loss = 0.734\n",
      "Epoch  26 Batch  266/459   train_loss = 0.689\n",
      "Epoch  26 Batch  291/459   train_loss = 0.722\n",
      "Epoch  26 Batch  316/459   train_loss = 0.727\n",
      "Epoch  26 Batch  341/459   train_loss = 0.715\n",
      "Epoch  26 Batch  366/459   train_loss = 0.712\n",
      "Epoch  26 Batch  391/459   train_loss = 0.676\n",
      "Epoch  26 Batch  416/459   train_loss = 0.705\n",
      "Epoch  26 Batch  441/459   train_loss = 0.684\n",
      "Epoch  27 Batch    7/459   train_loss = 0.700\n",
      "Epoch  27 Batch   32/459   train_loss = 0.698\n",
      "Epoch  27 Batch   57/459   train_loss = 0.694\n",
      "Epoch  27 Batch   82/459   train_loss = 0.697\n",
      "Epoch  27 Batch  107/459   train_loss = 0.722\n",
      "Epoch  27 Batch  132/459   train_loss = 0.676\n",
      "Epoch  27 Batch  157/459   train_loss = 0.699\n",
      "Epoch  27 Batch  182/459   train_loss = 0.678\n",
      "Epoch  27 Batch  207/459   train_loss = 0.685\n",
      "Epoch  27 Batch  232/459   train_loss = 0.719\n",
      "Epoch  27 Batch  257/459   train_loss = 0.710\n",
      "Epoch  27 Batch  282/459   train_loss = 0.683\n",
      "Epoch  27 Batch  307/459   train_loss = 0.744\n",
      "Epoch  27 Batch  332/459   train_loss = 0.685\n",
      "Epoch  27 Batch  357/459   train_loss = 0.694\n",
      "Epoch  27 Batch  382/459   train_loss = 0.688\n",
      "Epoch  27 Batch  407/459   train_loss = 0.703\n",
      "Epoch  27 Batch  432/459   train_loss = 0.708\n",
      "Epoch  27 Batch  457/459   train_loss = 0.689\n",
      "Epoch  28 Batch   23/459   train_loss = 0.678\n",
      "Epoch  28 Batch   48/459   train_loss = 0.709\n",
      "Epoch  28 Batch   73/459   train_loss = 0.670\n",
      "Epoch  28 Batch   98/459   train_loss = 0.690\n",
      "Epoch  28 Batch  123/459   train_loss = 0.735\n",
      "Epoch  28 Batch  148/459   train_loss = 0.650\n",
      "Epoch  28 Batch  173/459   train_loss = 0.688\n",
      "Epoch  28 Batch  198/459   train_loss = 0.684\n",
      "Epoch  28 Batch  223/459   train_loss = 0.680\n",
      "Epoch  28 Batch  248/459   train_loss = 0.694\n",
      "Epoch  28 Batch  273/459   train_loss = 0.653\n",
      "Epoch  28 Batch  298/459   train_loss = 0.684\n",
      "Epoch  28 Batch  323/459   train_loss = 0.688\n",
      "Epoch  28 Batch  348/459   train_loss = 0.695\n",
      "Epoch  28 Batch  373/459   train_loss = 0.664\n",
      "Epoch  28 Batch  398/459   train_loss = 0.682\n",
      "Epoch  28 Batch  423/459   train_loss = 0.692\n",
      "Epoch  28 Batch  448/459   train_loss = 0.677\n",
      "Epoch  29 Batch   14/459   train_loss = 0.694\n",
      "Epoch  29 Batch   39/459   train_loss = 0.693\n",
      "Epoch  29 Batch   64/459   train_loss = 0.663\n",
      "Epoch  29 Batch   89/459   train_loss = 0.706\n",
      "Epoch  29 Batch  114/459   train_loss = 0.691\n",
      "Epoch  29 Batch  139/459   train_loss = 0.684\n",
      "Epoch  29 Batch  164/459   train_loss = 0.725\n",
      "Epoch  29 Batch  189/459   train_loss = 0.671\n",
      "Epoch  29 Batch  214/459   train_loss = 0.671\n",
      "Epoch  29 Batch  239/459   train_loss = 0.680\n",
      "Epoch  29 Batch  264/459   train_loss = 0.667\n",
      "Epoch  29 Batch  289/459   train_loss = 0.683\n",
      "Epoch  29 Batch  314/459   train_loss = 0.686\n",
      "Epoch  29 Batch  339/459   train_loss = 0.690\n",
      "Epoch  29 Batch  364/459   train_loss = 0.684\n",
      "Epoch  29 Batch  389/459   train_loss = 0.672\n",
      "Epoch  29 Batch  414/459   train_loss = 0.672\n",
      "Epoch  29 Batch  439/459   train_loss = 0.683\n",
      "Model Trained and Saved\n"
     ]
    }
   ],
   "source": [
    "batches = get_batches(int_text, batch_size, seq_length)\n",
    "save_dir = './save'\n",
    "time_str = datetime.datetime.today().strftime('%Y%m%d%H%M')\n",
    "# save_dir = './save_model_' + str(time_str)\n",
    "with tf.Session(graph=train_graph) as sess:\n",
    "    sess.run(tf.global_variables_initializer())\n",
    "\n",
    "    for epoch_i in range(num_epochs):\n",
    "        state = sess.run(initial_state, {input_text: batches[0][0]})\n",
    "\n",
    "        for batch_i, (x, y) in enumerate(batches):\n",
    "            feed = {\n",
    "                input_text: x,\n",
    "                targets: y,\n",
    "                initial_state: state,\n",
    "                lr: learning_rate}\n",
    "            train_loss, state, _ = sess.run([cost, final_state, train_op], feed)\n",
    "\n",
    "            # Show every <show_every_n_batches> batches\n",
    "            if (epoch_i * len(batches) + batch_i) % show_every_n_batches == 0:\n",
    "                print('Epoch {:>3} Batch {:>4}/{}   train_loss = {:.3f}'.format(\n",
    "                    epoch_i,\n",
    "                    batch_i,\n",
    "                    len(batches),\n",
    "                    train_loss))\n",
    "\n",
    "    # Save Model\n",
    "    saver = tf.train.Saver()\n",
    "    saver.save(sess, save_dir)\n",
    "    print('Model Trained and Saved')"
   ]
  },
  {
   "cell_type": "code",
   "execution_count": 129,
   "metadata": {
    "collapsed": true
   },
   "outputs": [],
   "source": [
    "# Save seq_length and save_dir\n",
    "pickle.dump((seq_length, save_dir), open('data/seq_len_n_save_dir.p', 'wb'))"
   ]
  },
  {
   "cell_type": "markdown",
   "metadata": {},
   "source": [
    "### Checkpoint"
   ]
  },
  {
   "cell_type": "code",
   "execution_count": 130,
   "metadata": {
    "collapsed": true
   },
   "outputs": [],
   "source": [
    "import tensorflow as tf\n",
    "import numpy as np\n",
    "\n",
    "_, vocab_to_int, int_to_vocab, token_dict = pickle.load(open('data/preprocess.p', mode='rb'))\n",
    "seq_length, load_dir = pickle.load(open('data/seq_len_n_save_dir.p', mode='rb'))"
   ]
  },
  {
   "cell_type": "code",
   "execution_count": 131,
   "metadata": {
    "collapsed": true
   },
   "outputs": [],
   "source": [
    "def get_tensors(loaded_graph):\n",
    "    \"\"\"\n",
    "    Get input, initial state, final state, and probabilities tensor from <loaded_graph>\n",
    "    :param loaded_graph: TensorFlow graph loaded from file\n",
    "    :return: Tuple (InputTensor, InitialStateTensor, FinalStateTensor, ProbsTensor)\n",
    "    \"\"\"\n",
    "    # TODO: Implement Function\n",
    "    InputTensor = loaded_graph.get_tensor_by_name('input:0')\n",
    "    InitialStateTensor = loaded_graph.get_tensor_by_name('initial_state:0')\n",
    "    FinalStateTensor = loaded_graph.get_tensor_by_name('final_state:0')\n",
    "    ProbsTensor = loaded_graph.get_tensor_by_name('probs:0')\n",
    "    return InputTensor, InitialStateTensor, FinalStateTensor, ProbsTensor\n",
    "\n",
    "\n"
   ]
  },
  {
   "cell_type": "code",
   "execution_count": 132,
   "metadata": {
    "collapsed": true
   },
   "outputs": [],
   "source": [
    "def pick_word(probabilities, int_to_vocab):\n",
    "    \"\"\"\n",
    "    Pick the next word in the generated text\n",
    "    :param probabilities: Probabilites of the next word\n",
    "    :param int_to_vocab: Dictionary of word ids as the keys and words as the values\n",
    "    :return: String of the predicted word\n",
    "    \"\"\"\n",
    "    # TODO: Implement Function\n",
    "    # print(probabilities)\n",
    "    # print(int_to_vocab)\n",
    "    p = np.squeeze(probabilities)\n",
    "    \n",
    "    # index = np.argsort(p)[-1:][0]\n",
    "    # word = int_to_vocab[index]\n",
    "    \n",
    "    p[np.argsort(p)[:-5]] = 0\n",
    "    p = p / np.sum(p)\n",
    "    index = np.random.choice(len(int_to_vocab), 1, p=p)[0]\n",
    "    word = int_to_vocab[index]\n",
    "    return word"
   ]
  },
  {
   "cell_type": "code",
   "execution_count": 135,
   "metadata": {
    "collapsed": false
   },
   "outputs": [
    {
     "name": "stdout",
     "output_type": "stream",
     "text": [
      "INFO:tensorflow:Restoring parameters from ./save\n"
     ]
    },
    {
     "name": "stderr",
     "output_type": "stream",
     "text": [
      "INFO:tensorflow:Restoring parameters from ./save\n"
     ]
    },
    {
     "name": "stdout",
     "output_type": "stream",
     "text": [
      "game_start\n",
      ",,,,,\n",
      "nerlens noel, anthony davis, malcolm delaney, jump ball noel vs. tucker: tip to,,\n",
      "marco belinelli, dennis schroder,, belinelli 19' pullup jump shot(2 pts)(prince 2 ast)\n",
      ",,, cavaliers timeout: regular(full 4 short 0),,\n",
      ",,,,,\n",
      "og anunoby, jonas valanciunas,,,, anunoby s. foul(p1. t2)(h. workman),,\n",
      ",,,,, raptors timeout: regular(reg. 2 short 0)\n",
      "demar derozan,,,,, derozan free throw 1 of 2(9 pts)\n",
      ",,,,, wizards timeout: regular(reg. 5 short 0)\n",
      "justise winslow, wayne ellington,,,, sub: ellington for winslow\n",
      "james johnson,,, johnson free throw 1 of 2(4 pts),,\n",
      "josh jackson,,, miss jackson free throw 2 of 2,,\n",
      "wayne ellington,,,,,\n"
     ]
    }
   ],
   "source": [
    "gen_length = 200\n",
    "prime_word = 'game_start'\n",
    "\n",
    "\n",
    "loaded_graph = tf.Graph()\n",
    "with tf.Session(graph=loaded_graph) as sess:\n",
    "    # Load saved model\n",
    "    loader = tf.train.import_meta_graph(load_dir + '.meta')\n",
    "    loader.restore(sess, load_dir)\n",
    "\n",
    "    # Get Tensors from loaded model\n",
    "    input_text, initial_state, final_state, probs = get_tensors(loaded_graph)\n",
    "\n",
    "    # Sentences generation setup\n",
    "    # gen_sentences = [prime_word + ':']\n",
    "    gen_sentences = [prime_word]\n",
    "    prev_state = sess.run(initial_state, {input_text: np.array([[1]])})\n",
    "\n",
    "    # Generate sentences\n",
    "    for n in range(gen_length):\n",
    "        # Dynamic Input\n",
    "        dyn_input = [[vocab_to_int[word] for word in gen_sentences[-seq_length:]]]\n",
    "        dyn_seq_length = len(dyn_input[0])\n",
    "\n",
    "        # Get Prediction\n",
    "        probabilities, prev_state = sess.run(\n",
    "            [probs, final_state],\n",
    "            {input_text: dyn_input, initial_state: prev_state})\n",
    "        \n",
    "        pred_word = pick_word(probabilities[dyn_seq_length-1], int_to_vocab)\n",
    "\n",
    "        gen_sentences.append(pred_word)\n",
    "    \n",
    "    # Remove tokens\n",
    "    tv_script = ' '.join(gen_sentences)\n",
    "    for key, token in token_dict.items():\n",
    "        ending = ' ' if key in ['\\n', '(', '\"'] else ''\n",
    "        tv_script = tv_script.replace(' ' + token.lower(), key)\n",
    "    tv_script = tv_script.replace('\\n ', '\\n')\n",
    "    tv_script = tv_script.replace('( ', '(')\n",
    "        \n",
    "    print(tv_script)"
   ]
  },
  {
   "cell_type": "code",
   "execution_count": 138,
   "metadata": {
    "collapsed": false
   },
   "outputs": [
    {
     "data": {
      "text/plain": [
       "'201711192107'"
      ]
     },
     "execution_count": 138,
     "metadata": {},
     "output_type": "execute_result"
    }
   ],
   "source": []
  },
  {
   "cell_type": "code",
   "execution_count": null,
   "metadata": {
    "collapsed": true
   },
   "outputs": [],
   "source": []
  }
 ],
 "metadata": {
  "kernelspec": {
   "display_name": "Python 3",
   "language": "python",
   "name": "python3"
  },
  "language_info": {
   "codemirror_mode": {
    "name": "ipython",
    "version": 3
   },
   "file_extension": ".py",
   "mimetype": "text/x-python",
   "name": "python",
   "nbconvert_exporter": "python",
   "pygments_lexer": "ipython3",
   "version": "3.6.0"
  }
 },
 "nbformat": 4,
 "nbformat_minor": 2
}
