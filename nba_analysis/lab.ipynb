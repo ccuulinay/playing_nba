{
 "cells": [
  {
   "cell_type": "code",
   "execution_count": 1,
   "metadata": {
    "collapsed": true
   },
   "outputs": [],
   "source": [
    "import pandas as pd\n",
    "import numpy as np\n",
    "import requests\n",
    "import data_getter as dg\n",
    "import time\n",
    "import os\n",
    "from lxml import etree\n",
    "import datetime\n",
    "# pd.options.display.max_rows = 999\n",
    "# pd.reset_option(\"display.max_rows\")\n",
    "pd.get_option(\"display.max_columns\")\n",
    "pd.set_option(\"display.max_columns\", 999)"
   ]
  },
  {
   "cell_type": "code",
   "execution_count": 2,
   "metadata": {
    "collapsed": true
   },
   "outputs": [],
   "source": [
    "boxscore_list_df = dg.get_boxscore_list_to_df()\n",
    "game_id_list = list(boxscore_list_df.GAME_ID.unique())"
   ]
  },
  {
   "cell_type": "code",
   "execution_count": 3,
   "metadata": {
    "collapsed": false
   },
   "outputs": [
    {
     "ename": "KeyboardInterrupt",
     "evalue": "",
     "output_type": "error",
     "traceback": [
      "\u001b[0;31m---------------------------------------------------------------------------\u001b[0m",
      "\u001b[0;31mKeyboardInterrupt\u001b[0m                         Traceback (most recent call last)",
      "\u001b[0;32m<ipython-input-3-914f70a40bb6>\u001b[0m in \u001b[0;36m<module>\u001b[0;34m()\u001b[0m\n\u001b[1;32m      8\u001b[0m         \u001b[0mpp_df\u001b[0m\u001b[0;34m.\u001b[0m\u001b[0mto_csv\u001b[0m\u001b[0;34m(\u001b[0m\u001b[0;34m\"data/pp/\"\u001b[0m\u001b[0;34m+\u001b[0m\u001b[0;34m\"pp_\"\u001b[0m\u001b[0;34m+\u001b[0m\u001b[0mstr\u001b[0m\u001b[0;34m(\u001b[0m\u001b[0mi\u001b[0m\u001b[0;34m)\u001b[0m\u001b[0;34m+\u001b[0m\u001b[0;34m\".csv\"\u001b[0m\u001b[0;34m,\u001b[0m \u001b[0mheader\u001b[0m\u001b[0;34m=\u001b[0m\u001b[0;32mTrue\u001b[0m\u001b[0;34m,\u001b[0m \u001b[0mindex\u001b[0m\u001b[0;34m=\u001b[0m\u001b[0;32mFalse\u001b[0m\u001b[0;34m)\u001b[0m\u001b[0;34m\u001b[0m\u001b[0m\n\u001b[1;32m      9\u001b[0m     \u001b[0mpp_df_dict\u001b[0m\u001b[0;34m[\u001b[0m\u001b[0mi\u001b[0m\u001b[0;34m]\u001b[0m \u001b[0;34m=\u001b[0m \u001b[0mpp_df\u001b[0m\u001b[0;34m\u001b[0m\u001b[0m\n\u001b[0;32m---> 10\u001b[0;31m     \u001b[0mtime\u001b[0m\u001b[0;34m.\u001b[0m\u001b[0msleep\u001b[0m\u001b[0;34m(\u001b[0m\u001b[0;36m0.25\u001b[0m\u001b[0;34m)\u001b[0m\u001b[0;34m\u001b[0m\u001b[0m\n\u001b[0m",
      "\u001b[0;31mKeyboardInterrupt\u001b[0m: "
     ]
    }
   ],
   "source": [
    "pp_df_dict = {}\n",
    "for i in game_id_list:\n",
    "    filename = \"data/pp/\"+\"pp_\"+str(i)+\".csv\"\n",
    "    if os.path.isfile(filename):\n",
    "        pp_df = pd.read_csv(filename)\n",
    "    else:   \n",
    "        pp_df = dg.get_one_game_play_to_play_to_df(game_id=i) \n",
    "        pp_df.to_csv(\"data/pp/\"+\"pp_\"+str(i)+\".csv\", header=True, index=False)\n",
    "    pp_df_dict[i] = pp_df\n",
    "    time.sleep(0.25)"
   ]
  },
  {
   "cell_type": "code",
   "execution_count": 3,
   "metadata": {
    "collapsed": false
   },
   "outputs": [],
   "source": [
    "team_games_log_df = dg.get_team_games_log(team_id=1610612744, season=\"2017-18\", season_type=\"Regular Season\")"
   ]
  },
  {
   "cell_type": "code",
   "execution_count": 4,
   "metadata": {
    "collapsed": false
   },
   "outputs": [
    {
     "data": {
      "text/html": [
       "<div>\n",
       "<style>\n",
       "    .dataframe thead tr:only-child th {\n",
       "        text-align: right;\n",
       "    }\n",
       "\n",
       "    .dataframe thead th {\n",
       "        text-align: left;\n",
       "    }\n",
       "\n",
       "    .dataframe tbody tr th {\n",
       "        vertical-align: top;\n",
       "    }\n",
       "</style>\n",
       "<table border=\"1\" class=\"dataframe\">\n",
       "  <thead>\n",
       "    <tr style=\"text-align: right;\">\n",
       "      <th></th>\n",
       "      <th>Team_ID</th>\n",
       "      <th>Game_ID</th>\n",
       "      <th>GAME_DATE</th>\n",
       "      <th>MATCHUP</th>\n",
       "      <th>WL</th>\n",
       "      <th>W</th>\n",
       "      <th>L</th>\n",
       "      <th>W_PCT</th>\n",
       "      <th>MIN</th>\n",
       "      <th>FGM</th>\n",
       "      <th>FGA</th>\n",
       "      <th>FG_PCT</th>\n",
       "      <th>FG3M</th>\n",
       "      <th>FG3A</th>\n",
       "      <th>FG3_PCT</th>\n",
       "      <th>FTM</th>\n",
       "      <th>FTA</th>\n",
       "      <th>FT_PCT</th>\n",
       "      <th>OREB</th>\n",
       "      <th>DREB</th>\n",
       "      <th>REB</th>\n",
       "      <th>AST</th>\n",
       "      <th>STL</th>\n",
       "      <th>BLK</th>\n",
       "      <th>TOV</th>\n",
       "      <th>PF</th>\n",
       "      <th>PTS</th>\n",
       "    </tr>\n",
       "  </thead>\n",
       "  <tbody>\n",
       "    <tr>\n",
       "      <th>0</th>\n",
       "      <td>1610612744</td>\n",
       "      <td>0021700494</td>\n",
       "      <td>2017-12-25</td>\n",
       "      <td>GSW vs. CLE</td>\n",
       "      <td>W</td>\n",
       "      <td>27</td>\n",
       "      <td>7</td>\n",
       "      <td>0.794</td>\n",
       "      <td>240</td>\n",
       "      <td>38</td>\n",
       "      <td>82</td>\n",
       "      <td>0.463</td>\n",
       "      <td>10</td>\n",
       "      <td>37</td>\n",
       "      <td>0.270</td>\n",
       "      <td>13</td>\n",
       "      <td>17</td>\n",
       "      <td>0.765</td>\n",
       "      <td>10</td>\n",
       "      <td>37</td>\n",
       "      <td>47</td>\n",
       "      <td>28</td>\n",
       "      <td>7</td>\n",
       "      <td>8</td>\n",
       "      <td>15</td>\n",
       "      <td>18</td>\n",
       "      <td>99</td>\n",
       "    </tr>\n",
       "    <tr>\n",
       "      <th>1</th>\n",
       "      <td>1610612744</td>\n",
       "      <td>0021700489</td>\n",
       "      <td>2017-12-23</td>\n",
       "      <td>GSW vs. DEN</td>\n",
       "      <td>L</td>\n",
       "      <td>26</td>\n",
       "      <td>7</td>\n",
       "      <td>0.788</td>\n",
       "      <td>240</td>\n",
       "      <td>32</td>\n",
       "      <td>83</td>\n",
       "      <td>0.386</td>\n",
       "      <td>3</td>\n",
       "      <td>27</td>\n",
       "      <td>0.111</td>\n",
       "      <td>14</td>\n",
       "      <td>17</td>\n",
       "      <td>0.824</td>\n",
       "      <td>11</td>\n",
       "      <td>27</td>\n",
       "      <td>38</td>\n",
       "      <td>25</td>\n",
       "      <td>14</td>\n",
       "      <td>8</td>\n",
       "      <td>17</td>\n",
       "      <td>14</td>\n",
       "      <td>81</td>\n",
       "    </tr>\n",
       "    <tr>\n",
       "      <th>2</th>\n",
       "      <td>1610612744</td>\n",
       "      <td>0021700479</td>\n",
       "      <td>2017-12-22</td>\n",
       "      <td>GSW vs. LAL</td>\n",
       "      <td>W</td>\n",
       "      <td>26</td>\n",
       "      <td>6</td>\n",
       "      <td>0.813</td>\n",
       "      <td>240</td>\n",
       "      <td>42</td>\n",
       "      <td>85</td>\n",
       "      <td>0.494</td>\n",
       "      <td>7</td>\n",
       "      <td>24</td>\n",
       "      <td>0.292</td>\n",
       "      <td>22</td>\n",
       "      <td>27</td>\n",
       "      <td>0.815</td>\n",
       "      <td>10</td>\n",
       "      <td>32</td>\n",
       "      <td>42</td>\n",
       "      <td>24</td>\n",
       "      <td>9</td>\n",
       "      <td>13</td>\n",
       "      <td>15</td>\n",
       "      <td>17</td>\n",
       "      <td>113</td>\n",
       "    </tr>\n",
       "    <tr>\n",
       "      <th>3</th>\n",
       "      <td>1610612744</td>\n",
       "      <td>0021700464</td>\n",
       "      <td>2017-12-20</td>\n",
       "      <td>GSW vs. MEM</td>\n",
       "      <td>W</td>\n",
       "      <td>25</td>\n",
       "      <td>6</td>\n",
       "      <td>0.806</td>\n",
       "      <td>240</td>\n",
       "      <td>34</td>\n",
       "      <td>74</td>\n",
       "      <td>0.459</td>\n",
       "      <td>7</td>\n",
       "      <td>21</td>\n",
       "      <td>0.333</td>\n",
       "      <td>22</td>\n",
       "      <td>25</td>\n",
       "      <td>0.880</td>\n",
       "      <td>14</td>\n",
       "      <td>30</td>\n",
       "      <td>44</td>\n",
       "      <td>26</td>\n",
       "      <td>9</td>\n",
       "      <td>8</td>\n",
       "      <td>16</td>\n",
       "      <td>19</td>\n",
       "      <td>97</td>\n",
       "    </tr>\n",
       "    <tr>\n",
       "      <th>4</th>\n",
       "      <td>1610612744</td>\n",
       "      <td>0021700450</td>\n",
       "      <td>2017-12-18</td>\n",
       "      <td>GSW @ LAL</td>\n",
       "      <td>W</td>\n",
       "      <td>24</td>\n",
       "      <td>6</td>\n",
       "      <td>0.800</td>\n",
       "      <td>265</td>\n",
       "      <td>43</td>\n",
       "      <td>107</td>\n",
       "      <td>0.402</td>\n",
       "      <td>11</td>\n",
       "      <td>34</td>\n",
       "      <td>0.324</td>\n",
       "      <td>19</td>\n",
       "      <td>21</td>\n",
       "      <td>0.905</td>\n",
       "      <td>15</td>\n",
       "      <td>46</td>\n",
       "      <td>61</td>\n",
       "      <td>25</td>\n",
       "      <td>6</td>\n",
       "      <td>10</td>\n",
       "      <td>14</td>\n",
       "      <td>26</td>\n",
       "      <td>116</td>\n",
       "    </tr>\n",
       "  </tbody>\n",
       "</table>\n",
       "</div>"
      ],
      "text/plain": [
       "      Team_ID     Game_ID  GAME_DATE      MATCHUP WL   W  L  W_PCT  MIN  FGM  \\\n",
       "0  1610612744  0021700494 2017-12-25  GSW vs. CLE  W  27  7  0.794  240   38   \n",
       "1  1610612744  0021700489 2017-12-23  GSW vs. DEN  L  26  7  0.788  240   32   \n",
       "2  1610612744  0021700479 2017-12-22  GSW vs. LAL  W  26  6  0.813  240   42   \n",
       "3  1610612744  0021700464 2017-12-20  GSW vs. MEM  W  25  6  0.806  240   34   \n",
       "4  1610612744  0021700450 2017-12-18    GSW @ LAL  W  24  6  0.800  265   43   \n",
       "\n",
       "   FGA  FG_PCT  FG3M  FG3A  FG3_PCT  FTM  FTA  FT_PCT  OREB  DREB  REB  AST  \\\n",
       "0   82   0.463    10    37    0.270   13   17   0.765    10    37   47   28   \n",
       "1   83   0.386     3    27    0.111   14   17   0.824    11    27   38   25   \n",
       "2   85   0.494     7    24    0.292   22   27   0.815    10    32   42   24   \n",
       "3   74   0.459     7    21    0.333   22   25   0.880    14    30   44   26   \n",
       "4  107   0.402    11    34    0.324   19   21   0.905    15    46   61   25   \n",
       "\n",
       "   STL  BLK  TOV  PF  PTS  \n",
       "0    7    8   15  18   99  \n",
       "1   14    8   17  14   81  \n",
       "2    9   13   15  17  113  \n",
       "3    9    8   16  19   97  \n",
       "4    6   10   14  26  116  "
      ]
     },
     "execution_count": 4,
     "metadata": {},
     "output_type": "execute_result"
    }
   ],
   "source": [
    "team_games_log_df.head()"
   ]
  },
  {
   "cell_type": "code",
   "execution_count": 5,
   "metadata": {
    "collapsed": false
   },
   "outputs": [],
   "source": [
    "after2001_pows_df = dg.get_bbr_nickname_player_of_week_list()"
   ]
  },
  {
   "cell_type": "code",
   "execution_count": 6,
   "metadata": {
    "collapsed": false
   },
   "outputs": [
    {
     "data": {
      "text/html": [
       "<div>\n",
       "<style>\n",
       "    .dataframe thead tr:only-child th {\n",
       "        text-align: right;\n",
       "    }\n",
       "\n",
       "    .dataframe thead th {\n",
       "        text-align: left;\n",
       "    }\n",
       "\n",
       "    .dataframe tbody tr th {\n",
       "        vertical-align: top;\n",
       "    }\n",
       "</style>\n",
       "<table border=\"1\" class=\"dataframe\">\n",
       "  <thead>\n",
       "    <tr style=\"text-align: right;\">\n",
       "      <th></th>\n",
       "      <th>season</th>\n",
       "      <th>week</th>\n",
       "      <th>division</th>\n",
       "      <th>pow_name</th>\n",
       "      <th>REWARD_DATE</th>\n",
       "    </tr>\n",
       "  </thead>\n",
       "  <tbody>\n",
       "    <tr>\n",
       "      <th>0</th>\n",
       "      <td>2001-02</td>\n",
       "      <td>Nov 4</td>\n",
       "      <td>east</td>\n",
       "      <td>Ray Allen</td>\n",
       "      <td>2001-11-04</td>\n",
       "    </tr>\n",
       "    <tr>\n",
       "      <th>1</th>\n",
       "      <td>2001-02</td>\n",
       "      <td>Nov 4</td>\n",
       "      <td>west</td>\n",
       "      <td>Kobe Bryant</td>\n",
       "      <td>2001-11-04</td>\n",
       "    </tr>\n",
       "    <tr>\n",
       "      <th>2</th>\n",
       "      <td>2001-02</td>\n",
       "      <td>Nov 11</td>\n",
       "      <td>east</td>\n",
       "      <td>Vince Carter</td>\n",
       "      <td>2001-11-11</td>\n",
       "    </tr>\n",
       "    <tr>\n",
       "      <th>3</th>\n",
       "      <td>2001-02</td>\n",
       "      <td>Nov 11</td>\n",
       "      <td>west</td>\n",
       "      <td>Tim Duncan</td>\n",
       "      <td>2001-11-11</td>\n",
       "    </tr>\n",
       "    <tr>\n",
       "      <th>4</th>\n",
       "      <td>2001-02</td>\n",
       "      <td>Nov 18</td>\n",
       "      <td>east</td>\n",
       "      <td>Allen Iverson</td>\n",
       "      <td>2001-11-18</td>\n",
       "    </tr>\n",
       "  </tbody>\n",
       "</table>\n",
       "</div>"
      ],
      "text/plain": [
       "    season    week division       pow_name REWARD_DATE\n",
       "0  2001-02   Nov 4     east      Ray Allen  2001-11-04\n",
       "1  2001-02   Nov 4     west    Kobe Bryant  2001-11-04\n",
       "2  2001-02  Nov 11     east   Vince Carter  2001-11-11\n",
       "3  2001-02  Nov 11     west     Tim Duncan  2001-11-11\n",
       "4  2001-02  Nov 18     east  Allen Iverson  2001-11-18"
      ]
     },
     "execution_count": 6,
     "metadata": {},
     "output_type": "execute_result"
    }
   ],
   "source": [
    "after2001_pows_df.head()"
   ]
  },
  {
   "cell_type": "code",
   "execution_count": 7,
   "metadata": {
    "collapsed": false
   },
   "outputs": [
    {
     "data": {
      "text/html": [
       "<div>\n",
       "<style>\n",
       "    .dataframe thead tr:only-child th {\n",
       "        text-align: right;\n",
       "    }\n",
       "\n",
       "    .dataframe thead th {\n",
       "        text-align: left;\n",
       "    }\n",
       "\n",
       "    .dataframe tbody tr th {\n",
       "        vertical-align: top;\n",
       "    }\n",
       "</style>\n",
       "<table border=\"1\" class=\"dataframe\">\n",
       "  <thead>\n",
       "    <tr style=\"text-align: right;\">\n",
       "      <th></th>\n",
       "      <th>season</th>\n",
       "      <th>week</th>\n",
       "      <th>division</th>\n",
       "      <th>pow_name</th>\n",
       "      <th>REWARD_DATE</th>\n",
       "    </tr>\n",
       "  </thead>\n",
       "  <tbody>\n",
       "    <tr>\n",
       "      <th>0</th>\n",
       "      <td>1979-80</td>\n",
       "      <td>Oct 21</td>\n",
       "      <td></td>\n",
       "      <td>Julius Erving</td>\n",
       "      <td>1979-10-21</td>\n",
       "    </tr>\n",
       "    <tr>\n",
       "      <th>1</th>\n",
       "      <td>1979-80</td>\n",
       "      <td>Oct 28</td>\n",
       "      <td></td>\n",
       "      <td>Micheal Ray Richardson</td>\n",
       "      <td>1979-10-28</td>\n",
       "    </tr>\n",
       "    <tr>\n",
       "      <th>2</th>\n",
       "      <td>1979-80</td>\n",
       "      <td>Nov 4</td>\n",
       "      <td></td>\n",
       "      <td>Marques Johnson</td>\n",
       "      <td>1979-11-04</td>\n",
       "    </tr>\n",
       "    <tr>\n",
       "      <th>3</th>\n",
       "      <td>1979-80</td>\n",
       "      <td>Nov 11</td>\n",
       "      <td></td>\n",
       "      <td>Magic Johnson</td>\n",
       "      <td>1979-11-11</td>\n",
       "    </tr>\n",
       "    <tr>\n",
       "      <th>4</th>\n",
       "      <td>1979-80</td>\n",
       "      <td>Nov 18</td>\n",
       "      <td></td>\n",
       "      <td>Phil Ford</td>\n",
       "      <td>1979-11-18</td>\n",
       "    </tr>\n",
       "  </tbody>\n",
       "</table>\n",
       "</div>"
      ],
      "text/plain": [
       "    season    week division                pow_name REWARD_DATE\n",
       "0  1979-80  Oct 21                    Julius Erving  1979-10-21\n",
       "1  1979-80  Oct 28           Micheal Ray Richardson  1979-10-28\n",
       "2  1979-80   Nov 4                  Marques Johnson  1979-11-04\n",
       "3  1979-80  Nov 11                    Magic Johnson  1979-11-11\n",
       "4  1979-80  Nov 18                        Phil Ford  1979-11-18"
      ]
     },
     "execution_count": 7,
     "metadata": {},
     "output_type": "execute_result"
    }
   ],
   "source": [
    "before2001_pows_df = dg.get_bbr_nickname_player_of_week_list(after_2001=False)\n",
    "before2001_pows_df.head()"
   ]
  },
  {
   "cell_type": "code",
   "execution_count": 8,
   "metadata": {
    "collapsed": true
   },
   "outputs": [],
   "source": [
    "after2001_pows_df.to_csv(\"data/after2001_pows_list.csv\")\n",
    "before2001_pows_df.to_csv(\"data/before2001_pows_list.csv\")"
   ]
  },
  {
   "cell_type": "code",
   "execution_count": 9,
   "metadata": {
    "collapsed": false
   },
   "outputs": [
    {
     "name": "stderr",
     "output_type": "stream",
     "text": [
      "/Users/ccuulinay/PycharmProjects/nba_data/nba_analysis/data_getter.py:65: FutureWarning: convert_objects is deprecated.  Use the data-type specific converters pd.to_datetime, pd.to_timedelta and pd.to_numeric.\n",
      "  df = df.convert_objects(convert_numeric=True)\n"
     ]
    }
   ],
   "source": [
    "player_list_df, team_list_df = dg.get_all_players_n_teams_ids()"
   ]
  },
  {
   "cell_type": "code",
   "execution_count": 45,
   "metadata": {
    "collapsed": true
   },
   "outputs": [],
   "source": [
    "import datetime\n",
    "from tqdm import tqdm"
   ]
  },
  {
   "cell_type": "code",
   "execution_count": 46,
   "metadata": {
    "collapsed": false
   },
   "outputs": [],
   "source": [
    "def get_pow_diff_stat_df(pow_df, player_list_df):\n",
    "    diff_stat_values_list = []\n",
    "    for index,row in tqdm(after2001_pows_df.iterrows()):\n",
    "        player_name = row.pow_name\n",
    "        player = player_list_df[player_list_df.DISPLAY_FIRST_LAST == row.pow_name]\n",
    "        if len(player) == 0:\n",
    "            player_name = str(row.pow_name).replace(\".\",\"\")\n",
    "            player = player_list_df[player_list_df.DISPLAY_FIRST_LAST == player_name]\n",
    "            if len(player) == 0:\n",
    "                er = \"Invalid player name passed or there is no player with that name.\"\n",
    "                raise ValueError(er)\n",
    "        player_id = player_list_df[player_list_df.DISPLAY_FIRST_LAST == player_name].PERSON_ID.values[0]\n",
    "        b_begin_date = (row.REWARD_DATE - datetime.timedelta(days=7)).strftime('%m/%d/%Y')\n",
    "        b_end_date = row.REWARD_DATE.strftime('%m/%d/%Y')\n",
    "        l_begin_date = row.REWARD_DATE.strftime('%m/%d/%Y')\n",
    "        l_end_date = (row.REWARD_DATE + datetime.timedelta(days=7)).strftime('%m/%d/%Y')\n",
    "        player_season = row.season\n",
    "        \n",
    "        b_test_df = dg.get_player_games_log(player_id, begin_date=b_begin_date, end_date=b_end_date,season=player_season)\n",
    "        l_test_df = dg.get_player_games_log(player_id, begin_date=l_begin_date, end_date=l_end_date,season=player_season)\n",
    "        \n",
    "        stat_cols = [c for c in b_test_df.columns if not c.lower().endswith(\"_rank\")]\n",
    "        b_test_df = b_test_df[stat_cols]\n",
    "        l_test_df = l_test_df[stat_cols]\n",
    "        \n",
    "        stat_cols = list((l_test_df.iloc[:,10:].mean() - b_test_df.iloc[:,10:].mean()).index.values)\n",
    "        diff_stat_values = (l_test_df.iloc[:,10:].mean() - b_test_df.iloc[:,10:].mean()).values\n",
    "        \n",
    "        diff_stat_values_list.append(list(diff_stat_values))\n",
    "        # time.sleep(0.15)\n",
    "    diff_stat_df = pd.DataFrame(diff_stat_values_list, columns=stat_cols)\n",
    "    return diff_stat_df"
   ]
  },
  {
   "cell_type": "code",
   "execution_count": 47,
   "metadata": {
    "collapsed": false
   },
   "outputs": [
    {
     "name": "stderr",
     "output_type": "stream",
     "text": [
      "732it [20:47,  1.77s/it]\n"
     ]
    }
   ],
   "source": [
    "test_df = get_pow_diff_stat_df(after2001_pows_df, player_list_df)"
   ]
  },
  {
   "cell_type": "code",
   "execution_count": 56,
   "metadata": {
    "collapsed": false
   },
   "outputs": [],
   "source": [
    "test_df = test_df.add_prefix(\"stat_\")"
   ]
  },
  {
   "cell_type": "code",
   "execution_count": 57,
   "metadata": {
    "collapsed": false
   },
   "outputs": [
    {
     "name": "stdout",
     "output_type": "stream",
     "text": [
      "<class 'pandas.core.frame.DataFrame'>\n",
      "RangeIndex: 732 entries, 0 to 731\n",
      "Data columns (total 25 columns):\n",
      "stat_MIN                728 non-null float64\n",
      "stat_FGM                728 non-null float64\n",
      "stat_FGA                728 non-null float64\n",
      "stat_FG_PCT             728 non-null float64\n",
      "stat_FG3M               728 non-null float64\n",
      "stat_FG3A               728 non-null float64\n",
      "stat_FG3_PCT            728 non-null float64\n",
      "stat_FTM                728 non-null float64\n",
      "stat_FTA                728 non-null float64\n",
      "stat_FT_PCT             728 non-null float64\n",
      "stat_OREB               728 non-null float64\n",
      "stat_DREB               728 non-null float64\n",
      "stat_REB                728 non-null float64\n",
      "stat_AST                728 non-null float64\n",
      "stat_TOV                728 non-null float64\n",
      "stat_STL                728 non-null float64\n",
      "stat_BLK                728 non-null float64\n",
      "stat_BLKA               728 non-null float64\n",
      "stat_PF                 728 non-null float64\n",
      "stat_PFD                728 non-null float64\n",
      "stat_PTS                728 non-null float64\n",
      "stat_PLUS_MINUS         728 non-null float64\n",
      "stat_NBA_FANTASY_PTS    728 non-null float64\n",
      "stat_DD2                728 non-null float64\n",
      "stat_TD3                728 non-null float64\n",
      "dtypes: float64(25)\n",
      "memory usage: 143.0 KB\n"
     ]
    }
   ],
   "source": [
    "test_df.info()"
   ]
  },
  {
   "cell_type": "code",
   "execution_count": 50,
   "metadata": {
    "collapsed": false
   },
   "outputs": [
    {
     "name": "stdout",
     "output_type": "stream",
     "text": [
      "<class 'pandas.core.frame.DataFrame'>\n",
      "RangeIndex: 732 entries, 0 to 731\n",
      "Data columns (total 5 columns):\n",
      "season         732 non-null object\n",
      "week           732 non-null object\n",
      "division       732 non-null object\n",
      "pow_name       732 non-null object\n",
      "REWARD_DATE    732 non-null datetime64[ns]\n",
      "dtypes: datetime64[ns](1), object(4)\n",
      "memory usage: 28.7+ KB\n"
     ]
    }
   ],
   "source": [
    "after2001_pows_df.info()"
   ]
  },
  {
   "cell_type": "code",
   "execution_count": 58,
   "metadata": {
    "collapsed": false
   },
   "outputs": [],
   "source": [
    "diff_stat_df = pd.concat([after2001_pows_df, test_df], axis=1)"
   ]
  },
  {
   "cell_type": "code",
   "execution_count": 60,
   "metadata": {
    "collapsed": false
   },
   "outputs": [],
   "source": [
    "diff_stat_df.to_csv(\"data/pows_diff_stat_by_20171225.csv\")"
   ]
  },
  {
   "cell_type": "code",
   "execution_count": 65,
   "metadata": {
    "collapsed": false
   },
   "outputs": [],
   "source": [
    "# ax = diff_stat_df.plot()\n",
    "# ax.axhline(kind=\"barh\",y=\"stat_NBA_FANTASY_PTS\", x=\"REWARD_DATE\", color='r', linestyle='--')\n",
    "import matplotlib\n",
    "%matplotlib inline\n"
   ]
  },
  {
   "cell_type": "code",
   "execution_count": 77,
   "metadata": {
    "collapsed": false
   },
   "outputs": [
    {
     "data": {
      "image/png": "[encoded data removed]",
      "text/plain": [
       "<matplotlib.figure.Figure at 0x11b86cc88>"
      ]
     },
     "metadata": {},
     "output_type": "display_data"
    }
   ],
   "source": [
    "ax = diff_stat_df[diff_stat_df.REWARD_DATE > \"2017-01-01\"].plot(\n",
    "    figsize=(10,16),y='stat_NBA_FANTASY_PTS',x=['REWARD_DATE','pow_name'], kind='barh',\n",
    "    title='NBA fantasy point difference from 1w before POW to 1w later later'\n",
    ")\n",
    "# for b in ax.patches:\n",
    "#     ax.annotate(\"x\")"
   ]
  },
  {
   "cell_type": "code",
   "execution_count": null,
   "metadata": {
    "collapsed": true
   },
   "outputs": [],
   "source": []
  }
 ],
 "metadata": {
  "kernelspec": {
   "display_name": "Python 3",
   "language": "python",
   "name": "python3"
  },
  "language_info": {
   "codemirror_mode": {
    "name": "ipython",
    "version": 3
   },
   "file_extension": ".py",
   "mimetype": "text/x-python",
   "name": "python",
   "nbconvert_exporter": "python",
   "pygments_lexer": "ipython3",
   "version": "3.6.0"
  }
 },
 "nbformat": 4,
 "nbformat_minor": 2
}
